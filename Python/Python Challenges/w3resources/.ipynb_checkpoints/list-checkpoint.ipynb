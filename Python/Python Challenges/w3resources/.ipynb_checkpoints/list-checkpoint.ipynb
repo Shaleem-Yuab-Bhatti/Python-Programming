{
 "cells": [
  {
   "cell_type": "code",
   "execution_count": 2,
   "metadata": {},
   "outputs": [
    {
     "name": "stdout",
     "output_type": "stream",
     "text": [
      "[5, 8, 9]\n"
     ]
    }
   ],
   "source": [
    "l1 = [1,2,3,4,6,7,10]\n",
    "l2 = list(range(1,(l1[-1])+1))\n",
    "print([i for i in l2 if i not in l1])"
   ]
  },
  {
   "cell_type": "code",
   "execution_count": 4,
   "metadata": {},
   "outputs": [
    {
     "name": "stdout",
     "output_type": "stream",
     "text": [
      "1 2\n",
      "2 3\n",
      "3 4\n",
      "4 1\n"
     ]
    }
   ],
   "source": [
    "l = [1,2,3,4]\n",
    "f = l[0]\n",
    "for i in range(1,len(l)):\n",
    "    print(f,l[i])\n",
    "    if i >= 1:\n",
    "        f = l[i]\n",
    "    if l[i] == l[-1]:\n",
    "        f = l[0]\n",
    "        print(l[-1],f)"
   ]
  },
  {
   "cell_type": "code",
   "execution_count": 10,
   "metadata": {},
   "outputs": [
    {
     "name": "stdout",
     "output_type": "stream",
     "text": [
      "[1, 3, 4, 2, 6, 0, 0, 0]\n"
     ]
    }
   ],
   "source": [
    "l = [1,0,3,4,0,2,6,0]\n",
    "count_zero = 0\n",
    "for i in l:\n",
    "    if i is 0:\n",
    "        l.remove(i)\n",
    "        count_zero += 1\n",
    "l.extend(count_zero * [0])\n",
    "print(l)"
   ]
  },
  {
   "cell_type": "code",
   "execution_count": 2,
   "metadata": {},
   "outputs": [
    {
     "name": "stdout",
     "output_type": "stream",
     "text": [
      "ac\n",
      "ad\n",
      "bc\n",
      "bd\n"
     ]
    }
   ],
   "source": [
    "l1 = ['a','b']\n",
    "l2 = ['c','d']\n",
    "f_e = l1[0]\n",
    "for i in range(len(l1)):\n",
    "    for j in l2:\n",
    "        print(f_e + j)\n",
    "    f_e = l1[1]"
   ]
  }
 ],
 "metadata": {
  "kernelspec": {
   "display_name": "Python 3",
   "language": "python",
   "name": "python3"
  },
  "language_info": {
   "codemirror_mode": {
    "name": "ipython",
    "version": 3
   },
   "file_extension": ".py",
   "mimetype": "text/x-python",
   "name": "python",
   "nbconvert_exporter": "python",
   "pygments_lexer": "ipython3",
   "version": "3.7.3"
  }
 },
 "nbformat": 4,
 "nbformat_minor": 2
}
