{
 "cells": [
  {
   "cell_type": "markdown",
   "metadata": {},
   "source": [
    "14. Write a Python program that accepts a string and calculate the number of digits and letters. Go to the editor\n",
    "\n"
   ]
  },
  {
   "cell_type": "raw",
   "metadata": {},
   "source": [
    "Sample Data : Python 3.2\n",
    "Expected Output :\n",
    "Letters 6\n",
    "Digits 2"
   ]
  },
  {
   "cell_type": "code",
   "execution_count": 5,
   "metadata": {},
   "outputs": [],
   "source": [
    "# string = \"Python 3.2\"\n",
    "# for char in string:\n",
    "#     if int(char) == int:\n",
    "#         digits = string.count(char)\n",
    "#     else:\n",
    "#         letters = string.count(char)\n",
    "# print(digits)\n",
    "# print(letters)"
   ]
  },
  {
   "cell_type": "markdown",
   "metadata": {},
   "source": [
    "41. Write a Python program to get next day of a given date. Go to the editor\n",
    "Expected Output:\n",
    "\n"
   ]
  },
  {
   "cell_type": "raw",
   "metadata": {},
   "source": [
    "Input a year: 2016                                                      \n",
    "Input a month [1-12]: 08                                                \n",
    "Input a day [1-31]: 23                                                  \n",
    "The next date is [yyyy-mm-dd] 2016-8-24  "
   ]
  },
  {
   "cell_type": "code",
   "execution_count": 8,
   "metadata": {},
   "outputs": [
    {
     "name": "stdout",
     "output_type": "stream",
     "text": [
      "Input year  2020\n",
      "Input month [1-12]:04\n",
      "Input day [1-31]:17\n",
      "The next date is [yyyy-mm-dd] 2020-4-18\n"
     ]
    }
   ],
   "source": [
    "year = int(input(\"Input year  \"))\n",
    "month = int(input(\"Input month [1-12]:\"))\n",
    "day = int(input(\"Input day [1-31]:\"))\n",
    "print(f\"The next date is [yyyy-mm-dd] {year}-{month}-{day+1}\")"
   ]
  },
  {
   "cell_type": "markdown",
   "metadata": {},
   "source": [
    "32. Write a Python program to check whether an alphabet is a vowel or consonant. Go to the editor\n"
   ]
  },
  {
   "cell_type": "raw",
   "metadata": {},
   "source": [
    "Expected Output:\n",
    "\n",
    "Input a letter of the alphabet: k                                       \n",
    "k is a consonant."
   ]
  },
  {
   "cell_type": "code",
   "execution_count": 30,
   "metadata": {},
   "outputs": [
    {
     "name": "stdout",
     "output_type": "stream",
     "text": [
      "Enter a letter : K\n",
      "K is a Consonant.\n"
     ]
    }
   ],
   "source": [
    "letter = input(\"Enter a letter : \")\n",
    "vowels = ['a','e','i','o','u']\n",
    "if letter.lower() in vowels:\n",
    "    print(f\"{letter} is a Vowel\")\n",
    "else:\n",
    "    print(f\"{letter} is a Consonant.\")"
   ]
  },
  {
   "cell_type": "code",
   "execution_count": null,
   "metadata": {},
   "outputs": [],
   "source": []
  }
 ],
 "metadata": {
  "kernelspec": {
   "display_name": "Python 3",
   "language": "python",
   "name": "python3"
  },
  "language_info": {
   "codemirror_mode": {
    "name": "ipython",
    "version": 3
   },
   "file_extension": ".py",
   "mimetype": "text/x-python",
   "name": "python",
   "nbconvert_exporter": "python",
   "pygments_lexer": "ipython3",
   "version": "3.7.3"
  }
 },
 "nbformat": 4,
 "nbformat_minor": 2
}
