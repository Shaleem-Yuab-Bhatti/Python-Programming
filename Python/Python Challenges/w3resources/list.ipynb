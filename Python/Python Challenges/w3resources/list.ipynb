{
 "cells": [
  {
   "cell_type": "code",
   "execution_count": 2,
   "metadata": {},
   "outputs": [
    {
     "name": "stdout",
     "output_type": "stream",
     "text": [
      "[5, 8, 9]\n"
     ]
    }
   ],
   "source": [
    "l1 = [1,2,3,4,6,7,10]\n",
    "l2 = list(range(1,(l1[-1])+1))\n",
    "print([i for i in l2 if i not in l1])"
   ]
  },
  {
   "cell_type": "code",
   "execution_count": 4,
   "metadata": {},
   "outputs": [
    {
     "name": "stdout",
     "output_type": "stream",
     "text": [
      "1 2\n",
      "2 3\n",
      "3 4\n",
      "4 1\n"
     ]
    }
   ],
   "source": [
    "l = [1,2,3,4]\n",
    "f = l[0]\n",
    "for i in range(1,len(l)):\n",
    "    print(f,l[i])\n",
    "    if i >= 1:\n",
    "        f = l[i]\n",
    "    if l[i] == l[-1]:\n",
    "        f = l[0]\n",
    "        print(l[-1],f)"
   ]
  },
  {
   "cell_type": "code",
   "execution_count": null,
   "metadata": {},
   "outputs": [],
   "source": []
  }
 ],
 "metadata": {
  "kernelspec": {
   "display_name": "Python 3",
   "language": "python",
   "name": "python3"
  }
 },
 "nbformat": 4,
 "nbformat_minor": 2
}
