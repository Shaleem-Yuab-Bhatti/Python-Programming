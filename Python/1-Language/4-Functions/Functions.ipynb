{
 "cells": [
  {
   "cell_type": "markdown",
   "metadata": {},
   "source": [
    "# Functions"
   ]
  },
  {
   "cell_type": "code",
   "execution_count": 22,
   "metadata": {},
   "outputs": [
    {
     "name": "stdout",
     "output_type": "stream",
     "text": [
      "5\n"
     ]
    }
   ],
   "source": [
    "def greater(a,b):\n",
    "    if a > b:\n",
    "        return a\n",
    "    return b\n",
    "print(greater(4,5))"
   ]
  },
  {
   "cell_type": "code",
   "execution_count": 25,
   "metadata": {},
   "outputs": [
    {
     "name": "stdout",
     "output_type": "stream",
     "text": [
      "121\n"
     ]
    }
   ],
   "source": [
    "def greatest(a,b,c):\n",
    "    if a<c and b<c:\n",
    "        return c\n",
    "    elif c<a and b<a:\n",
    "        return a\n",
    "    else:\n",
    "        return b\n",
    "print(greatest(121,24,56))"
   ]
  },
  {
   "cell_type": "markdown",
   "metadata": {},
   "source": [
    "# Exercise 2"
   ]
  },
  {
   "cell_type": "markdown",
   "metadata": {},
   "source": [
    "Tutorial 73"
   ]
  },
  {
   "cell_type": "markdown",
   "metadata": {},
   "source": [
    "palindrom problem"
   ]
  },
  {
   "cell_type": "code",
   "execution_count": 1,
   "metadata": {},
   "outputs": [
    {
     "name": "stdout",
     "output_type": "stream",
     "text": [
      "False\n"
     ]
    }
   ],
   "source": [
    "def palindrome(p):\n",
    "    return p == p[::-1]    \n",
    "print(palindrome('shaleem'))"
   ]
  },
  {
   "cell_type": "code",
   "execution_count": 1,
   "metadata": {},
   "outputs": [
    {
     "name": "stdout",
     "output_type": "stream",
     "text": [
      "[1, 4, 9, 16]\n"
     ]
    }
   ],
   "source": [
    "def fun(l):\n",
    "    em = []\n",
    "    for i in l:\n",
    "        em.append(i**2)\n",
    "    return em\n",
    "li = [1,2,3,4]\n",
    "print(fun(li))"
   ]
  },
  {
   "cell_type": "markdown",
   "metadata": {},
   "source": [
    "Default Parameters"
   ]
  },
  {
   "cell_type": "code",
   "execution_count": 13,
   "metadata": {},
   "outputs": [
    {
     "name": "stdout",
     "output_type": "stream",
     "text": [
      "shaleem\n",
      "yuab bhatti\n",
      "22\n"
     ]
    }
   ],
   "source": [
    "def info(f_name,l_name,age=21):\n",
    "    print(f_name)\n",
    "    print(l_name)\n",
    "    print(age)\n",
    "info('shaleem','yuab bhatti',22)"
   ]
  },
  {
   "cell_type": "markdown",
   "metadata": {},
   "source": [
    "if you want to default the parameter that should be at last"
   ]
  },
  {
   "cell_type": "code",
   "execution_count": 25,
   "metadata": {},
   "outputs": [
    {
     "ename": "SyntaxError",
     "evalue": "non-default argument follows default argument (<ipython-input-25-e8df0fc92b2b>, line 1)",
     "output_type": "error",
     "traceback": [
      "\u001b[1;36m  File \u001b[1;32m\"<ipython-input-25-e8df0fc92b2b>\"\u001b[1;36m, line \u001b[1;32m1\u001b[0m\n\u001b[1;33m    def info(f_name,l_name=\"unknown\",age):\u001b[0m\n\u001b[1;37m            ^\u001b[0m\n\u001b[1;31mSyntaxError\u001b[0m\u001b[1;31m:\u001b[0m non-default argument follows default argument\n"
     ]
    }
   ],
   "source": [
    "def info(f_name,l_name=\"unknown\",age):\n",
    "    print(f_name)\n",
    "    print(l_name)\n",
    "    print(age)\n",
    "info('shaleem',22) #error because l_name has default and \n",
    "#                  l_name is taking 22 but age is taking nothing \n",
    "# thats why error occur"
   ]
  },
  {
   "cell_type": "code",
   "execution_count": 59,
   "metadata": {},
   "outputs": [
    {
     "name": "stdout",
     "output_type": "stream",
     "text": [
      "shaleem\n",
      "22\n",
      "bhatti\n"
     ]
    }
   ],
   "source": [
    "def info(f_name,l_name=None,age=\"yb\",):\n",
    "    print(f_name)\n",
    "    print(l_name)\n",
    "    print(age)\n",
    "info('shaleem',22,\"bhatti\") \n",
    "# positonal argument and optional argument"
   ]
  },
  {
   "cell_type": "markdown",
   "metadata": {},
   "source": [
    "Scope"
   ]
  },
  {
   "cell_type": "code",
   "execution_count": 73,
   "metadata": {},
   "outputs": [
    {
     "name": "stdout",
     "output_type": "stream",
     "text": [
      "5\n",
      "3\n"
     ]
    }
   ],
   "source": [
    "x = 3\n",
    "def scope():\n",
    "    x = 5\n",
    "    return x\n",
    "print(scope()) \n",
    "print(x)\n",
    "# you see value of x is not changed when we wrote it inside function\n",
    "# because x=3 is global and the var declared in function is local\n",
    "# so the scope of x defined in function is limited to function\n",
    "# to change its value from fun we have to tell that "
   ]
  },
  {
   "cell_type": "code",
   "execution_count": 79,
   "metadata": {},
   "outputs": [
    {
     "name": "stdout",
     "output_type": "stream",
     "text": [
      "5\n",
      "5\n"
     ]
    }
   ],
   "source": [
    "x = 3\n",
    "def scope():\n",
    "    global x\n",
    "    x = 5\n",
    "    return x\n",
    "# now x=3 will become x=5 after call of function\n",
    "print(scope())\n",
    "print(x)"
   ]
  },
  {
   "cell_type": "code",
   "execution_count": 81,
   "metadata": {},
   "outputs": [
    {
     "name": "stdout",
     "output_type": "stream",
     "text": [
      "3\n",
      "5\n",
      "5\n"
     ]
    }
   ],
   "source": [
    "x = 3\n",
    "def scope():\n",
    "    global x\n",
    "    x = 5\n",
    "    return x\n",
    "# now x=3 will become x=5 after call of function\n",
    "# but if we print it before calling function it will print the global\n",
    "# x see below 3. because the global x's value would be changed after\n",
    "# function is called but if we print its value before calling it\n",
    "# will remain the same\n",
    "\n",
    "print(x)\n",
    "print(scope())\n",
    "print(x)\n",
    "# but "
   ]
  },
  {
   "cell_type": "code",
   "execution_count": null,
   "metadata": {},
   "outputs": [],
   "source": []
  }
 ],
 "metadata": {
  "kernelspec": {
   "display_name": "Python 3",
   "language": "python",
   "name": "python3"
  },
  "language_info": {
   "codemirror_mode": {
    "name": "ipython",
    "version": 3
   },
   "file_extension": ".py",
   "mimetype": "text/x-python",
   "name": "python",
   "nbconvert_exporter": "python",
   "pygments_lexer": "ipython3",
   "version": "3.7.3"
  }
 },
 "nbformat": 4,
 "nbformat_minor": 2
}
