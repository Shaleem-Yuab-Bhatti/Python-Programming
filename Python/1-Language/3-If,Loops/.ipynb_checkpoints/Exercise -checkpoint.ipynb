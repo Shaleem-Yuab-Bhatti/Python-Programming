{
 "cells": [
  {
   "cell_type": "markdown",
   "metadata": {},
   "source": [
    "# Exercise 1"
   ]
  },
  {
   "cell_type": "markdown",
   "metadata": {},
   "source": [
    "Tutorial 38"
   ]
  },
  {
   "cell_type": "markdown",
   "metadata": {},
   "source": [
    "Number Guessing Game"
   ]
  },
  {
   "cell_type": "code",
   "execution_count": null,
   "metadata": {},
   "outputs": [],
   "source": [
    "num = 32\n",
    "user = int(input('Enter a number '))\n",
    "if user == 32:\n",
    "    print('congrats !!! you win')\n",
    "elif user > 32:\n",
    "    print('to high')\n",
    "elif user < 32:\n",
    "    print('too low')"
   ]
  },
  {
   "cell_type": "code",
   "execution_count": 3,
   "metadata": {},
   "outputs": [
    {
     "name": "stdout",
     "output_type": "stream",
     "text": [
      "Enter a number 32\n",
      "congrats !!! you win\n"
     ]
    }
   ],
   "source": [
    "#   another method   Nested if else\n",
    "num = 32\n",
    "user = int(input('Enter a number '))\n",
    "if user == 32:\n",
    "    print('congrats !!! you win')\n",
    "else:\n",
    "    if user > 32:\n",
    "        print('two high')\n",
    "    else:\n",
    "        print('two low')"
   ]
  },
  {
   "cell_type": "markdown",
   "metadata": {},
   "source": [
    "# Exercise 2"
   ]
  },
  {
   "cell_type": "markdown",
   "metadata": {},
   "source": [
    "Tutorial 41"
   ]
  },
  {
   "cell_type": "markdown",
   "metadata": {},
   "source": [
    "Ask user name and age if user's age is greater than 10 and its name start with a or A than it can watch coco movie otherwist it is not eligible"
   ]
  },
  {
   "cell_type": "code",
   "execution_count": 7,
   "metadata": {},
   "outputs": [
    {
     "name": "stdout",
     "output_type": "stream",
     "text": [
      "Enter name ashir\n",
      "Enter age 19\n",
      "you are eligible to watch coco movie\n"
     ]
    }
   ],
   "source": [
    "name = input('Enter name ')\n",
    "age = int(input('Enter age '))\n",
    "if name.lower().startswith('a') and age >=10:\n",
    "    print('you are eligible to watch coco movie')\n",
    "else:\n",
    "    print('sorry you are not eligible')"
   ]
  },
  {
   "cell_type": "markdown",
   "metadata": {},
   "source": [
    "# Exercise 3"
   ]
  },
  {
   "cell_type": "markdown",
   "metadata": {},
   "source": [
    "Tutorial 48"
   ]
  },
  {
   "cell_type": "markdown",
   "metadata": {},
   "source": [
    "Ask a user for natural number and print out the sum of natural number."
   ]
  },
  {
   "cell_type": "code",
   "execution_count": 22,
   "metadata": {},
   "outputs": [
    {
     "name": "stdout",
     "output_type": "stream",
     "text": [
      "Enter a number 5\n",
      "15\n"
     ]
    }
   ],
   "source": [
    "num = int(input('Enter a number '))\n",
    "count = 0\n",
    "i = 1\n",
    "while i <= num:\n",
    "    count += i\n",
    "    i += 1\n",
    "print(count)"
   ]
  },
  {
   "cell_type": "markdown",
   "metadata": {},
   "source": [
    "# Exercise 4"
   ]
  },
  {
   "cell_type": "markdown",
   "metadata": {},
   "source": [
    "Tutorial 50"
   ]
  },
  {
   "cell_type": "markdown",
   "metadata": {},
   "source": [
    "Ask user to input a number contining more than 1 digit\n",
    "examplt 1256\n",
    "calculate  1 + 2 + 5 + 6"
   ]
  },
  {
   "cell_type": "code",
   "execution_count": 2,
   "metadata": {},
   "outputs": [
    {
     "name": "stdout",
     "output_type": "stream",
     "text": [
      "Enter number 1256\n",
      "14\n"
     ]
    }
   ],
   "source": [
    "number = input('Enter number ')\n",
    "count = 0\n",
    "i =  0\n",
    "while i < len(number):\n",
    "    count += int(number[i])\n",
    "    i += 1\n",
    "print(count)"
   ]
  },
  {
   "cell_type": "code",
   "execution_count": 5,
   "metadata": {},
   "outputs": [
    {
     "name": "stdout",
     "output_type": "stream",
     "text": [
      "Enter number 1256\n",
      "14\n"
     ]
    }
   ],
   "source": [
    "number = input('Enter number ')\n",
    "count = 0\n",
    "for i in number:\n",
    "    count += int(i)\n",
    "print(count)"
   ]
  },
  {
   "cell_type": "markdown",
   "metadata": {},
   "source": [
    "# Exercise 5"
   ]
  },
  {
   "cell_type": "markdown",
   "metadata": {},
   "source": [
    "Tutorial 58"
   ]
  },
  {
   "cell_type": "markdown",
   "metadata": {},
   "source": [
    "Ask user name and count each character"
   ]
  },
  {
   "cell_type": "code",
   "execution_count": null,
   "metadata": {},
   "outputs": [],
   "source": [
    "user_name = input(\"Enter your name : \")\n",
    "var_temp  = \" \"\n",
    "for i in user_name:\n",
    "    if i not in var_temp:\n",
    "        print(f\"{i} : {user_name.count(i)}\")\n",
    "        var_temp += i"
   ]
  },
  {
   "cell_type": "markdown",
   "metadata": {},
   "source": [
    "# Exercise 6"
   ]
  },
  {
   "cell_type": "markdown",
   "metadata": {},
   "source": [
    "Tutorial 60"
   ]
  },
  {
   "cell_type": "code",
   "execution_count": 6,
   "metadata": {
    "scrolled": true
   },
   "outputs": [
    {
     "name": "stdout",
     "output_type": "stream",
     "text": [
      "Guess a number between 1 and 100 : 23\n",
      "too high\n",
      "Guess a number between 1 and 100 : 12\n",
      "too low\n",
      "Guess a number between 1 and 100 : 15\n",
      "too high\n",
      "Guess a number between 1 and 100 : 14\n",
      "😃 you win 😃\n",
      "you won in 4 Times\n"
     ]
    }
   ],
   "source": [
    "import random\n",
    "n = random.randint(1,100)\n",
    "game_over = False\n",
    "count_times = 1\n",
    "while not game_over:\n",
    "    number = int(input(\"Guess a number between 1 and 100 : \"))\n",
    "    if number == n:\n",
    "        print(\"\\U0001F603 you win \\U0001F603\")\n",
    "        print(f\"you won in {count_times} Times\")\n",
    "        game_over = True\n",
    "    else:\n",
    "        if number > n:\n",
    "            print(\"too high\")\n",
    "        else:\n",
    "            print(\"too low\")\n",
    "    count_times += 1"
   ]
  },
  {
   "cell_type": "code",
   "execution_count": 12,
   "metadata": {},
   "outputs": [
    {
     "name": "stdout",
     "output_type": "stream",
     "text": [
      "Guess a number between 1 and 100 : 23\n",
      "too low\n",
      "guess again : 45\n",
      "too high\n",
      "guess again : 40\n",
      "too low\n",
      "guess again : 44\n",
      "😃 you win 😃\n",
      "you won in 4 Times\n"
     ]
    }
   ],
   "source": [
    "import random\n",
    "n = random.randint(1,100)\n",
    "number = int(input(\"Guess a number between 1 and 100 : \"))\n",
    "game_over = False\n",
    "count_times = 1\n",
    "while not game_over:\n",
    "    if number == n:\n",
    "        print(\"\\U0001F603 you win \\U0001F603\")\n",
    "        print(f\"you Guess in {count_times} Times\")\n",
    "        game_over = True\n",
    "    else:\n",
    "        if number > n:\n",
    "            print(\"too high\")\n",
    "        else:\n",
    "            print(\"too low\")\n",
    "        count_times += 1\n",
    "        number = int(input(\"guess again : \"))"
   ]
  }
 ],
 "metadata": {
  "kernelspec": {
   "display_name": "Python 3",
   "language": "python",
   "name": "python3"
  },
  "language_info": {
   "codemirror_mode": {
    "name": "ipython",
    "version": 3
   },
   "file_extension": ".py",
   "mimetype": "text/x-python",
   "name": "python",
   "nbconvert_exporter": "python",
   "pygments_lexer": "ipython3",
   "version": "3.7.3"
  }
 },
 "nbformat": 4,
 "nbformat_minor": 2
}
