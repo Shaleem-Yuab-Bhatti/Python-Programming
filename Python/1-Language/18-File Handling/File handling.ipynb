{
 "cells": [
  {
   "cell_type": "code",
   "execution_count": 38,
   "metadata": {},
   "outputs": [],
   "source": [
    "from csv import writer\n",
    "with open(r'a.csv','w',newline='') as r:\n",
    "    data = writer(r)\n",
    "    data.writerows([['bhatti','germany'],\n",
    "                    ['shaleem','pak'],\n",
    "                    ['yuab','taiwan'],\n",
    "                   ['mony','japan']])"
   ]
  },
  {
   "cell_type": "markdown",
   "metadata": {},
   "source": [
    "DictWriter mai humain field name likhna bohat zaroori hai ku k es say pta chly ga k headings kya hai info kya hain aur es ka aik method hai writeheader jo k headers ko write kry ga"
   ]
  },
  {
   "cell_type": "code",
   "execution_count": 48,
   "metadata": {},
   "outputs": [],
   "source": [
    "from csv import DictWriter\n",
    "with open(r'a.csv','w',newline='') as f:\n",
    "    obj = DictWriter(f,fieldnames = ['name','age','hobbies'])\n",
    "    obj.writeheader()\n",
    "    obj.writerows([\n",
    "    {'name':'shaleem','age' : 21,'hobbies': 'coding' },\n",
    "    {'name' : 'yuab','age' : 21,'hobbies' : 'coding'},\n",
    "    {'name' : 'bhatti','age' : 21,'hobbies' : 'coding'},\n",
    "    ])"
   ]
  },
  {
   "cell_type": "markdown",
   "metadata": {},
   "source": [
    "# os module"
   ]
  },
  {
   "cell_type": "code",
   "execution_count": 90,
   "metadata": {},
   "outputs": [],
   "source": [
    "import os \n",
    "os.mkdir(r'E:\\my_python')\n",
    "open(r'E:\\my_python\\dir.txt',)"
   ]
  },
  {
   "cell_type": "code",
   "execution_count": 61,
   "metadata": {
    "scrolled": true
   },
   "outputs": [
    {
     "name": "stdout",
     "output_type": "stream",
     "text": [
      "please Enter folder path : E:\\new_vids\n"
     ]
    },
    {
     "ename": "FileExistsError",
     "evalue": "[WinError 183] Cannot create a file when that file already exists: 'E:\\\\new_vids\\\\audio'",
     "output_type": "error",
     "traceback": [
      "\u001b[1;31m---------------------------------------------------------------------------\u001b[0m",
      "\u001b[1;31mFileExistsError\u001b[0m                           Traceback (most recent call last)",
      "\u001b[1;32m<ipython-input-61-4b198a5dd875>\u001b[0m in \u001b[0;36m<module>\u001b[1;34m\u001b[0m\n\u001b[0;32m     18\u001b[0m     \u001b[0mfolder_name\u001b[0m \u001b[1;33m=\u001b[0m \u001b[0md_type\u001b[0m \u001b[1;31m# key\u001b[0m\u001b[1;33m\u001b[0m\u001b[1;33m\u001b[0m\u001b[0m\n\u001b[0;32m     19\u001b[0m     \u001b[0mfolder_path\u001b[0m \u001b[1;33m=\u001b[0m \u001b[0mos\u001b[0m\u001b[1;33m.\u001b[0m\u001b[0mpath\u001b[0m\u001b[1;33m.\u001b[0m\u001b[0mjoin\u001b[0m\u001b[1;33m(\u001b[0m\u001b[0mfolderpath\u001b[0m\u001b[1;33m,\u001b[0m\u001b[0mfolder_name\u001b[0m\u001b[1;33m)\u001b[0m\u001b[1;33m\u001b[0m\u001b[1;33m\u001b[0m\u001b[0m\n\u001b[1;32m---> 20\u001b[1;33m     \u001b[0mos\u001b[0m\u001b[1;33m.\u001b[0m\u001b[0mmkdir\u001b[0m\u001b[1;33m(\u001b[0m\u001b[0mfolder_path\u001b[0m\u001b[1;33m)\u001b[0m\u001b[1;33m\u001b[0m\u001b[1;33m\u001b[0m\u001b[0m\n\u001b[0m\u001b[0;32m     21\u001b[0m     \u001b[1;32mfor\u001b[0m \u001b[0mitem\u001b[0m \u001b[1;32min\u001b[0m \u001b[0mfile_finder\u001b[0m\u001b[1;33m(\u001b[0m\u001b[0mfolderpath\u001b[0m\u001b[1;33m,\u001b[0m\u001b[0mext\u001b[0m\u001b[1;33m)\u001b[0m\u001b[1;33m:\u001b[0m\u001b[1;33m\u001b[0m\u001b[1;33m\u001b[0m\u001b[0m\n\u001b[0;32m     22\u001b[0m         \u001b[0mprint\u001b[0m\u001b[1;33m(\u001b[0m\u001b[0mitem\u001b[0m\u001b[1;33m)\u001b[0m\u001b[1;33m\u001b[0m\u001b[1;33m\u001b[0m\u001b[0m\n",
      "\u001b[1;31mFileExistsError\u001b[0m: [WinError 183] Cannot create a file when that file already exists: 'E:\\\\new_vids\\\\audio'"
     ]
    }
   ],
   "source": [
    "import shutil\n",
    "import os\n",
    "f_extension = {\n",
    "    'audio' : ('.mp3','.m4a','.wav','.flac'),\n",
    "    'video' : ('.mp4','.mkv','.MKV','.flv','mpeg'),\n",
    "    'document' : ('.pdf','.doc','.txt')\n",
    "}\n",
    "def file_finder(folder_path,extensions):\n",
    "    empty = []\n",
    "    for file in os.listdir(folder_path):\n",
    "        for extension in extensions:\n",
    "            if file.endswith(extension):\n",
    "                empty.append(file)\n",
    "    return empty\n",
    "folderpath = input(\"please Enter folder path : \")\n",
    "#   key   , value\n",
    "for d_type,ext in f_extension.items():\n",
    "    folder_name = d_type # key\n",
    "    folder_path = os.path.join(folderpath,folder_name)\n",
    "    os.mkdir(folder_path)\n",
    "    for item in file_finder(folderpath,ext):\n",
    "#         item_path = os.path.join(folderpath,item)\n",
    "#         new_path = os.path.join(folder_path,item)\n",
    "#         shutil.move(item_path,new_path)"
   ]
  },
  {
   "cell_type": "code",
   "execution_count": null,
   "metadata": {},
   "outputs": [],
   "source": []
  }
 ],
 "metadata": {
  "kernelspec": {
   "display_name": "Python 3",
   "language": "python",
   "name": "python3"
  },
  "language_info": {
   "codemirror_mode": {
    "name": "ipython",
    "version": 3
   },
   "file_extension": ".py",
   "mimetype": "text/x-python",
   "name": "python",
   "nbconvert_exporter": "python",
   "pygments_lexer": "ipython3",
   "version": "3.7.3"
  }
 },
 "nbformat": 4,
 "nbformat_minor": 2
}
