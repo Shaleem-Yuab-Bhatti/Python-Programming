{
 "cells": [
  {
   "cell_type": "code",
   "execution_count": 38,
   "metadata": {},
   "outputs": [],
   "source": [
    "from csv import writer\n",
    "with open(r'a.csv','w',newline='') as r:\n",
    "    data = writer(r)\n",
    "    data.writerows([['bhatti','germany'],\n",
    "                    ['shaleem','pak'],\n",
    "                    ['yuab','taiwan'],\n",
    "                   ['mony','japan']])"
   ]
  },
  {
   "cell_type": "markdown",
   "metadata": {},
   "source": [
    "DictWriter mai humain field name likhna bohat zaroori hai ku k es say pta chly ga k headings kya hai info kya hain aur es ka aik method hai writeheader jo k headers ko write kry ga"
   ]
  },
  {
   "cell_type": "code",
   "execution_count": 48,
   "metadata": {},
   "outputs": [],
   "source": [
    "from csv import DictWriter\n",
    "with open(r'a.csv','w',newline='') as f:\n",
    "    obj = DictWriter(f,fieldnames = ['name','age','hobbies'])\n",
    "    obj.writeheader()\n",
    "    obj.writerows([\n",
    "    {'name':'shaleem','age' : 21,'hobbies': 'coding' },\n",
    "    {'name' : 'yuab','age' : 21,'hobbies' : 'coding'},\n",
    "    {'name' : 'bhatti','age' : 21,'hobbies' : 'coding'},\n",
    "    ])"
   ]
  },
  {
   "cell_type": "code",
   "execution_count": null,
   "metadata": {},
   "outputs": [],
   "source": []
  }
 ],
 "metadata": {
  "kernelspec": {
   "display_name": "Python 3",
   "language": "python",
   "name": "python3"
  },
  "language_info": {
   "codemirror_mode": {
    "name": "ipython",
    "version": 3
   },
   "file_extension": ".py",
   "mimetype": "text/x-python",
   "name": "python",
   "nbconvert_exporter": "python",
   "pygments_lexer": "ipython3",
   "version": "3.7.3"
  }
 },
 "nbformat": 4,
 "nbformat_minor": 2
}
