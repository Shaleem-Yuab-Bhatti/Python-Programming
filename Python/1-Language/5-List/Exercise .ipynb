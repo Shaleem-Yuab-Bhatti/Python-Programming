{
 "cells": [
  {
   "cell_type": "markdown",
   "metadata": {},
   "source": [
    "# Exercise 1"
   ]
  },
  {
   "cell_type": "markdown",
   "metadata": {},
   "source": [
    "Tutorual 91"
   ]
  },
  {
   "cell_type": "markdown",
   "metadata": {},
   "source": [
    "Define a function which will take a list containing numbers and return list containing square of every element"
   ]
  },
  {
   "cell_type": "raw",
   "metadata": {},
   "source": [
    "input ---> [1,2,3,4]\n",
    "output --> [1,4,6,9]"
   ]
  },
  {
   "cell_type": "code",
   "execution_count": 4,
   "metadata": {},
   "outputs": [
    {
     "name": "stdout",
     "output_type": "stream",
     "text": [
      "[1, 4, 9, 16]\n"
     ]
    }
   ],
   "source": [
    "def squared_list(l):\n",
    "    squared_lis = []\n",
    "    for num in l:\n",
    "        squared_lis.append(num**2)\n",
    "    return squared_lis\n",
    "lis = [1,2,3,4]\n",
    "print(squared_list(lis)) "
   ]
  },
  {
   "cell_type": "markdown",
   "metadata": {},
   "source": [
    "# Exercise 2"
   ]
  },
  {
   "cell_type": "markdown",
   "metadata": {},
   "source": [
    "Tutorial 93"
   ]
  },
  {
   "cell_type": "markdown",
   "metadata": {},
   "source": [
    "Define a function which will take a list and return the reversed list"
   ]
  },
  {
   "cell_type": "raw",
   "metadata": {},
   "source": [
    "input ---> [1,2,3,4]\n",
    "output --> [4,3,2,1]"
   ]
  },
  {
   "cell_type": "code",
   "execution_count": 8,
   "metadata": {},
   "outputs": [
    {
     "name": "stdout",
     "output_type": "stream",
     "text": [
      "[4, 3, 2, 1]\n"
     ]
    }
   ],
   "source": [
    "def reversed_list(l):\n",
    "    return l[::-1]\n",
    "lis = [1,2,3,4]\n",
    "print(reversed_list(lis))"
   ]
  },
  {
   "cell_type": "code",
   "execution_count": 29,
   "metadata": {},
   "outputs": [
    {
     "name": "stdout",
     "output_type": "stream",
     "text": [
      "[4, 3, 2, 1]\n"
     ]
    }
   ],
   "source": [
    "def reversed_list(l):\n",
    "    l.reverse()\n",
    "    return l\n",
    "lis = [1,2,3,4]\n",
    "print(reversed_list(lis))"
   ]
  },
  {
   "cell_type": "code",
   "execution_count": 33,
   "metadata": {},
   "outputs": [
    {
     "name": "stdout",
     "output_type": "stream",
     "text": [
      "[4, 3, 2, 1]\n"
     ]
    }
   ],
   "source": [
    "def reversed_list(l):\n",
    "    reverse = []\n",
    "    for i in range(len(l)):\n",
    "        reverse.append(l.pop())\n",
    "    return reverse\n",
    "lis = [1,2,3,4]\n",
    "print(reversed_list(lis))"
   ]
  },
  {
   "cell_type": "markdown",
   "metadata": {},
   "source": [
    "# Exercise 3"
   ]
  },
  {
   "cell_type": "markdown",
   "metadata": {},
   "source": [
    "Tutorial 95"
   ]
  },
  {
   "cell_type": "markdown",
   "metadata": {},
   "source": [
    "Define a function that takes a list as an argument and return reversed of each element"
   ]
  },
  {
   "cell_type": "raw",
   "metadata": {},
   "source": [
    "input ---> ['abc','tuv','xyz']\n",
    "output --> ['cba','vut','zyx']"
   ]
  },
  {
   "cell_type": "code",
   "execution_count": 35,
   "metadata": {},
   "outputs": [
    {
     "name": "stdout",
     "output_type": "stream",
     "text": [
      "['cba', 'vut', 'zyx']\n"
     ]
    }
   ],
   "source": [
    "def ever_ele_rev(l):\n",
    "    ele_rev = []\n",
    "    for ele in l:\n",
    "        ele_rev.append(ele[::-1])\n",
    "    return ele_rev\n",
    "lis = ['abc','tuv','xyz']\n",
    "print(ever_ele_rev(lis))"
   ]
  },
  {
   "cell_type": "markdown",
   "metadata": {},
   "source": [
    "# Exercise 4"
   ]
  },
  {
   "cell_type": "markdown",
   "metadata": {},
   "source": [
    "Tutorial 97"
   ]
  },
  {
   "cell_type": "markdown",
   "metadata": {},
   "source": [
    "Filter Odd Even"
   ]
  },
  {
   "cell_type": "raw",
   "metadata": {},
   "source": [
    "input ---> [1,2,3,4,5,6,7]\n",
    "output --> [[1,3,5,7],[2,4,6]]"
   ]
  },
  {
   "cell_type": "code",
   "execution_count": 39,
   "metadata": {},
   "outputs": [
    {
     "name": "stdout",
     "output_type": "stream",
     "text": [
      "[[1, 3, 5, 7], [2, 4, 6]]\n"
     ]
    }
   ],
   "source": [
    "def odd_even(l):\n",
    "    odd  = []\n",
    "    even = []\n",
    "    for i in l:\n",
    "        if i % 2 == 0:\n",
    "            even.append(i)\n",
    "        else:\n",
    "            odd.append(i)\n",
    "    return [odd,even]\n",
    "lis = [1,2,3,4,5,6,7]\n",
    "print(odd_even(lis))"
   ]
  },
  {
   "cell_type": "markdown",
   "metadata": {},
   "source": [
    "# Exercise 5"
   ]
  },
  {
   "cell_type": "markdown",
   "metadata": {},
   "source": [
    "Tutorial 99"
   ]
  },
  {
   "cell_type": "markdown",
   "metadata": {},
   "source": [
    "Define a function which takes two list and return a list which contain common elements of both lists"
   ]
  },
  {
   "cell_type": "raw",
   "metadata": {},
   "source": [
    "input ---> [1,2,5,7],[1,2,6,8]\n",
    "output --> [1,2]"
   ]
  },
  {
   "cell_type": "code",
   "execution_count": 95,
   "metadata": {},
   "outputs": [
    {
     "name": "stdout",
     "output_type": "stream",
     "text": [
      "[1, 2, 7]\n"
     ]
    }
   ],
   "source": [
    "def e_finder(l1,l2):\n",
    "    common = []\n",
    "    for i in l1:\n",
    "        if i in l2:\n",
    "            common.append(i)\n",
    "    return common\n",
    "lis1 = [1,2,5,7]\n",
    "lis2 = [1,2,6,8,3,7]\n",
    "print(e_finder(lis1,lis2))"
   ]
  },
  {
   "cell_type": "markdown",
   "metadata": {},
   "source": [
    "# Exercise 6"
   ]
  },
  {
   "cell_type": "markdown",
   "metadata": {},
   "source": [
    "Tutorial 102"
   ]
  },
  {
   "cell_type": "raw",
   "metadata": {},
   "source": [
    "input ---> [1,2,3,[1,2]]\n",
    "output --> 1 list inside list"
   ]
  },
  {
   "cell_type": "code",
   "execution_count": 96,
   "metadata": {},
   "outputs": [
    {
     "name": "stdout",
     "output_type": "stream",
     "text": [
      "2\n"
     ]
    }
   ],
   "source": [
    "def list_count(l):\n",
    "    counter = 0\n",
    "    for ele in l:\n",
    "        if type(ele) == list:\n",
    "            counter += 1\n",
    "    return counter\n",
    "lis = [1,2,3,[1,2],[232,'shaleem']]\n",
    "print(list_count(lis))"
   ]
  },
  {
   "cell_type": "code",
   "execution_count": null,
   "metadata": {},
   "outputs": [],
   "source": []
  }
 ],
 "metadata": {
  "kernelspec": {
   "display_name": "Python 3",
   "language": "python",
   "name": "python3"
  },
  "language_info": {
   "codemirror_mode": {
    "name": "ipython",
    "version": 3
   },
   "file_extension": ".py",
   "mimetype": "text/x-python",
   "name": "python",
   "nbconvert_exporter": "python",
   "pygments_lexer": "ipython3",
   "version": "3.7.3"
  }
 },
 "nbformat": 4,
 "nbformat_minor": 2
}
