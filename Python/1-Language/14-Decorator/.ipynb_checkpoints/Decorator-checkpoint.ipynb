{
 "cells": [
  {
   "cell_type": "markdown",
   "metadata": {},
   "source": [
    "# Things  you must know before learning Decorators"
   ]
  },
  {
   "cell_type": "markdown",
   "metadata": {},
   "source": [
    "1st we must have proper understanding of functions"
   ]
  },
  {
   "cell_type": "code",
   "execution_count": 1,
   "metadata": {},
   "outputs": [
    {
     "name": "stdout",
     "output_type": "stream",
     "text": [
      "25\n"
     ]
    }
   ],
   "source": [
    "def sq(a):\n",
    "    return a**2\n",
    "print(sq(5))"
   ]
  },
  {
   "cell_type": "markdown",
   "metadata": {},
   "source": [
    "now we can store our calling function in another variable and use it as we can it will be stored in the same location"
   ]
  },
  {
   "cell_type": "code",
   "execution_count": 6,
   "metadata": {},
   "outputs": [
    {
     "name": "stdout",
     "output_type": "stream",
     "text": [
      "25\n",
      "<function sq at 0x00000031911D1AE8>\n",
      "<function sq at 0x00000031911D1AE8>\n",
      "sq\n",
      "sq\n"
     ]
    }
   ],
   "source": [
    "def sq(a):\n",
    "    return a**2\n",
    "# like here\n",
    "s = sq\n",
    "print(s(5))\n",
    "\n",
    "# look same thing is happening\n",
    "print(s)\n",
    "print(sq)\n",
    "# look it gives the same location  for s and sq it means that as sq\n",
    "# is assigned to s so s is sq not different thing\n",
    "\n",
    "#   if we print the name \n",
    "print(s.__name__)\n",
    "print(sq.__name__)\n",
    "# look s'name is sq and sq name is sq so s is totally sq"
   ]
  },
  {
   "cell_type": "markdown",
   "metadata": {},
   "source": [
    "as we have studied that map and filter etc takes a function and a iterable"
   ]
  },
  {
   "cell_type": "markdown",
   "metadata": {},
   "source": [
    "so now we are going to define our own function which will take an argument itself . so we will define a function . it will take a function now its upto us whether we define another function and  pass it in our map like function or we use lambda inside our funciton"
   ]
  },
  {
   "cell_type": "markdown",
   "metadata": {},
   "source": [
    "# function as an argument"
   ]
  },
  {
   "cell_type": "code",
   "execution_count": 2,
   "metadata": {},
   "outputs": [
    {
     "name": "stdout",
     "output_type": "stream",
     "text": [
      "[1, 4, 9, 16]\n"
     ]
    }
   ],
   "source": [
    "def f(function,l):\n",
    "    e = []\n",
    "    for i in l:\n",
    "        e.append(function(i))\n",
    "    return e\n",
    "l = [1,2,3,4]\n",
    "print(f(lambda a : a**2,l))"
   ]
  },
  {
   "cell_type": "markdown",
   "metadata": {},
   "source": [
    "look our function is taking a function as as argument and we are using it just like we used map function  \n",
    "\n",
    "\n",
    "the difference is that map funciton was returning us a map object which we had to convert in list but our own defined function like map is not returnig object"
   ]
  },
  {
   "cell_type": "code",
   "execution_count": 8,
   "metadata": {},
   "outputs": [
    {
     "name": "stdout",
     "output_type": "stream",
     "text": [
      "[1, 8, 27, 64]\n"
     ]
    }
   ],
   "source": [
    "def fu(f,i):  # f for function and i for iterable\n",
    "    return [f(ele) for ele in i]\n",
    "l = [1,2,3,4]\n",
    "print(fu(lambda a : a**3,l))"
   ]
  },
  {
   "cell_type": "code",
   "execution_count": 34,
   "metadata": {},
   "outputs": [
    {
     "name": "stdout",
     "output_type": "stream",
     "text": [
      "[1, 8, 27, 64]\n"
     ]
    }
   ],
   "source": [
    "def fu(f,i):\n",
    "    return [i(k) for k in f]\n",
    "l = [1,2,3,4]\n",
    "print(fu(l,lambda a : a**3))"
   ]
  },
  {
   "cell_type": "markdown",
   "metadata": {},
   "source": [
    "so 'fu' nami function mai aik parameter pass ho rha hai 'f' jo k as\n",
    "an argument a function lay rha hai called 'lambda' tou zahir hai ja 'f'\n",
    "itself aik funciton hai tou jo vhi element for loop say aik aik kr k \n",
    "k mai aa rha hai us ko pehlay us 'f' name parameter jo k aik fucntion \n",
    "hai us mai guzara k jab us ker \"f\" function k operation perform ho\n",
    "jaty hain tou phir us ko append ke deta hai\n"
   ]
  },
  {
   "cell_type": "code",
   "execution_count": 49,
   "metadata": {},
   "outputs": [
    {
     "name": "stdout",
     "output_type": "stream",
     "text": [
      "[1, 4, 9, 16]\n"
     ]
    }
   ],
   "source": [
    "def fu(i,f = lambda a : a**2):\n",
    "    return [f(k) for k in i]\n",
    "l = [1,2,3,4]\n",
    "print(fu(l))"
   ]
  },
  {
   "cell_type": "markdown",
   "metadata": {},
   "source": [
    "# function returning function "
   ]
  },
  {
   "cell_type": "code",
   "execution_count": 88,
   "metadata": {},
   "outputs": [
    {
     "name": "stdout",
     "output_type": "stream",
     "text": [
      "this is shaleem\n"
     ]
    }
   ],
   "source": [
    "def outer():\n",
    "    def inner():\n",
    "        print('this is shaleem')\n",
    "    return inner\n",
    "var = outer()\n",
    "var()\n",
    "#  so outer func mai 1 inner fun hai jo k kuch print krwa rha hai \n",
    "# aur phir jo bhi inner func mai return krwaya hai wo outer ka part\n",
    "# hai so hum outer ko call karenge"
   ]
  },
  {
   "cell_type": "code",
   "execution_count": 179,
   "metadata": {},
   "outputs": [
    {
     "name": "stdout",
     "output_type": "stream",
     "text": [
      "this is shaleem and he is fine\n"
     ]
    }
   ],
   "source": [
    "def outer(a):\n",
    "    def inner():\n",
    "        print(f'this is shaleem {a}')\n",
    "    return inner\n",
    "v = outer('and he is fine')\n",
    "v()"
   ]
  },
  {
   "cell_type": "code",
   "execution_count": 1,
   "metadata": {},
   "outputs": [
    {
     "data": {
      "text/plain": [
       "9"
      ]
     },
     "execution_count": 1,
     "metadata": {},
     "output_type": "execute_result"
    }
   ],
   "source": [
    "def s(a):\n",
    "    return a**2\n",
    "sq = s\n",
    "sq(3)"
   ]
  },
  {
   "cell_type": "code",
   "execution_count": 17,
   "metadata": {},
   "outputs": [
    {
     "name": "stdout",
     "output_type": "stream",
     "text": [
      "25\n"
     ]
    }
   ],
   "source": [
    "def f(a):  # \n",
    "    def l(b):  #  b mai 5 jayega aur l funtion return karega a*5\n",
    "        return a*b  # phir f arguments k sath call ho ga aur \n",
    "    return l(5)   # jo bhi f mai pass ho ga wo mul ho ga l k sath\n",
    "print(f(5))"
   ]
  },
  {
   "cell_type": "markdown",
   "metadata": {},
   "source": [
    "# Closure Practice"
   ]
  },
  {
   "cell_type": "markdown",
   "metadata": {},
   "source": [
    "or first class funnction"
   ]
  },
  {
   "cell_type": "markdown",
   "metadata": {},
   "source": [
    "so hum cube k liye alag fun banaty hai square k liye alag tou hum aik he aisa fun banaty hain jo cube bhi day square bhi aur 4,5 etc"
   ]
  },
  {
   "cell_type": "code",
   "execution_count": 27,
   "metadata": {},
   "outputs": [
    {
     "name": "stdout",
     "output_type": "stream",
     "text": [
      "Enter number to power : 5\n",
      "Enter a power : 3\n"
     ]
    },
    {
     "data": {
      "text/plain": [
       "'Power is 125'"
      ]
     },
     "execution_count": 27,
     "metadata": {},
     "output_type": "execute_result"
    }
   ],
   "source": [
    "def to_power(n):\n",
    "    def power(p):\n",
    "        return f\"Power is {n**p}\"\n",
    "    return power(int(input(\"Enter a power : \")))\n",
    "to_power(int(input(\"Enter number to power : \")))"
   ]
  },
  {
   "cell_type": "code",
   "execution_count": 59,
   "metadata": {},
   "outputs": [
    {
     "name": "stdout",
     "output_type": "stream",
     "text": [
      "cube is Power is 27\n",
      "square is Power is 64\n"
     ]
    }
   ],
   "source": [
    "def power(p):\n",
    "    def number(n):\n",
    "        return f\"Power is {n**p}\"\n",
    "    return number\n",
    "cube = power(3)\n",
    "print(f\"cube is {cube(3)}\")\n",
    "\n",
    "square = power(2)\n",
    "print(f\"square is {square(8)}\")"
   ]
  },
  {
   "cell_type": "code",
   "execution_count": 63,
   "metadata": {},
   "outputs": [
    {
     "name": "stdout",
     "output_type": "stream",
     "text": [
      "cube is Power is 27\n",
      "square is Power is 64\n"
     ]
    }
   ],
   "source": [
    "def number(n):\n",
    "    def power(p):\n",
    "        return f\"Power is {n**p}\"\n",
    "    return power\n",
    "cube = number(3)\n",
    "print(f\"cube is {cube(3)}\")\n",
    "\n",
    "square = power(2)\n",
    "print(f\"square is {square(8)}\")"
   ]
  },
  {
   "cell_type": "code",
   "execution_count": 110,
   "metadata": {},
   "outputs": [
    {
     "name": "stdout",
     "output_type": "stream",
     "text": [
      "Power is 125\n",
      "Power is 25\n"
     ]
    }
   ],
   "source": [
    "def power(p):\n",
    "    def number(n):\n",
    "        return f\"Power is {n**p}\"\n",
    "    return number\n",
    "cube = power(3)\n",
    "print(cube(5)) \n",
    "\n",
    "square = power(2)\n",
    "print(square(5)) "
   ]
  },
  {
   "cell_type": "markdown",
   "metadata": {},
   "source": [
    "All basics have covered know you can get started to learn Decorators"
   ]
  },
  {
   "cell_type": "markdown",
   "metadata": {},
   "source": [
    "# Decorators"
   ]
  },
  {
   "cell_type": "markdown",
   "metadata": {},
   "source": [
    "Decorator ---> Enhance the functionality of functions"
   ]
  },
  {
   "cell_type": "markdown",
   "metadata": {},
   "source": [
    "agar mai defined function mai kuch add karna chahta hu aur us k code k sath bhi ched chaad nhi krna chahta tou wahan use hota hai decorator"
   ]
  },
  {
   "cell_type": "code",
   "execution_count": 1,
   "metadata": {},
   "outputs": [],
   "source": [
    "def f():\n",
    "    print('He is handsome')\n",
    "def l():\n",
    "    print('He is sweet')"
   ]
  },
  {
   "cell_type": "markdown",
   "metadata": {},
   "source": [
    "now mai chahta hu k es code mai aik aur line print ho but code k sath kuch ched chaad na ho\n",
    "\n",
    "\n",
    "print(\" We are talking about Shaleem \")\n",
    "\n",
    "ye line print krwani hai"
   ]
  },
  {
   "cell_type": "code",
   "execution_count": null,
   "metadata": {},
   "outputs": [],
   "source": [
    "def d_f(fun): \n",
    "    def wrapper():\n",
    "        print('We are talking about Shaleem')\n",
    "        fun()\n",
    "    return wrapper\n",
    "\n",
    "def f():\n",
    "    print('He is handsome')\n",
    "def l():\n",
    "    print('He is sweet')\n",
    "    \n",
    "f = d_f(f)\n",
    "l = d_f(l)\n",
    "# var mai abb wrapper aa chuka hai\n",
    "# es var ki jaga apnay function ka name likh skty hain\n",
    "f()\n",
    "l()"
   ]
  },
  {
   "cell_type": "code",
   "execution_count": 114,
   "metadata": {},
   "outputs": [
    {
     "name": "stdout",
     "output_type": "stream",
     "text": [
      "wao\n",
      "hi\n",
      "wao\n",
      "how are you\n"
     ]
    }
   ],
   "source": [
    "def sq_cu(s):\n",
    "    def wrapper():\n",
    "        print(\"wao\")\n",
    "        s()\n",
    "    return wrapper\n",
    "\n",
    "def sq():\n",
    "    print('hi')\n",
    "def cu():\n",
    "    return print('how are you')\n",
    "sq = sq_cu(sq)\n",
    "cu = sq_cu(cu)\n",
    "sq()\n",
    "cu()"
   ]
  },
  {
   "cell_type": "markdown",
   "metadata": {},
   "source": [
    "we are increasing the functionality of our function sq and cu but without changing its code"
   ]
  },
  {
   "cell_type": "markdown",
   "metadata": {},
   "source": [
    "Decorator itself is a function "
   ]
  },
  {
   "cell_type": "code",
   "execution_count": 122,
   "metadata": {},
   "outputs": [
    {
     "name": "stdout",
     "output_type": "stream",
     "text": [
      "wao\n",
      "here\n",
      "wao\n",
      "there\n"
     ]
    }
   ],
   "source": [
    "def f(s):\n",
    "    print('wao')\n",
    "    s()\n",
    "def i():\n",
    "    print(\"here\")\n",
    "def j():\n",
    "    print(\"there\")\n",
    "f(i)\n",
    "f(j)\n",
    "#   without decorator"
   ]
  },
  {
   "cell_type": "code",
   "execution_count": 5,
   "metadata": {},
   "outputs": [
    {
     "name": "stdout",
     "output_type": "stream",
     "text": [
      "he is awesome\n",
      "shaleem\n",
      "he is awesome\n",
      "yuab\n"
     ]
    }
   ],
   "source": [
    "def d_f(any_fun):\n",
    "    def wrapper():\n",
    "        print('he is awesome')\n",
    "        any_fun()\n",
    "    return wrapper\n",
    "def s():\n",
    "    print('shaleem')\n",
    "def y():\n",
    "    print('yuab')\n",
    "    \n",
    "s = d_f(s)\n",
    "y = d_f(y)\n",
    "s()\n",
    "y()"
   ]
  },
  {
   "cell_type": "markdown",
   "metadata": {},
   "source": [
    "i can use syntectic sugar means @ with"
   ]
  },
  {
   "cell_type": "code",
   "execution_count": 8,
   "metadata": {},
   "outputs": [
    {
     "name": "stdout",
     "output_type": "stream",
     "text": [
      "he is awesome\n",
      "shaleem\n",
      "he is awesome\n",
      "yuab\n"
     ]
    }
   ],
   "source": [
    "def d_f(any_fun):\n",
    "    def wrapper():\n",
    "        print('he is awesome')\n",
    "        any_fun()\n",
    "    return wrapper\n",
    "@d_f\n",
    "def s():\n",
    "    print('shaleem')\n",
    "@d_f\n",
    "def y():\n",
    "    print('yuab')\n",
    "    \n",
    "# s = d_f(s)\n",
    "# y = d_f(y)\n",
    "s()\n",
    "y()"
   ]
  },
  {
   "cell_type": "markdown",
   "metadata": {},
   "source": [
    "# *args and **kwargs"
   ]
  },
  {
   "cell_type": "code",
   "execution_count": 14,
   "metadata": {},
   "outputs": [
    {
     "name": "stdout",
     "output_type": "stream",
     "text": [
      "hello world\n",
      "this is shaleem\n"
     ]
    }
   ],
   "source": [
    "def d_f(s):\n",
    "    def wrapper():\n",
    "        print('hello world')\n",
    "        s()\n",
    "    return wrapper\n",
    "def f():\n",
    "    print(\"this is shaleem\")\n",
    "    \n",
    "var = d_f(f)\n",
    "var()"
   ]
  },
  {
   "cell_type": "markdown",
   "metadata": {},
   "source": [
    "but if i pass an argument in my function and then call it , it will give an error"
   ]
  },
  {
   "cell_type": "code",
   "execution_count": 16,
   "metadata": {},
   "outputs": [
    {
     "ename": "TypeError",
     "evalue": "wrapper() takes 0 positional arguments but 2 were given",
     "output_type": "error",
     "traceback": [
      "\u001b[1;31m---------------------------------------------------------------------------\u001b[0m",
      "\u001b[1;31mTypeError\u001b[0m                                 Traceback (most recent call last)",
      "\u001b[1;32m<ipython-input-16-f104347286d7>\u001b[0m in \u001b[0;36m<module>\u001b[1;34m\u001b[0m\n\u001b[0;32m      8\u001b[0m \u001b[1;33m\u001b[0m\u001b[0m\n\u001b[0;32m      9\u001b[0m \u001b[0mvar\u001b[0m \u001b[1;33m=\u001b[0m \u001b[0md_f\u001b[0m\u001b[1;33m(\u001b[0m\u001b[0mf\u001b[0m\u001b[1;33m)\u001b[0m\u001b[1;33m\u001b[0m\u001b[1;33m\u001b[0m\u001b[0m\n\u001b[1;32m---> 10\u001b[1;33m \u001b[0mvar\u001b[0m\u001b[1;33m(\u001b[0m\u001b[1;36m3\u001b[0m\u001b[1;33m,\u001b[0m\u001b[1;36m4\u001b[0m\u001b[1;33m)\u001b[0m\u001b[1;33m\u001b[0m\u001b[1;33m\u001b[0m\u001b[0m\n\u001b[0m",
      "\u001b[1;31mTypeError\u001b[0m: wrapper() takes 0 positional arguments but 2 were given"
     ]
    }
   ],
   "source": [
    "def d_f(s):\n",
    "    def wrapper():\n",
    "        print('hello world')\n",
    "        s()\n",
    "    return wrapper\n",
    "def f(a,b):\n",
    "    return a + b\n",
    "    \n",
    "var = d_f(f)\n",
    "var(3,4)\n"
   ]
  },
  {
   "cell_type": "markdown",
   "metadata": {},
   "source": [
    "it is saying that \n",
    "\n",
    " wrapper() takes 0 positional arguments but 2 were given"
   ]
  },
  {
   "cell_type": "markdown",
   "metadata": {},
   "source": [
    "in our function we gave 2 arguments but wrappers it taking no argument.\n",
    "so in this case we can pass **args and ****kwargs in wrapper"
   ]
  },
  {
   "cell_type": "code",
   "execution_count": 36,
   "metadata": {},
   "outputs": [
    {
     "name": "stdout",
     "output_type": "stream",
     "text": [
      "hello world\n",
      "7\n"
     ]
    }
   ],
   "source": [
    "def d_f(s):\n",
    "    def wrapper(*args,**kwargs):\n",
    "        print('hello world')\n",
    "        s(*args,**kwargs)\n",
    "    return wrapper\n",
    "@d_f\n",
    "def f(a,b):\n",
    "    print(a+b)\n",
    "    \n",
    "# var = d_f(f) or i will use @\n",
    "var(3,4)\n"
   ]
  },
  {
   "cell_type": "code",
   "execution_count": 84,
   "metadata": {},
   "outputs": [
    {
     "name": "stdout",
     "output_type": "stream",
     "text": [
      "square and cube\n",
      "25\n",
      "square and cube\n",
      "9\n"
     ]
    }
   ],
   "source": [
    "def d_f(s):\n",
    "    def wrapper(*args,**kwargs):\n",
    "        print('square and cube')\n",
    "        return s(*args,**kwargs)\n",
    "    return wrapper\n",
    "@d_f\n",
    "def square(*args,**kwargs):\n",
    "    def power(p):\n",
    "        def number(n):\n",
    "            return n**p\n",
    "        return number  \n",
    "    sq = power(2)\n",
    "    print(sq(5))\n",
    "@d_f\n",
    "def cube(*args,**kwargs):\n",
    "    def power(p):\n",
    "        def number(n):\n",
    "            return n**p\n",
    "        return number  \n",
    "    cu = power(2)\n",
    "    print(cu(3))\n",
    "square()\n",
    "cube()"
   ]
  },
  {
   "cell_type": "code",
   "execution_count": 130,
   "metadata": {},
   "outputs": [
    {
     "name": "stdout",
     "output_type": "stream",
     "text": [
      "square and cube\n",
      "7\n",
      "square and cube\n",
      "12\n"
     ]
    }
   ],
   "source": [
    "def d_f(s):\n",
    "    def wrapper(*args,**kwargs):\n",
    "        print('square and cube')\n",
    "        return s(*args,**kwargs)\n",
    "    return wrapper\n",
    "\n",
    "# without @ fun name\n",
    "def add(a,b):\n",
    "    return a + b\n",
    "var = d_f(add)\n",
    "print(var(3,4))\n",
    "@d_f\n",
    "def mul(a,b):\n",
    "    return a*b\n",
    "print(mul(3,4))"
   ]
  },
  {
   "cell_type": "code",
   "execution_count": 2,
   "metadata": {},
   "outputs": [
    {
     "name": "stdout",
     "output_type": "stream",
     "text": [
      "This is f_d\n",
      "[2, 4, 6, 8, 10]\n",
      "This is d_f\n",
      "12\n"
     ]
    }
   ],
   "source": [
    "def d_f(s):\n",
    "    def wrapper(*args,**kwargs):\n",
    "        print('This is d_f')\n",
    "        return s(*args,**kwargs)\n",
    "    return wrapper\n",
    "def f_d(s):\n",
    "    def wrapper(*args,**kwargs):\n",
    "        print('This is f_d')\n",
    "        return s(*args,**kwargs)\n",
    "    return wrapper\n",
    "\n",
    "# without @ fun name\n",
    "def add(l):\n",
    "    return [i for i in l if i %2==0]\n",
    "lis = list(range(1,11))\n",
    "var = f_d(add)\n",
    "print(var(lis))\n",
    "\n",
    "@d_f\n",
    "def mul(a,b):\n",
    "    return a*b\n",
    "print(mul(3,4))"
   ]
  },
  {
   "cell_type": "code",
   "execution_count": 9,
   "metadata": {},
   "outputs": [
    {
     "name": "stdout",
     "output_type": "stream",
     "text": [
      "it is used for palindrome words\n",
      "palindrome\n",
      "it is used for palindrome words\n",
      "15\n"
     ]
    }
   ],
   "source": [
    "def function(p):\n",
    "    def wrapper(*args,**kwargs):\n",
    "        print(\"it is used for palindrome words\")\n",
    "        return p(*args,**kwargs) # yahan return likhna zaroori hai\n",
    "    return wrapper  # ku k agar nhi likhenge tou print wali statements\n",
    "@function           # tou sahi work karenge but jahan hum return \n",
    "def palindrome(l):  # krwa rhy hongy wahan ans nhi aye ga \n",
    "    if l == l[::-1]:\n",
    "        return 'palindrome'\n",
    "print(palindrome('madam'))\n",
    "@function\n",
    "def count(l):\n",
    "    counter = 0\n",
    "    for i in l:\n",
    "        counter += i\n",
    "    return counter\n",
    "print(count([1,2,3,4,5]))    "
   ]
  },
  {
   "cell_type": "code",
   "execution_count": 27,
   "metadata": {},
   "outputs": [
    {
     "name": "stdout",
     "output_type": "stream",
     "text": [
      "This is simple sentence\n",
      "hello shaleem\n"
     ]
    }
   ],
   "source": [
    "def function(p):\n",
    "    def wrapper(*args,**kwargs):\n",
    "        print(\"This is simple sentence\")\n",
    "        return p(*args,**kwargs) \n",
    "    return wrapper  \n",
    "def palindrome(): \n",
    "    print('hello shaleem'\n",
    "palindrome = function(palindrome)\n",
    "palindrome()#yahan palindrome ki jaga kuch aur bhi likh skty hain\n"
   ]
  },
  {
   "cell_type": "markdown",
   "metadata": {},
   "source": [
    "yahan per thodi sy problem hai aur wo hai doc strings ko lay kr agar mai apny function palindrome ko doc string use kru tou wo wrapper ka sub kuch bataye ga ku k hamara palindrome fun indirectly doc string he hai."
   ]
  },
  {
   "cell_type": "code",
   "execution_count": 76,
   "metadata": {},
   "outputs": [
    {
     "name": "stdout",
     "output_type": "stream",
     "text": [
      " this is wrapper function \n",
      "wrapper\n"
     ]
    }
   ],
   "source": [
    "def function(p):\n",
    "    def wrapper(*args,**kwargs):\n",
    "        ''' this is wrapper function '''\n",
    "        print(\"This is simple sentence\")\n",
    "        return p(*args,**kwargs) \n",
    "    return wrapper  \n",
    "@function           \n",
    "def add(a,b):  \n",
    "    ''' this is for add '''\n",
    "    return a+b\n",
    "print(add.__doc__)\n",
    "print(add.__name__)"
   ]
  },
  {
   "cell_type": "markdown",
   "metadata": {},
   "source": [
    "see wo wrapper function ki doc dekha rha hai add ki nhi es ko solve krny k liye import kra pary ga as below"
   ]
  },
  {
   "cell_type": "code",
   "execution_count": 80,
   "metadata": {},
   "outputs": [
    {
     "name": "stdout",
     "output_type": "stream",
     "text": [
      " this is for add \n",
      "add\n"
     ]
    }
   ],
   "source": [
    "from functools import wraps\n",
    "def function(p):\n",
    "    @wraps(p)\n",
    "    def wrapper(*args,**kwargs):\n",
    "        ''' this is wrapper function '''\n",
    "        print(\"This is simple sentence\")\n",
    "        return p(*args,**kwargs) \n",
    "    return wrapper  \n",
    "@function           \n",
    "def add(a,b):  \n",
    "    ''' this is for add '''\n",
    "    return a+b\n",
    "print(add.__doc__)\n",
    "print(add.__name__)"
   ]
  },
  {
   "cell_type": "markdown",
   "metadata": {},
   "source": [
    "Tutorial 167"
   ]
  },
  {
   "cell_type": "code",
   "execution_count": 19,
   "metadata": {},
   "outputs": [
    {
     "name": "stdout",
     "output_type": "stream",
     "text": [
      "you are calling sub function\n",
      "this function takes tw\n",
      "3\n"
     ]
    }
   ],
   "source": [
    "from functools import wraps\n",
    "\n",
    "def print_function(fun):\n",
    "    @wraps(fun)\n",
    "    def wrapper(*args,**kwargs):\n",
    "        print(f\"you are calling {fun.__name__} function\")\n",
    "        print(fun.__doc__)\n",
    "        return fun(*args,**kwargs)\n",
    "    return wrapper\n",
    "@print_function\n",
    "def sub(a,b):\n",
    "    '''this function takes tw'''\n",
    "    return a-b\n",
    "print(sub(8,5))"
   ]
  },
  {
   "cell_type": "code",
   "execution_count": 200,
   "metadata": {},
   "outputs": [
    {
     "data": {
      "text/plain": [
       "'Invalid Arg'"
      ]
     },
     "execution_count": 200,
     "metadata": {},
     "output_type": "execute_result"
    }
   ],
   "source": [
    "from functools import wraps\n",
    "def dec_fun(function):\n",
    "    @wraps(function)\n",
    "    def wrapper(*args,**kwargs):\n",
    "        empty = []\n",
    "        for arg in args:\n",
    "            empty.append(type(arg)==int)\n",
    "        if all(empty):\n",
    "            return function(*args,**kwargs)\n",
    "        else:\n",
    "            return \"Invalid Arg\"\n",
    "    return wrapper\n",
    "@dec_fun\n",
    "def count(*args):\n",
    "    counter = 0\n",
    "    for arg in args:\n",
    "        counter += arg\n",
    "    return counter\n",
    "count(1,4,2,3,['shaleem'])"
   ]
  },
  {
   "cell_type": "code",
   "execution_count": 103,
   "metadata": {},
   "outputs": [
    {
     "name": "stdout",
     "output_type": "stream",
     "text": [
      "please dont not enter iterable\n"
     ]
    }
   ],
   "source": [
    "def count(*args):\n",
    "    counter = 0\n",
    "    for arg in args:\n",
    "        if type(arg)==int:\n",
    "            counter += arg\n",
    "        else:\n",
    "            return \"please dont not enter iterable\"\n",
    "    return counter\n",
    "print(count(1,2,3,4,['shaleem']))"
   ]
  },
  {
   "cell_type": "code",
   "execution_count": 203,
   "metadata": {},
   "outputs": [
    {
     "name": "stdout",
     "output_type": "stream",
     "text": [
      "[True, True, True, True]\n"
     ]
    }
   ],
   "source": [
    "def n(*args):\n",
    "    d = []\n",
    "    for i in args:\n",
    "        d.append(type(i)==int)\n",
    "    if all(d):\n",
    "        print(d)\n",
    "    else:\n",
    "        print(\"no\")\n",
    "n(1,2,3,4)"
   ]
  },
  {
   "cell_type": "code",
   "execution_count": 222,
   "metadata": {},
   "outputs": [
    {
     "name": "stdout",
     "output_type": "stream",
     "text": [
      "Invalid Arg\n"
     ]
    }
   ],
   "source": [
    "from functools import wraps\n",
    "def dec_fun(function):\n",
    "    @wraps(function)\n",
    "    def wrapper(*args,**kwargs):\n",
    "        if all([type(arg)==int for arg in args]):\n",
    "            return function(*args,**kwargs)\n",
    "        print(\"Invalid Arg\")\n",
    "    return wrapper\n",
    "@dec_fun\n",
    "def count(*args):\n",
    "    counter = 0\n",
    "    for arg in args:\n",
    "        counter += arg\n",
    "    return counter\n",
    "count(1,4,2,3,'shaleem')"
   ]
  },
  {
   "cell_type": "markdown",
   "metadata": {},
   "source": [
    "# Decorator with argument"
   ]
  },
  {
   "cell_type": "markdown",
   "metadata": {},
   "source": [
    "so ye decorator sirf int ko operate kr rha hai agar hum ko string k liye bhi banana hai tou poora decorator dubara define krna ho ga es say bacnhy k liye humain decorator mai arg pass kaenge aik function bna kr"
   ]
  },
  {
   "cell_type": "code",
   "execution_count": 3,
   "metadata": {},
   "outputs": [
    {
     "data": {
      "text/plain": [
       "'Invalid Argument'"
      ]
     },
     "execution_count": 3,
     "metadata": {},
     "output_type": "execute_result"
    }
   ],
   "source": [
    "from functools import wraps\n",
    "\n",
    "def decorator(function):\n",
    "    def wrapper(*args,**kwargs):\n",
    "        if all(type(arg)==int for arg in args):\n",
    "            return function(*args,**kwargs)\n",
    "        return \"Invalid Argument\"\n",
    "    return wrapper\n",
    "\n",
    "def counter(*args):\n",
    "    count = 0\n",
    "    for arg in args:\n",
    "        count += arg\n",
    "    return count\n",
    "var = decorator(counter)\n",
    "var(1,2,3,4,'shaleem')"
   ]
  },
  {
   "cell_type": "code",
   "execution_count": 15,
   "metadata": {},
   "outputs": [
    {
     "data": {
      "text/plain": [
       "'Invalid Argument'"
      ]
     },
     "execution_count": 15,
     "metadata": {},
     "output_type": "execute_result"
    }
   ],
   "source": [
    "from functools import wraps\n",
    "\n",
    "def decorator(function):\n",
    "    def wrapper(*args,**kwargs):\n",
    "        if all(type(arg)==int for arg in args):\n",
    "            return function(*args,**kwargs)\n",
    "        return \"Invalid Argument\"\n",
    "    return wrapper\n",
    "@decorator(str)  # decorator k agay ye jo bracket hai yahan\n",
    "def counter(*args):\n",
    "    count = 0\n",
    "    for arg in args:\n",
    "        count += arg\n",
    "    return count\n",
    "var = decorator(counter)\n",
    "var('shaleem')"
   ]
  },
  {
   "cell_type": "code",
   "execution_count": 68,
   "metadata": {},
   "outputs": [
    {
     "name": "stdout",
     "output_type": "stream",
     "text": [
      "shaleemyuab\n",
      "10\n",
      "[4.0, 5.0, 6.0]\n"
     ]
    }
   ],
   "source": [
    "from functools import wraps\n",
    "\n",
    "def all_types(data_types):\n",
    "    def decorator(function):\n",
    "        def wrapper(*args,**kwargs):\n",
    "            if all(type(arg)==data_types for arg in args):\n",
    "                return function(*args,**kwargs)\n",
    "            return \"Invalid Argument\"\n",
    "        return wrapper\n",
    "    return decorator\n",
    "    \n",
    "@all_types(str) \n",
    "def counter(*args):\n",
    "    count = \"\"\n",
    "    for arg in args:\n",
    "        count += arg\n",
    "    return count\n",
    "print(counter('shaleem','yuab'))\n",
    "\n",
    "@all_types(int) \n",
    "def counter(*args):\n",
    "    count = 0\n",
    "    for arg in args:\n",
    "        count += arg\n",
    "    return count\n",
    "print(counter(1,2,3,4))\n",
    "\n",
    "@all_types(list) \n",
    "def counter(*args):\n",
    "    return [sum(pair)/len(pair) for pair in zip(*args)]\n",
    "l = [1,2,3],[4,5,6],[7,8,9]\n",
    "print(counter(*l))\n"
   ]
  },
  {
   "cell_type": "markdown",
   "metadata": {},
   "source": [
    "so tum ny dekha k decorator aik he hai but string alag pass krwaye\n",
    "int alag aur list alag per koi error nhi aya"
   ]
  },
  {
   "cell_type": "code",
   "execution_count": 69,
   "metadata": {},
   "outputs": [
    {
     "name": "stdout",
     "output_type": "stream",
     "text": [
      "Invalid Argument\n"
     ]
    }
   ],
   "source": [
    "from functools import wraps\n",
    "\n",
    "def all_types(data):\n",
    "    def decorator(function):\n",
    "        def wrapper(*args,**kwargs):\n",
    "            if all(type(arg)==all_types for arg in args):\n",
    "                return function(*args,**kwargs)\n",
    "            return \"Invalid Argument\"\n",
    "        return wrapper\n",
    "    return decorator\n",
    "\n",
    "@all_types(str)  # decorator k agay ye jo bracket hai yahan\n",
    "def counter(*args):\n",
    "    count = 0\n",
    "    for arg in args:\n",
    "        count += arg\n",
    "    return count\n",
    "print(counter(1,2,3,4,name='shaleem'))"
   ]
  },
  {
   "cell_type": "code",
   "execution_count": 93,
   "metadata": {},
   "outputs": [
    {
     "name": "stdout",
     "output_type": "stream",
     "text": [
      "[1, 4, 9, 16, 25, 36, 49, 64, 81, 100, 121, 144, 169, 196, 225, 256, 289, 324, 361, 400, 441, 484, 529, 576, 625, 676, 729, 784, 841, 900]\n"
     ]
    }
   ],
   "source": [
    "from functools import wraps\n",
    "\n",
    "def all_types(data_types):\n",
    "    def decorator(function):\n",
    "        @wraps(function)\n",
    "        def wrapper(*args,**kwargs):\n",
    "            if all([type(arg)==data_types for arg in args]):\n",
    "                return function(*args,**kwargs)\n",
    "            return \"Invalid Argument\"\n",
    "        return wrapper\n",
    "    return decorator\n",
    "\n",
    "@all_types(list)\n",
    "def square(l):\n",
    "        return [i**2 for i in l]\n",
    "l = list(range(1,31))\n",
    "print(square(l))"
   ]
  },
  {
   "cell_type": "code",
   "execution_count": null,
   "metadata": {},
   "outputs": [],
   "source": []
  },
  {
   "cell_type": "code",
   "execution_count": null,
   "metadata": {},
   "outputs": [],
   "source": []
  },
  {
   "cell_type": "code",
   "execution_count": null,
   "metadata": {},
   "outputs": [],
   "source": []
  }
 ],
 "metadata": {
  "kernelspec": {
   "display_name": "Python 3",
   "language": "python",
   "name": "python3"
  },
  "language_info": {
   "codemirror_mode": {
    "name": "ipython",
    "version": 3
   },
   "file_extension": ".py",
   "mimetype": "text/x-python",
   "name": "python",
   "nbconvert_exporter": "python",
   "pygments_lexer": "ipython3",
   "version": "3.7.3"
  }
 },
 "nbformat": 4,
 "nbformat_minor": 2
}
