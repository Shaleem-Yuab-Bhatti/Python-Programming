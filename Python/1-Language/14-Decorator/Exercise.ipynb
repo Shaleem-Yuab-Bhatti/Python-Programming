{
 "cells": [
  {
   "cell_type": "markdown",
   "metadata": {},
   "source": [
    "# Exercise 1"
   ]
  },
  {
   "cell_type": "markdown",
   "metadata": {},
   "source": [
    "Tutorial 168"
   ]
  },
  {
   "cell_type": "code",
   "execution_count": 63,
   "metadata": {},
   "outputs": [
    {
     "name": "stdout",
     "output_type": "stream",
     "text": [
      "invalid\n"
     ]
    }
   ],
   "source": [
    "def only_int_allow(function):\n",
    "    def wrapper(*args,**kwargs):\n",
    "        data = []\n",
    "        for arg in args:\n",
    "            data.append(type(arg)==int)\n",
    "        if data == True:\n",
    "            return function(*args,**kwargs)\n",
    "        else:\n",
    "             print('invalid')\n",
    "    return wrapper\n",
    "@only_int_allow\n",
    "def count(*args):\n",
    "    counter = 0\n",
    "    for i in args:\n",
    "        counter += i\n",
    "    return counter\n",
    "count(1,2,3,4,5)"
   ]
  },
  {
   "cell_type": "code",
   "execution_count": null,
   "metadata": {},
   "outputs": [],
   "source": []
  }
 ],
 "metadata": {
  "kernelspec": {
   "display_name": "Python 3",
   "language": "python",
   "name": "python3"
  },
  "language_info": {
   "codemirror_mode": {
    "name": "ipython",
    "version": 3
   },
   "file_extension": ".py",
   "mimetype": "text/x-python",
   "name": "python",
   "nbconvert_exporter": "python",
   "pygments_lexer": "ipython3",
   "version": "3.7.3"
  }
 },
 "nbformat": 4,
 "nbformat_minor": 2
}
