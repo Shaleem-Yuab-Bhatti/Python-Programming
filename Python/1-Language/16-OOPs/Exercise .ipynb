{
 "cells": [
  {
   "cell_type": "markdown",
   "metadata": {},
   "source": [
    "# Exercise 1"
   ]
  },
  {
   "cell_type": "markdown",
   "metadata": {},
   "source": [
    "Tutorial 180"
   ]
  },
  {
   "cell_type": "markdown",
   "metadata": {},
   "source": [
    "Create a laptop class with attribute like brand name , model name , price \n",
    "create two objects/instance of your laptop class"
   ]
  },
  {
   "cell_type": "code",
   "execution_count": 1,
   "metadata": {},
   "outputs": [
    {
     "name": "stdout",
     "output_type": "stream",
     "text": [
      "y11b\n"
     ]
    }
   ],
   "source": [
    "class Laptop:\n",
    "    def __init__(self,brand_name,model_name,price):\n",
    "        self.brand_name = brand_name\n",
    "        self.model_name = model_name\n",
    "        self.price      = price\n",
    "l1 = Laptop('y11b',2017,25000)\n",
    "l2 = Laptop('y11c',2019,30000)\n",
    "print(l1.brand_name)"
   ]
  },
  {
   "cell_type": "markdown",
   "metadata": {},
   "source": [
    "you can also create 4 instance variable even after having 3 variables"
   ]
  },
  {
   "cell_type": "code",
   "execution_count": 1,
   "metadata": {},
   "outputs": [
    {
     "name": "stdout",
     "output_type": "stream",
     "text": [
      "apple macbook pro\n"
     ]
    }
   ],
   "source": [
    "class Laptop:\n",
    "    def __init__(self,brand,model,price):\n",
    "        self.brand    = brand\n",
    "        self.model    = model\n",
    "        self.price    = price\n",
    "        self.lap      = brand + \" \" + model\n",
    "# l1 = Laptop('y11b',2017,25000)\n",
    "l2 = Laptop('apple','macbook pro',30000)\n",
    "# print(l1.brand)\n",
    "print(l2.lap)"
   ]
  },
  {
   "cell_type": "markdown",
   "metadata": {},
   "source": [
    "# Exercise 2"
   ]
  },
  {
   "cell_type": "markdown",
   "metadata": {},
   "source": [
    "Tutorial 183"
   ]
  },
  {
   "cell_type": "code",
   "execution_count": 43,
   "metadata": {},
   "outputs": [
    {
     "data": {
      "text/plain": [
       "15000.0"
      ]
     },
     "execution_count": 43,
     "metadata": {},
     "output_type": "execute_result"
    }
   ],
   "source": [
    "class Laptop:   \n",
    "    def __init__(self,brand,model,price):\n",
    "        self.brand    = brand\n",
    "        self.model    = model\n",
    "        self.price    = price\n",
    "    \n",
    "    def discount(self,num):\n",
    "        per = self.price/100*num\n",
    "        return self.price - per\n",
    "# l2 = Laptop('apple','macbook pro',30000)\n",
    "l2.discount(50)"
   ]
  },
  {
   "cell_type": "code",
   "execution_count": 71,
   "metadata": {},
   "outputs": [
    {
     "name": "stdout",
     "output_type": "stream",
     "text": [
      "y11b\n",
      "25000.0\n"
     ]
    }
   ],
   "source": [
    "class Laptop:\n",
    "    def __init__(self,name,company,price):\n",
    "        self.name    = name\n",
    "        self.company = company\n",
    "        self.price   = price\n",
    "    \n",
    "    def discount(self,per):\n",
    "        percentage = (self.price/100)*per\n",
    "        return self.price - percentage\n",
    "l1 = Laptop('y11b','Haier',50000)\n",
    "print(l1.name)\n",
    "print(l1.discount(50))"
   ]
  },
  {
   "cell_type": "code",
   "execution_count": 106,
   "metadata": {},
   "outputs": [
    {
     "name": "stdout",
     "output_type": "stream",
     "text": [
      "y11b\n",
      "self.price - percentage\n"
     ]
    }
   ],
   "source": [
    "class Laptop:\n",
    "    def __init__(self,name,company,price):\n",
    "        self.name    = name\n",
    "        self.company = company\n",
    "        self.price   = price\n",
    "    \n",
    "    def discount(self):\n",
    "        return 'self.price - percentage'\n",
    "l1 = Laptop('y11b','Haier',50000)\n",
    "print(l1.name)\n",
    "print(l1.discount())"
   ]
  },
  {
   "cell_type": "markdown",
   "metadata": {},
   "source": [
    "# Exercise 3"
   ]
  },
  {
   "cell_type": "markdown",
   "metadata": {},
   "source": [
    "Tutorial 187"
   ]
  },
  {
   "cell_type": "code",
   "execution_count": 43,
   "metadata": {},
   "outputs": [
    {
     "name": "stdout",
     "output_type": "stream",
     "text": [
      "3\n"
     ]
    }
   ],
   "source": [
    "class Student:\n",
    "    count_instance = 0\n",
    "    def __init__(self,name,age,roll):\n",
    "        Student.count_instance += 1\n",
    "        self.name = name\n",
    "        self.age  = age\n",
    "        self.roll = roll\n",
    "s1 = Student('shaleem',21,3018)\n",
    "s2 = Student('yuab',22,2791)\n",
    "s3 = Student('bhatti',23,1234)\n",
    "print(Student.count_instance)"
   ]
  },
  {
   "cell_type": "code",
   "execution_count": null,
   "metadata": {},
   "outputs": [],
   "source": []
  }
 ],
 "metadata": {
  "kernelspec": {
   "display_name": "Python 3",
   "language": "python",
   "name": "python3"
  },
  "language_info": {
   "codemirror_mode": {
    "name": "ipython",
    "version": 3
   },
   "file_extension": ".py",
   "mimetype": "text/x-python",
   "name": "python",
   "nbconvert_exporter": "python",
   "pygments_lexer": "ipython3",
   "version": "3.7.3"
  }
 },
 "nbformat": 4,
 "nbformat_minor": 2
}
