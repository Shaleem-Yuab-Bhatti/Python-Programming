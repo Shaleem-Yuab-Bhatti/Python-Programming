{
 "cells": [
  {
   "cell_type": "markdown",
   "metadata": {},
   "source": [
    "# OOPs"
   ]
  },
  {
   "cell_type": "markdown",
   "metadata": {},
   "source": [
    "OOPs Introduction \n",
    "\n",
    "Object Oriented Programming In Python"
   ]
  },
  {
   "cell_type": "markdown",
   "metadata": {},
   "source": [
    "OOPs is just way to write code. It is a paradigm"
   ]
  },
  {
   "cell_type": "markdown",
   "metadata": {},
   "source": [
    "# OOP create your first class"
   ]
  },
  {
   "cell_type": "code",
   "execution_count": 2,
   "metadata": {},
   "outputs": [
    {
     "name": "stdout",
     "output_type": "stream",
     "text": [
      "shaleem\n"
     ]
    }
   ],
   "source": [
    "class Person:\n",
    "    def __init__(self,f_name,l_name,age):\n",
    "#         instance variable\n",
    "        self.f_name = f_name\n",
    "    \n",
    "        self.l_name = l_name\n",
    "        self.age    = age\n",
    "#         they are called\n",
    "p1 = Person('shaleem','yuab',21)\n",
    "print(p1.f_name)"
   ]
  },
  {
   "cell_type": "markdown",
   "metadata": {},
   "source": [
    "p1 represents self because     object represent self\n",
    "\n",
    "self.f_name\n",
    "\n",
    "p1.f_name    sp self is our object"
   ]
  },
  {
   "cell_type": "markdown",
   "metadata": {},
   "source": [
    "jab bhi hum obect ko call karenge tou hamara init ya phir constructor call ho ga"
   ]
  },
  {
   "cell_type": "code",
   "execution_count": 3,
   "metadata": {},
   "outputs": [
    {
     "name": "stdout",
     "output_type": "stream",
     "text": [
      "hello world\n",
      "shaleem\n"
     ]
    }
   ],
   "source": [
    "class Person:\n",
    "    def __init__(self,f_name,l_name,age):\n",
    "        print(\"hello world\")\n",
    "        self.f_name = f_name\n",
    "        self.l_name = l_name\n",
    "        self.age    = age\n",
    "p1 = Person('shaleem','yuab',21)\n",
    "print(p1.f_name)"
   ]
  },
  {
   "cell_type": "markdown",
   "metadata": {},
   "source": [
    "see hum ny hello world constructor mai likha tha aur wo print ho rha hai means k init call hota hai jb object call kry tou"
   ]
  },
  {
   "cell_type": "markdown",
   "metadata": {},
   "source": [
    "you can change the instance variable name"
   ]
  },
  {
   "cell_type": "code",
   "execution_count": 1,
   "metadata": {},
   "outputs": [
    {
     "name": "stdout",
     "output_type": "stream",
     "text": [
      "shaleem\n"
     ]
    }
   ],
   "source": [
    "class Person:\n",
    "    def __init__(self,f_name,l_name,age):\n",
    "        self.person_f_name = f_name\n",
    "        self.l_name = l_name\n",
    "        self.age    = age\n",
    "p1 = Person('shaleem','yuab',21)\n",
    "print(p1.person_f_name)"
   ]
  },
  {
   "cell_type": "code",
   "execution_count": 42,
   "metadata": {},
   "outputs": [
    {
     "name": "stdout",
     "output_type": "stream",
     "text": [
      "Honda Civic\n",
      "Blue\n"
     ]
    }
   ],
   "source": [
    "class Car:\n",
    "    def __init__(self,name,color,model,cc):\n",
    "        self.name  = name\n",
    "        self.color = color\n",
    "        self.model = model\n",
    "        self.cc    = cc\n",
    "car1 = Car('Honda Civic','White',2020,3000)\n",
    "car2 = Car('Fisker Karma','Blue',2017,5000)\n",
    "print(car1.name)\n",
    "print(car2.color)"
   ]
  },
  {
   "cell_type": "code",
   "execution_count": 45,
   "metadata": {},
   "outputs": [
    {
     "name": "stdout",
     "output_type": "stream",
     "text": [
      "['OS', 'Search Engine', 'Cell']\n",
      "$50B\n"
     ]
    }
   ],
   "source": [
    "class Company:\n",
    "    def __init__(self,name,products,revenue):\n",
    "        self.name     = name\n",
    "        self.products = products\n",
    "        self.revenue  = revenue\n",
    "c = Company('Google',['OS','Search Engine','Cell'],'$45B')\n",
    "c2 = Company('Microsoft',['OS','Cloud'],'$50B')\n",
    "print(c.products)\n",
    "print(c2.revenue)"
   ]
  },
  {
   "cell_type": "code",
   "execution_count": 48,
   "metadata": {},
   "outputs": [
    {
     "name": "stdout",
     "output_type": "stream",
     "text": [
      "$22T\n",
      "1300000000\n"
     ]
    }
   ],
   "source": [
    "class Country:\n",
    "    def __init__(self,name,economy,population,education):\n",
    "        self.name       = name\n",
    "        self.economy    = economy\n",
    "        self.population = population\n",
    "        self.education  = education \n",
    "\n",
    "c1 = Country('US','$22T',310000000,'Excellent')\n",
    "c2 = Country('China','$14T',1300000000,'Good')\n",
    "print(c1.economy)\n",
    "print(c2.population)"
   ]
  },
  {
   "cell_type": "code",
   "execution_count": 52,
   "metadata": {},
   "outputs": [
    {
     "name": "stdout",
     "output_type": "stream",
     "text": [
      "apple\n",
      "latitude\n"
     ]
    }
   ],
   "source": [
    "class Laptop:\n",
    "    def __init__(self,brand,model,price):\n",
    "        self.brand = brand\n",
    "        self.model_name = model\n",
    "        self.price = price\n",
    "\n",
    "l1 = Laptop('apple','mackbook pro',300000)\n",
    "l2 = Laptop('dell','latitude',150000)\n",
    "print(l1.brand)\n",
    "print(l2.model_name)"
   ]
  },
  {
   "cell_type": "markdown",
   "metadata": {},
   "source": [
    "# instance method"
   ]
  },
  {
   "cell_type": "markdown",
   "metadata": {},
   "source": [
    "instance and objects are same i dont have to get confused"
   ]
  },
  {
   "cell_type": "markdown",
   "metadata": {},
   "source": [
    "now there is a list class in python and we can create its instance aka object\n",
    "\n",
    "l = [1,2,3]\n",
    "\n",
    "now l is instance or objectand we can do many things with this instance"
   ]
  },
  {
   "cell_type": "code",
   "execution_count": 2,
   "metadata": {},
   "outputs": [
    {
     "data": {
      "text/plain": [
       "3"
      ]
     },
     "execution_count": 2,
     "metadata": {},
     "output_type": "execute_result"
    }
   ],
   "source": [
    "l = [1,2,3]\n",
    "l.pop()"
   ]
  },
  {
   "cell_type": "code",
   "execution_count": 2,
   "metadata": {},
   "outputs": [
    {
     "name": "stdout",
     "output_type": "stream",
     "text": [
      "this car can move\n",
      "this car can move\n"
     ]
    }
   ],
   "source": [
    "class Car:\n",
    "    def __init__(self,name,color):\n",
    "#         instance variables\n",
    "        self.name = name\n",
    "        self.color = color\n",
    "#     instance methods\n",
    "    def move(self):\n",
    "        return 'this car can move'\n",
    "c1 = Car('honda civic','white')\n",
    "print(c1.move())\n",
    "print(Car.move(c1))"
   ]
  },
  {
   "cell_type": "code",
   "execution_count": 7,
   "metadata": {},
   "outputs": [
    {
     "name": "stdout",
     "output_type": "stream",
     "text": [
      "apple\n",
      "latitude\n",
      "75000.0\n"
     ]
    }
   ],
   "source": [
    "class Laptop:\n",
    "    def __init__(self,brand,model,price):\n",
    "        self.brand = brand\n",
    "        self.model_name = model\n",
    "        self.price = price\n",
    "\n",
    "    def per(self,n):\n",
    "        percent = self.price/100 *n\n",
    "        return self.price - percent\n",
    "l1 = Laptop('apple','mackbook pro',300000)\n",
    "l2 = Laptop('dell','latitude',150000)\n",
    "\n",
    "print(l1.brand)\n",
    "print(l2.model_name)\n",
    "print(l2.per(50))"
   ]
  },
  {
   "cell_type": "code",
   "execution_count": 14,
   "metadata": {},
   "outputs": [
    {
     "name": "stdout",
     "output_type": "stream",
     "text": [
      "31.400000000000002\n",
      "78.5\n"
     ]
    }
   ],
   "source": [
    "class Circle:\n",
    "    def __init__(self,radius,pie):\n",
    "        self.radius = radius\n",
    "        self.pie    = pie\n",
    "        \n",
    "    def circumference(self):   # 2 pie r\n",
    "        return 2 * self.pie * self.radius\n",
    "    \n",
    "    def area(self):           # pie r square\n",
    "        return self.pie * self.radius**2  \n",
    "    \n",
    "c1 = Circle(5,3.14)\n",
    "print(c1.circumference())\n",
    "\n",
    "c2 = Circle(4,3.14)\n",
    "print(c1.area())"
   ]
  },
  {
   "cell_type": "code",
   "execution_count": null,
   "metadata": {},
   "outputs": [],
   "source": []
  },
  {
   "cell_type": "markdown",
   "metadata": {},
   "source": [
    "now we will learn how to create these types of methods   \n",
    "\n",
    "now ye pop nam ka method list class mai defined hai similarly count name ka method string,list,tuples mai defined hai so instance method ka ye matlab hota hai."
   ]
  },
  {
   "cell_type": "markdown",
   "metadata": {},
   "source": [
    "# Class Variable "
   ]
  },
  {
   "cell_type": "markdown",
   "metadata": {},
   "source": [
    "wo variable hoty hai k jab hum 1 say zayada objects banaty hai tou value same hoti hai"
   ]
  },
  {
   "cell_type": "markdown",
   "metadata": {},
   "source": [
    "E.g Circle class"
   ]
  },
  {
   "cell_type": "code",
   "execution_count": 15,
   "metadata": {},
   "outputs": [
    {
     "name": "stdout",
     "output_type": "stream",
     "text": [
      "31.400000000000002\n",
      "78.5\n"
     ]
    }
   ],
   "source": [
    "class Circle:\n",
    "    def __init__(self,radius,pie):\n",
    "        self.radius = radius\n",
    "        self.pie    = pie\n",
    "        \n",
    "    def circumference(self):   # 2 pie r\n",
    "        return 2 * self.pie * self.radius\n",
    "    \n",
    "    def area(self):           # pie r square\n",
    "        return self.pie * self.radius**2  \n",
    "    \n",
    "c1 = Circle(5,3.14)\n",
    "print(c1.circumference())\n",
    "\n",
    "c2 = Circle(4,3.14)\n",
    "print(c1.area())"
   ]
  },
  {
   "cell_type": "markdown",
   "metadata": {},
   "source": [
    "now es upper walay class mai 3.14 2 dfa repeat ho rha hai so hum class variable banaty hai ta k bar bar repeat na ho aur es tarha memory km use ho"
   ]
  },
  {
   "cell_type": "code",
   "execution_count": null,
   "metadata": {},
   "outputs": [],
   "source": [
    "class Circle:\n",
    "    pie = 3.14                      # class variable\n",
    "    def __init__(self,radius):\n",
    "        self.radius = radius\n",
    "# es liye yahan say pie gayb kardenge ku k pie upper class mai likha\n",
    "    def circumference(self):   # 2 pie r\n",
    "        return 2 * Circle.pie * self.radius\n",
    "    \n",
    "    def area(self):           # pie r square\n",
    "        return Circle.pie * self.radius**2  \n",
    "#     now you just only have to pass radius\n",
    "c1 = Circle(5)\n",
    "print(c1.circumference())\n",
    "#     now you just only have to pass radius\n",
    "c2 = Circle(4)\n",
    "print(c1.area())"
   ]
  },
  {
   "cell_type": "markdown",
   "metadata": {},
   "source": [
    "ab upper laptop wali mai bhi 1 problem hai k ho skta hai k aik laptop per 10% off ho aur dusray per 15% off ho so class variable tou es liye banaty thay k saray object mai aik he value ani thee means agar sub ki 10%off ho"
   ]
  },
  {
   "cell_type": "code",
   "execution_count": 1,
   "metadata": {},
   "outputs": [
    {
     "name": "stdout",
     "output_type": "stream",
     "text": [
      "180000\n",
      "{'name': 'apple', 'model': 'macbook pro', 'price': 200000}\n"
     ]
    }
   ],
   "source": [
    "class Laptop:\n",
    "    percent_off = 10\n",
    "    def __init__(self,name,model,price):\n",
    "        self.name = name\n",
    "        self.model = model\n",
    "        self.price = price\n",
    "    \n",
    "    def percentage(self):\n",
    "        percent = self.price/100 * Laptop.percent_off\n",
    "        return f\"{round(self.price - percent)}\"\n",
    "\n",
    "l1 = Laptop('Dell','Latitude',100000)\n",
    "l2 = Laptop('apple','macbook pro',200000)\n",
    "# print(l1.percentage())\n",
    "print(l2.percentage())\n",
    "print(l2.__dict__)"
   ]
  },
  {
   "cell_type": "markdown",
   "metadata": {},
   "source": [
    "agar humain apna class variable ki value kisi particular jaga per change krna chahty hain tou means 1st laptop k liye discount 10% off ho aur 2nd laptop k liye 25% off ho tou hum self use karenge "
   ]
  },
  {
   "cell_type": "code",
   "execution_count": 16,
   "metadata": {},
   "outputs": [
    {
     "name": "stdout",
     "output_type": "stream",
     "text": [
      "90000\n",
      "100000\n",
      "{'name': 'apple', 'model': 'macbook pro', 'price': 200000, 'percent_off': 50}\n"
     ]
    }
   ],
   "source": [
    "class Laptop:\n",
    "    percent_off = 10\n",
    "    def __init__(self,name,model,price):\n",
    "        self.name = name\n",
    "        self.model = model\n",
    "        self.price = price\n",
    "    \n",
    "    def percentage(self):\n",
    "        percent = self.price/100 *self.percent_off\n",
    "        return f\"{round(self.price - percent)}\"\n",
    "\n",
    "l1 = Laptop('Dell','Latitude',100000)\n",
    "l2 = Laptop('apple','macbook pro',200000)\n",
    "l2.percent_off = 50\n",
    "print(l1.percentage())\n",
    "print(l2.percentage())\n",
    "print(l2.__dict__)\n",
    "# see laptop 1 is 10% off but laptotp 2 is 50% off using same var"
   ]
  },
  {
   "cell_type": "code",
   "execution_count": 23,
   "metadata": {},
   "outputs": [
    {
     "name": "stdout",
     "output_type": "stream",
     "text": [
      "150000.0\n",
      "90000.0\n",
      "{'name': 'iphone 11', 'origin': 'America', 'price': 150000, 'discount': 0}\n",
      "{'name': 'galaxy s10', 'origin': 'korea', 'price': 100000}\n"
     ]
    }
   ],
   "source": [
    "class Phone:\n",
    "    discount = 10 # 10%\n",
    "    def __init__(self,name,origin,price):\n",
    "        self.name = nam\n",
    "        self.origin = origin \n",
    "        self.price = price\n",
    "        \n",
    "    def percent(self):\n",
    "              # yahan discount ki jaga self likho\n",
    "        off = (self.discount/100)*self.price \n",
    "        return self.price - off\n",
    "p1 = Phone('iphone 11','America',150000)\n",
    "p2 = Phone('galaxy s10','korea',100000)\n",
    "p1.discount = 0\n",
    "# doing this p2 will be sold on 10% off whereas p1 will be sold on 0%\n",
    "print(p1.percent())\n",
    "print(p2.percent())\n",
    "print(p1.__dict__)\n",
    "print(p2.__dict__)"
   ]
  },
  {
   "cell_type": "markdown",
   "metadata": {},
   "source": [
    "agar hamari sale khatam ho gaye hai aur hum es discount percent ko zero krnan chahty hain tou dekho kya karenge"
   ]
  },
  {
   "cell_type": "code",
   "execution_count": 34,
   "metadata": {
    "scrolled": true
   },
   "outputs": [
    {
     "name": "stdout",
     "output_type": "stream",
     "text": [
      "150000.0\n",
      "100000.0\n"
     ]
    }
   ],
   "source": [
    "class Phone:\n",
    "    discount = 10 \n",
    "    def __init__(self,name,origin,price):\n",
    "        self.name = name\n",
    "        self.origin = origin \n",
    "        self.price = price\n",
    "        \n",
    "    def percent(self):\n",
    "        off = (Phone.discount/100)*self.price \n",
    "#           class name . class var name\n",
    "        return self.price - off\n",
    "p1 = Phone('iphone 11','America',150000)\n",
    "p2 = Phone('galaxy s10','korea',100000)\n",
    "# apni class ka name . class var ka name aur agay 0\n",
    "Phone.discount = 0\n",
    "\n",
    "print(p1.percent())\n",
    "print(p2.percent())"
   ]
  },
  {
   "cell_type": "code",
   "execution_count": null,
   "metadata": {},
   "outputs": [],
   "source": []
  },
  {
   "cell_type": "markdown",
   "metadata": {},
   "source": [
    "This help us to set specific rules for specific things"
   ]
  },
  {
   "cell_type": "code",
   "execution_count": 40,
   "metadata": {},
   "outputs": [
    {
     "name": "stdout",
     "output_type": "stream",
     "text": [
      "12.56\n",
      "18.84\n"
     ]
    }
   ],
   "source": [
    "class Circle:\n",
    "    def __init__(self,r,pie):\n",
    "        self.r = r\n",
    "        self.pie = pie\n",
    "    def circum(self):\n",
    "        return 2*self.pie*self.r\n",
    "c1 = Circle(2,3.14)\n",
    "c2 = Circle(3,3.14)\n",
    "print(c1.circum())\n",
    "print(c2.circum())\n",
    "# so ab mujhay bar bar pie likhna par rha hai halanke pie ki value\n",
    "# sub k liye same hai sary object k liye \n",
    "# tou mai class variable bna leta hu"
   ]
  },
  {
   "cell_type": "code",
   "execution_count": 43,
   "metadata": {},
   "outputs": [
    {
     "name": "stdout",
     "output_type": "stream",
     "text": [
      "12.56\n",
      "18.84\n"
     ]
    }
   ],
   "source": [
    "class Circle:\n",
    "    pie = 3.14\n",
    "    def __init__(self,r):\n",
    "#         ab mai yahan say pie khatam kr dunga\n",
    "        self.r = r\n",
    "    def circum(self):\n",
    "#         aur yahan per pie ki jaga likhenge Circle.pie\n",
    "#        class ka name\n",
    "        return 2*Circle.pie*self.r\n",
    "\n",
    "c1 = Circle(2)\n",
    "c2 = Circle(3)\n",
    "print(c1.circum())\n",
    "print(c2.circum())"
   ]
  },
  {
   "cell_type": "code",
   "execution_count": 17,
   "metadata": {},
   "outputs": [
    {
     "name": "stdout",
     "output_type": "stream",
     "text": [
      "90000.0\n",
      "180000.0\n",
      "{'name': 'F-16', 'origin': 'America', 'role': 'Multirole', 'price': 100000, 'discount': 50}\n",
      "{'name': 'Su-35', 'origin': 'Russia', 'role': 'Air superiority', 'price': 200000}\n"
     ]
    }
   ],
   "source": [
    "class Jets:\n",
    "    discount = 10\n",
    "    def __init__(self,name,origin,role,price):\n",
    "        self.name = name\n",
    "        self.origin = origin \n",
    "        self.role = role \n",
    "        self.price = price\n",
    "    def sale(self):\n",
    "        off = (Jets.discount/100)*self.price\n",
    "        return self.price - off\n",
    "j1 = Jets('F-16','America','Multirole',100000)\n",
    "j2 = Jets('Su-35','Russia','Air superiority',200000)\n",
    "j1.discount = 50\n",
    "print(j1.sale())\n",
    "print(j2.sale())\n",
    "print(j1.__dict__)\n",
    "print(j2.__dict__)"
   ]
  },
  {
   "cell_type": "code",
   "execution_count": 88,
   "metadata": {},
   "outputs": [
    {
     "name": "stdout",
     "output_type": "stream",
     "text": [
      "100000.0\n",
      "180000.0\n",
      "{'name': 'F-16', 'origin': 'America', 'role': 'Multirole', 'price': 100000, 'discount': 0}\n",
      "{'name': 'Su-35', 'origin': 'Russia', 'role': 'Air superiority', 'price': 200000}\n"
     ]
    }
   ],
   "source": [
    "# discount for only j1 not for j2 see in this cell\n",
    "class Jets:\n",
    "    discount = 10\n",
    "    def __init__(self,name,origin,role,price):\n",
    "        self.name = name\n",
    "        self.origin = origin \n",
    "        self.role = role \n",
    "        self.price = price\n",
    "    def sale(self):\n",
    "        off = (self.discount/100)*self.price\n",
    "        return self.price - off\n",
    "j1 = Jets('F-16','America','Multirole',100000)\n",
    "j2 = Jets('Su-35','Russia','Air superiority',200000)\n",
    "j1.discount = 0\n",
    "print(j1.sale())\n",
    "print(j2.sale())\n",
    "print(j1.__dict__)\n",
    "print(j2.__dict__)"
   ]
  },
  {
   "cell_type": "code",
   "execution_count": 93,
   "metadata": {},
   "outputs": [
    {
     "name": "stdout",
     "output_type": "stream",
     "text": [
      "10000.0\n",
      "20000.0\n",
      "{'name': 'F-16', 'origin': 'America', 'role': 'Multirole', 'price': 10000}\n",
      "{'name': 'Su-35', 'origin': 'Russia', 'role': 'superiority', 'price': 20000}\n"
     ]
    }
   ],
   "source": [
    "# if sale is end then\n",
    "class Jets:\n",
    "    discount = 10\n",
    "    def __init__(self,name,origin,role,price):\n",
    "        self.name = name\n",
    "        self.origin = origin \n",
    "        self.role = role \n",
    "        self.price = price\n",
    "    def sale(self):\n",
    "# class variable ko change krna hai particular positon per tou self \n",
    "# likho\n",
    "        off = (self.discount/100)*self.price\n",
    "        return self.price - off\n",
    "j1 = Jets('F-16','America','Multirole',10000)\n",
    "j2 = Jets('Su-35','Russia','superiority',20000)\n",
    "Jets.discount = 0  # not j1 but jets\n",
    "print(j1.sale())\n",
    "print(j2.sale())\n",
    "print(j1.__dict__)\n",
    "print(j2.__dict__)"
   ]
  },
  {
   "cell_type": "code",
   "execution_count": null,
   "metadata": {},
   "outputs": [],
   "source": []
  },
  {
   "cell_type": "code",
   "execution_count": 26,
   "metadata": {},
   "outputs": [
    {
     "name": "stdout",
     "output_type": "stream",
     "text": [
      "instance var are 3\n",
      "5000.0\n"
     ]
    }
   ],
   "source": [
    "class Phone:\n",
    "    count = 0\n",
    "    discount = 10\n",
    "    def __init__(self,name,origin,price):\n",
    "        Phone.count += 1\n",
    "        self.name = name\n",
    "        self.origin = origin\n",
    "        self.price = price\n",
    "\n",
    "    def sale(self):\n",
    "        off = (self.discount/100)*self.price\n",
    "        return self.price - off\n",
    "    \n",
    "p1 = Phone('infinix s3','hong kong',20000)\n",
    "p2 = Phone('lumia 510','america',10000)\n",
    "p2.discount = 50\n",
    "p3 = Phone('oppo reno','china',50000)\n",
    "print(f\"instance var are {Phone.count}\")\n",
    "print(p2.sale())"
   ]
  },
  {
   "cell_type": "markdown",
   "metadata": {},
   "source": [
    "jab bhi class variable ko constructor mai use krna hai tou us variable say pehlay class ka name ayega phir dot lagana hai"
   ]
  },
  {
   "cell_type": "code",
   "execution_count": 38,
   "metadata": {
    "scrolled": true
   },
   "outputs": [
    {
     "name": "stdout",
     "output_type": "stream",
     "text": [
      "Black Friday Sale has started !!!\n",
      "NEW PRICES OF YOU DREAM PHONES ARE : \n",
      "Infinix s3 got 10% disount now availabe in Rs. 18000.0\n",
      "Lumia got 50% disount now availabe in Rs. 5000.0\n",
      "Oppo reno got 30% disount now availabe in Rs. 35000.0\n"
     ]
    }
   ],
   "source": [
    "class Phone:\n",
    "    count = 0\n",
    "    discount = 10\n",
    "    def __init__(self,name,origin,price):\n",
    "        Phone.count += 1\n",
    "        self.name = name\n",
    "        self.origin = origin\n",
    "        self.price = price\n",
    "\n",
    "    def sale(self):\n",
    "        off = (self.discount/100)*self.price\n",
    "        return self.price - off    \n",
    "p1 = Phone('infinix s3','hong kong',20000)\n",
    "p2 = Phone('lumia 510','america',10000)\n",
    "p2.discount = 50\n",
    "p3 = Phone('oppo reno','china',50000)\n",
    "p3.discount = 30\n",
    "# print(f\"instance var are {Phone.count}\")\n",
    "print('Black Friday Sale has started !!!\\nNEW PRICES OF YOU DREAM PHONES ARE : ')\n",
    "\n",
    "print(f\"Infinix s3 got 10% disount now availabe in Rs. {p1.sale()}\")\n",
    "print(f\"Lumia got 50% disount now availabe in Rs. {p2.sale()}\")\n",
    "print(f\"Oppo reno got 30% disount now availabe in Rs. {p3.sale()}\")"
   ]
  },
  {
   "cell_type": "code",
   "execution_count": 96,
   "metadata": {},
   "outputs": [
    {
     "name": "stdout",
     "output_type": "stream",
     "text": [
      "24 is greater\n",
      "25 is greater\n"
     ]
    }
   ],
   "source": [
    "class Person:\n",
    "    def __init__(self,name,roll,age):\n",
    "        self.name = name\n",
    "        self.roll = roll\n",
    "        self.age  = age\n",
    "    def aged(self,age):\n",
    "        if self.age < age :\n",
    "            return f\"{age} is greater\"\n",
    "        return f\"{self.age} is greater\"\n",
    "p1 = Person('Shaleem',3018,21)\n",
    "p2 = Person('Yuab',1234,25)\n",
    "\n",
    "print(p1.aged(24))\n",
    "print(p2.aged(24))\n"
   ]
  },
  {
   "cell_type": "markdown",
   "metadata": {},
   "source": [
    "# Class Methods"
   ]
  },
  {
   "cell_type": "markdown",
   "metadata": {},
   "source": [
    "jis tarha instance method mai pehla argument self tha esi tarhan class method mai pehla argument class hota hai ab hum class tou mhi likh skty ku k class keyword hai so hum cls likhty hain"
   ]
  },
  {
   "cell_type": "markdown",
   "metadata": {},
   "source": [
    "but aik problem hai k hum aisa method kaisy banaye jis ka pehla argument class ho tou es k liye hamari pass aik defined decorator hai @classmethod\n",
    "hum ye use karenge"
   ]
  },
  {
   "cell_type": "markdown",
   "metadata": {},
   "source": [
    "cls hamari class ko represent kr rha hota hai"
   ]
  },
  {
   "cell_type": "code",
   "execution_count": 47,
   "metadata": {},
   "outputs": [
    {
     "name": "stdout",
     "output_type": "stream",
     "text": [
      " our class has 2 instances\n"
     ]
    }
   ],
   "source": [
    "class Person:\n",
    "    count_object = 0\n",
    "    def __init__(self,name,roll,age):\n",
    "        Person.count_object += 1\n",
    "        self.name = name\n",
    "        self.roll = roll\n",
    "        self.age  = age\n",
    "    @classmethod\n",
    "    def count(cls):   #     use of class method\n",
    "        return f\" our class has {cls.count_object} instances\"\n",
    "p1 = Person('shaleem',1234,21)\n",
    "p2 = Person('yuab',3018,22)\n",
    "print(Person.count())   \n"
   ]
  },
  {
   "cell_type": "markdown",
   "metadata": {},
   "source": [
    "# class method as as constructor"
   ]
  },
  {
   "cell_type": "code",
   "execution_count": 68,
   "metadata": {},
   "outputs": [
    {
     "name": "stdout",
     "output_type": "stream",
     "text": [
      "bhatti yuab\n",
      "bhatti\n"
     ]
    }
   ],
   "source": [
    "class Person:\n",
    "    count_object = 0\n",
    "    def __init__(self,name,last,age):\n",
    "        Person.count_object += 1\n",
    "        self.name = name\n",
    "        self.last = last\n",
    "        self.age  = age\n",
    "    \n",
    "    @classmethod\n",
    "    def fro(cls,string):\n",
    "        f,r,a = string.split(',')\n",
    "        return cls(f,r,a)\n",
    "    def full_name(self)\n",
    "        return f\"{self.name} {self.last}\"\n",
    "p1 = Person('shaleem','yuab',21)\n",
    "\n",
    "p3 = Person.fro('bhatti,yuab,21')\n",
    "print(p3.full_name())\n",
    "print(p3.name)\n"
   ]
  },
  {
   "cell_type": "markdown",
   "metadata": {},
   "source": [
    "# static method"
   ]
  },
  {
   "cell_type": "markdown",
   "metadata": {},
   "source": [
    "es ka reltion hamari class ya object say nhi hota ye normal function ki tarha kaam krta hai"
   ]
  },
  {
   "cell_type": "markdown",
   "metadata": {},
   "source": [
    "aur ye static decorator say likhty hain"
   ]
  },
  {
   "cell_type": "code",
   "execution_count": 75,
   "metadata": {},
   "outputs": [
    {
     "name": "stdout",
     "output_type": "stream",
     "text": [
      "hello world\n"
     ]
    }
   ],
   "source": [
    "class Person:\n",
    "    count_object = 0\n",
    "    def __init__(self,name,last,age):\n",
    "        Person.count_object += 1\n",
    "        self.name = name\n",
    "        self.last = last\n",
    "        self.age  = age\n",
    "    @staticmethod\n",
    "    def hello():\n",
    "        print(\"hello world\")\n",
    "    @classmethod\n",
    "    def fro(cls,string):\n",
    "        f,r,a = string.split(',')\n",
    "        return cls(f,r,a)\n",
    "    def full_name(self):\n",
    "        return f\"{self.name} {self.last}\"\n",
    "p1 = Person('shaleem','yuab',21)\n",
    "\n",
    "p3 = Person.fro('bhatti,yuab,21')\n",
    "Person.hello()"
   ]
  },
  {
   "cell_type": "markdown",
   "metadata": {},
   "source": [
    "# Encapsulation , Abstraction, naming convention and naming mangling"
   ]
  },
  {
   "cell_type": "markdown",
   "metadata": {},
   "source": [
    "encapsulation mean apni class k data ko means koi bhi object ho us k pass kya hoga jaisy phone class us k object k pass name,origin,price ho gy tou ye us ka data hai aur us k sath wo jo functionlity perform kr rha hai means method , un ko aik he jaga per likhna"
   ]
  },
  {
   "cell_type": "markdown",
   "metadata": {},
   "source": [
    " es ko bolty hai encapsulation"
   ]
  },
  {
   "cell_type": "markdown",
   "metadata": {},
   "source": [
    "Abstraction ka mean hota hia k complexity ko hide krna mean jaisy hamary pass 1 list hai tou us mai 1 method hai sort, ab humain nhi pta k wo sort kis tarhan hoti hai hum tou bs sort method likhty hai aur hamara kam done. but backend per bohat kam ho rha hota hai. aur jab python ki list banaya ho gy developer ny tou jab list class mai sort define kiya ho ga tou bohat bada define kiya ho ga"
   ]
  },
  {
   "cell_type": "markdown",
   "metadata": {},
   "source": [
    "tou baat samajhny wali ye hai k wo jo bhi function perform kr rha hai wo user say chupa kr rkhi hue hai es tarha hum bhi capsulation use karenge ta k user say complexity chupayen"
   ]
  },
  {
   "cell_type": "markdown",
   "metadata": {},
   "source": [
    "# jab bhi hum class variable k sath ko call karenge tou class name sath aye ga"
   ]
  },
  {
   "cell_type": "markdown",
   "metadata": {},
   "source": [
    "# agar hum instance variable ko call karenge tou object ka name aye ga"
   ]
  },
  {
   "cell_type": "code",
   "execution_count": 96,
   "metadata": {},
   "outputs": [
    {
     "name": "stdout",
     "output_type": "stream",
     "text": [
      "{'name': 'nokia', 'origin': '3310', '_Phone__price': -1000}\n",
      "-1000\n"
     ]
    }
   ],
   "source": [
    "class Phone:\n",
    "    def __init__(self,name,origin,price):\n",
    "        self.name = name\n",
    "        self.origin = origin \n",
    "        self.__price = price\n",
    "        \n",
    "p1 = Phone('nokia','3310',-1000)\n",
    "print(p1.__dict__)\n",
    "print(p1._Phone__price) # name mangling "
   ]
  },
  {
   "cell_type": "markdown",
   "metadata": {},
   "source": [
    "name mangling say python name change kr deta hai"
   ]
  },
  {
   "cell_type": "markdown",
   "metadata": {},
   "source": [
    "# property , setter , decorator"
   ]
  },
  {
   "cell_type": "code",
   "execution_count": null,
   "metadata": {},
   "outputs": [],
   "source": [
    "class Phone:\n",
    "    def __init__(self,name,origin,price):\n",
    "        self.name = name\n",
    "        self.origin = origin \n",
    "        self.__price = price\n",
    "        \n",
    "p1 = Phone('nokia','3310',-1000)\n",
    "print(p1.__dict__)\n",
    "print(p1._Phone__price) # name mangling "
   ]
  }
 ],
 "metadata": {
  "kernelspec": {
   "display_name": "Python 3",
   "language": "python",
   "name": "python3"
  },
  "language_info": {
   "codemirror_mode": {
    "name": "ipython",
    "version": 3
   },
   "file_extension": ".py",
   "mimetype": "text/x-python",
   "name": "python",
   "nbconvert_exporter": "python",
   "pygments_lexer": "ipython3",
   "version": "3.7.3"
  }
 },
 "nbformat": 4,
 "nbformat_minor": 2
}
