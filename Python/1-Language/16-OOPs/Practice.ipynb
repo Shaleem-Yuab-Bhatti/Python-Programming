{
 "cells": [
  {
   "cell_type": "markdown",
   "metadata": {},
   "source": [
    "# Creating first class and instance variable"
   ]
  },
  {
   "cell_type": "code",
   "execution_count": 14,
   "metadata": {},
   "outputs": [
    {
     "name": "stdout",
     "output_type": "stream",
     "text": [
      "latitude\n"
     ]
    }
   ],
   "source": [
    "class Laptop:\n",
    "    def __init__(self,name,origin,price):\n",
    "        self.name = name\n",
    "        self.origin = origin\n",
    "        self.price = price\n",
    "l1 = Laptop('latitude','america',50000)\n",
    "l2 = Laptop('mack book  pro','america',100000)\n",
    "print(l1.name)"
   ]
  },
  {
   "cell_type": "markdown",
   "metadata": {},
   "source": [
    "# Creating instance method"
   ]
  },
  {
   "cell_type": "code",
   "execution_count": 20,
   "metadata": {},
   "outputs": [
    {
     "name": "stdout",
     "output_type": "stream",
     "text": [
      "Shaleem\n",
      "62.5\n",
      "68.75\n"
     ]
    }
   ],
   "source": [
    "class Student:\n",
    "    def __init__(self,name,roll,marks):\n",
    "        self.name = name\n",
    "        self.roll = roll\n",
    "        self.marks = marks\n",
    "    def percentage(self,total_marks):\n",
    "        return (self.marks/total_marks) * 100\n",
    "s1 = Student('Shaleem',3018,500)\n",
    "s2 = Student('Yuab',1234,550)\n",
    "print(s1.name)\n",
    "print(s1.percentage(800))\n",
    "print(s2.percentage(800))"
   ]
  },
  {
   "cell_type": "markdown",
   "metadata": {},
   "source": [
    "# Creating Class variable"
   ]
  },
  {
   "cell_type": "markdown",
   "metadata": {},
   "source": [
    "now total is same for all the objects then why we are repeating , create a class variable"
   ]
  },
  {
   "cell_type": "code",
   "execution_count": 22,
   "metadata": {},
   "outputs": [
    {
     "name": "stdout",
     "output_type": "stream",
     "text": [
      "Shaleem\n",
      "62.5\n",
      "68.75\n"
     ]
    }
   ],
   "source": [
    "class Student:\n",
    "    total_marks = 800\n",
    "    def __init__(self,name,roll,marks):\n",
    "        self.name = name\n",
    "        self.roll = roll\n",
    "        self.marks = marks\n",
    "    def percentage(self):\n",
    "        return (self.marks/Student.total_marks) * 100\n",
    "s1 = Student('Shaleem',3018,500)\n",
    "s2 = Student('Yuab',1234,550)\n",
    "print(s1.name)\n",
    "print(s1.percentage())\n",
    "print(s2.percentage())"
   ]
  },
  {
   "cell_type": "markdown",
   "metadata": {},
   "source": [
    "if total_marks is different for different object then"
   ]
  },
  {
   "cell_type": "markdown",
   "metadata": {},
   "source": [
    "Shaleem's total marks are 800 but risfah's total are 1050 then"
   ]
  },
  {
   "cell_type": "code",
   "execution_count": 62,
   "metadata": {},
   "outputs": [
    {
     "name": "stdout",
     "output_type": "stream",
     "text": [
      "62.5\n",
      "68.18181818181817\n"
     ]
    }
   ],
   "source": [
    "class Student:\n",
    "    total_marks = 800\n",
    "    def __init__(self,name,roll,marks):\n",
    "        self.name = name\n",
    "        self.roll = roll\n",
    "        self.marks = marks\n",
    "    def percentage(self):\n",
    "#                         yahan Student. nhi aye ga self aye ga\n",
    "        return (self.marks/self.total_marks) * 100\n",
    "shaleem = Student('Shaleem',3018,500)\n",
    "risfah = Student('Risfah',1234,750)\n",
    "risfah.total_marks = 1100\n",
    "print(shaleem.percentage())\n",
    "print(risfah.percentage())"
   ]
  },
  {
   "cell_type": "code",
   "execution_count": 1,
   "metadata": {},
   "outputs": [
    {
     "name": "stdout",
     "output_type": "stream",
     "text": [
      "62.5\n",
      "68.18181818181817\n"
     ]
    }
   ],
   "source": [
    "class Student:\n",
    "    total_marks = 800\n",
    "    def __init__(self,name,roll,marks):\n",
    "        self.name = name\n",
    "        self.roll = roll\n",
    "        self.marks = marks\n",
    "    def percentage(self):\n",
    "        return (self.marks/self.total_marks) * 100\n",
    "shaleem = Student('Shaleem',3018,500)\n",
    "risfah = Student('Risfah',1234,750)\n",
    "risfah.total_marks = 1100\n",
    "print(shaleem.percentage())\n",
    "print(risfah.percentage())"
   ]
  },
  {
   "cell_type": "markdown",
   "metadata": {},
   "source": [
    "# Class method"
   ]
  },
  {
   "cell_type": "code",
   "execution_count": 26,
   "metadata": {},
   "outputs": [
    {
     "name": "stdout",
     "output_type": "stream",
     "text": [
      "62.5\n",
      "68.18181818181817\n",
      "Shaleem\n"
     ]
    }
   ],
   "source": [
    "class Student:\n",
    "    total_marks = 800\n",
    "    def __init__(self,name,roll,marks):\n",
    "        self.name = name\n",
    "        self.roll = roll\n",
    "        self.marks = marks\n",
    "    @classmethod\n",
    "    def f_string(cls,s):\n",
    "        n,r,m = s.split(',')\n",
    "        return cls(n,r,m)\n",
    "    def percentage(self):\n",
    "        return (self.marks/self.total_marks) * 100\n",
    "shaleem = Student('Shaleem',3018,500)\n",
    "risfah = Student('Risfah',1234,750)\n",
    "risfah.total_marks = 1100\n",
    "print(shaleem.percentage())\n",
    "print(risfah.percentage())\n",
    "etc = Student.f_string('Shaleem,3018,500')\n",
    "print(etc.name)"
   ]
  },
  {
   "cell_type": "code",
   "execution_count": 31,
   "metadata": {},
   "outputs": [
    {
     "name": "stdout",
     "output_type": "stream",
     "text": [
      "62.5\n",
      "68.18181818181817\n"
     ]
    }
   ],
   "source": [
    "class Student:\n",
    "    total_marks = 800\n",
    "    def __init__(self,name,roll,marks):\n",
    "        self.name = name\n",
    "        self.roll = roll\n",
    "        self.marks = marks\n",
    "#   class method as a constructor\n",
    "    @classmethod\n",
    "    def f_string(cls,s):\n",
    "        n,r,m = s.split(',')\n",
    "        return cls(n,r,m)\n",
    "    def percentage(self):\n",
    "        return (self.marks/self.total_marks) * 100\n",
    "shaleem = Student('Shaleem',3018,500)\n",
    "risfah = Student('Risfah',1234,750)\n",
    "risfah.total_marks = 1100\n",
    "print(shaleem.percentage())\n",
    "print(risfah.percentage())"
   ]
  },
  {
   "cell_type": "code",
   "execution_count": 48,
   "metadata": {},
   "outputs": [
    {
     "ename": "TypeError",
     "evalue": "unsupported operand type(s) for /: 'str' and 'int'",
     "output_type": "error",
     "traceback": [
      "\u001b[1;31m---------------------------------------------------------------------------\u001b[0m",
      "\u001b[1;31mTypeError\u001b[0m                                 Traceback (most recent call last)",
      "\u001b[1;32m<ipython-input-48-6351c21cbe26>\u001b[0m in \u001b[0;36m<module>\u001b[1;34m\u001b[0m\n\u001b[0;32m     17\u001b[0m \u001b[0mrisfah\u001b[0m\u001b[1;33m.\u001b[0m\u001b[0mtotal_marks\u001b[0m \u001b[1;33m=\u001b[0m \u001b[1;36m1100\u001b[0m\u001b[1;33m\u001b[0m\u001b[1;33m\u001b[0m\u001b[0m\n\u001b[0;32m     18\u001b[0m \u001b[0mnew\u001b[0m \u001b[1;33m=\u001b[0m \u001b[0mStudent\u001b[0m\u001b[1;33m.\u001b[0m\u001b[0mstr_m\u001b[0m\u001b[1;33m(\u001b[0m\u001b[1;34m'shaleem,3018,500'\u001b[0m\u001b[1;33m)\u001b[0m\u001b[1;33m\u001b[0m\u001b[1;33m\u001b[0m\u001b[0m\n\u001b[1;32m---> 19\u001b[1;33m \u001b[0mprint\u001b[0m\u001b[1;33m(\u001b[0m\u001b[0mnew\u001b[0m\u001b[1;33m.\u001b[0m\u001b[0mpercentage\u001b[0m\u001b[1;33m(\u001b[0m\u001b[1;33m)\u001b[0m\u001b[1;33m)\u001b[0m\u001b[1;33m\u001b[0m\u001b[1;33m\u001b[0m\u001b[0m\n\u001b[0m",
      "\u001b[1;32m<ipython-input-48-6351c21cbe26>\u001b[0m in \u001b[0;36mpercentage\u001b[1;34m(self)\u001b[0m\n\u001b[0;32m     12\u001b[0m         \u001b[1;32mreturn\u001b[0m \u001b[0mself\u001b[0m\u001b[1;33m.\u001b[0m\u001b[0mname\u001b[0m\u001b[1;33m\u001b[0m\u001b[1;33m\u001b[0m\u001b[0m\n\u001b[0;32m     13\u001b[0m     \u001b[1;32mdef\u001b[0m \u001b[0mpercentage\u001b[0m\u001b[1;33m(\u001b[0m\u001b[0mself\u001b[0m\u001b[1;33m)\u001b[0m\u001b[1;33m:\u001b[0m\u001b[1;33m\u001b[0m\u001b[1;33m\u001b[0m\u001b[0m\n\u001b[1;32m---> 14\u001b[1;33m         \u001b[1;32mreturn\u001b[0m \u001b[1;33m(\u001b[0m\u001b[0mself\u001b[0m\u001b[1;33m.\u001b[0m\u001b[0mmarks\u001b[0m\u001b[1;33m/\u001b[0m\u001b[0mself\u001b[0m\u001b[1;33m.\u001b[0m\u001b[0mtotal_marks\u001b[0m\u001b[1;33m)\u001b[0m \u001b[1;33m*\u001b[0m \u001b[1;36m100\u001b[0m\u001b[1;33m\u001b[0m\u001b[1;33m\u001b[0m\u001b[0m\n\u001b[0m\u001b[0;32m     15\u001b[0m \u001b[0mshaleem\u001b[0m \u001b[1;33m=\u001b[0m \u001b[0mStudent\u001b[0m\u001b[1;33m(\u001b[0m\u001b[1;34m'Shaleem'\u001b[0m\u001b[1;33m,\u001b[0m\u001b[1;36m3018\u001b[0m\u001b[1;33m,\u001b[0m\u001b[1;36m500\u001b[0m\u001b[1;33m)\u001b[0m\u001b[1;33m\u001b[0m\u001b[1;33m\u001b[0m\u001b[0m\n\u001b[0;32m     16\u001b[0m \u001b[0mrisfah\u001b[0m \u001b[1;33m=\u001b[0m \u001b[0mStudent\u001b[0m\u001b[1;33m(\u001b[0m\u001b[1;34m'Risfah'\u001b[0m\u001b[1;33m,\u001b[0m\u001b[1;36m1234\u001b[0m\u001b[1;33m,\u001b[0m\u001b[1;36m750\u001b[0m\u001b[1;33m)\u001b[0m\u001b[1;33m\u001b[0m\u001b[1;33m\u001b[0m\u001b[0m\n",
      "\u001b[1;31mTypeError\u001b[0m: unsupported operand type(s) for /: 'str' and 'int'"
     ]
    }
   ],
   "source": [
    "class Student:\n",
    "    total_marks = 800\n",
    "    def __init__(self,name,roll,marks):\n",
    "        self.name = name\n",
    "        self.roll = roll\n",
    "        self.marks = marks\n",
    "    @classmethod\n",
    "    def str_m(cls,s):\n",
    "        n,r,m = s.split(',')\n",
    "        return cls(n,r,m)\n",
    "    def str_con(self):\n",
    "        return self.name\n",
    "    def percentage(self):\n",
    "        return (self.marks/self.total_marks) * 100\n",
    "shaleem = Student('Shaleem',3018,500)\n",
    "risfah = Student('Risfah',1234,750)\n",
    "risfah.total_marks = 1100\n",
    "new = Student.str_m('shaleem,3018,500')\n",
    "print(new.percentage())"
   ]
  },
  {
   "cell_type": "markdown",
   "metadata": {},
   "source": [
    "# @staticmethod"
   ]
  },
  {
   "cell_type": "markdown",
   "metadata": {},
   "source": [
    "@classmethod's cls is associated with our class"
   ]
  },
  {
   "cell_type": "markdown",
   "metadata": {},
   "source": [
    "instance method self is associated with out object"
   ]
  },
  {
   "cell_type": "markdown",
   "metadata": {},
   "source": [
    "static method does not required any cls like @classmethod and it also does not required self. it will take parameters like our normal functions take"
   ]
  },
  {
   "cell_type": "markdown",
   "metadata": {},
   "source": [
    "this is normal function. agar hum class methods mai self na pass krwaye tou error aye ga but agar hum aisa function define krna chah rhy hain jis mai hum self na pass krwaye aur us k relation na class k sath ho na instance k sath tou hum static method use krty hain"
   ]
  },
  {
   "cell_type": "code",
   "execution_count": 35,
   "metadata": {},
   "outputs": [
    {
     "name": "stdout",
     "output_type": "stream",
     "text": [
      "62.5\n"
     ]
    }
   ],
   "source": [
    "class Student:\n",
    "    total_marks = 800\n",
    "    def __init__(self,name,roll,marks):\n",
    "        self.name = name\n",
    "        self.roll = roll\n",
    "        self.marks = marks\n",
    "    @staticmethod\n",
    "    def hello(l):\n",
    "        count = 0\n",
    "        for i in l:\n",
    "            count += i\n",
    "        return count\n",
    "    @classmethod\n",
    "    def str_m(cls,s):\n",
    "        n,r,m = s.split(',')\n",
    "        return cls(n,r,m)\n",
    "    def str_con(self):\n",
    "        return self.name\n",
    "    @property\n",
    "    def percentage(self):\n",
    "        return (self.marks/self.total_marks) * 100\n",
    "shaleem = Student('Shaleem',3018,500)\n",
    "risfah = Student('Risfah',1234,750)\n",
    "risfah.total_marks = 1100\n",
    "# print(Student.hello([1,2,3,4]))\n",
    "print(shaleem.percentage)"
   ]
  },
  {
   "cell_type": "markdown",
   "metadata": {},
   "source": [
    "abstraction mean complexity ko hide krna user say"
   ]
  },
  {
   "cell_type": "code",
   "execution_count": 21,
   "metadata": {},
   "outputs": [
    {
     "name": "stdout",
     "output_type": "stream",
     "text": [
      "{'name': 'nokia', 'model': '1100', '_Phone__price': 1000}\n"
     ]
    }
   ],
   "source": [
    "class Phone:\n",
    "    def __init__(self,name,model,price):\n",
    "        self.name = name\n",
    "        self.model = model\n",
    "        self.__price = price\n",
    "p1 = Phone('nokia','1100',1000)\n",
    "print(p1.__dict__)"
   ]
  },
  {
   "cell_type": "code",
   "execution_count": 1,
   "metadata": {},
   "outputs": [
    {
     "name": "stdout",
     "output_type": "stream",
     "text": [
      "-1000\n"
     ]
    }
   ],
   "source": [
    "class Phone:\n",
    "    def __init__(self,name,model,price):\n",
    "        self.name = name\n",
    "        self.model = model\n",
    "        self._price = max(price,0)\n",
    "    @property\n",
    "    def price(self):\n",
    "        return self._price\n",
    "    @price.setter\n",
    "    def new(self,new_pr):\n",
    "        self._price = max(new_pr,0)\n",
    "p1 = Phone('nokia','1100',1000)\n",
    "p1._price = -1000\n",
    "print(p1._price)\n"
   ]
  },
  {
   "cell_type": "code",
   "execution_count": 1,
   "metadata": {},
   "outputs": [
    {
     "name": "stdout",
     "output_type": "stream",
     "text": [
      "0\n",
      "nokia and 1100 and 0\n"
     ]
    }
   ],
   "source": [
    "class Phone:\n",
    "    def __init__(self,name,model,price):\n",
    "        self.name = name\n",
    "        self.model = model\n",
    "        self._price = max(price,0)\n",
    "    @property    \n",
    "    def c_s(self):\n",
    "        return f\"{self.name} and {self.model} and {self._price}\"\n",
    "    \n",
    "    @property\n",
    "    def price(self):\n",
    "        return self._price\n",
    "    \n",
    "    @price.setter\n",
    "    def price(self,n_price):\n",
    "        self._price = max(n_price,0)\n",
    "\n",
    "phone1 = Phone('nokia','1100',1000)\n",
    "phone1.price = -200\n",
    "print(phone1._price)\n",
    "print(phone1.c_s)"
   ]
  },
  {
   "cell_type": "code",
   "execution_count": 1,
   "metadata": {},
   "outputs": [
    {
     "name": "stdout",
     "output_type": "stream",
     "text": [
      "4545.454545454545\n",
      "4090.9090909090905\n"
     ]
    }
   ],
   "source": [
    "class Student:\n",
    "    def __init__(self,name,roll,marks):\n",
    "        self.name = name\n",
    "        self.roll = roll\n",
    "        self._marks = marks\n",
    "\n",
    "    def percentage(self):\n",
    "        return (self._marks/11) * 100\n",
    "    @property\n",
    "    def marks(self):\n",
    "        return self.total_marks\n",
    "    @marks.setter\n",
    "    def marks(self,marks_obt):\n",
    "        self.total_marks = marks_obt\n",
    "shaleem = Student('Shaleem',3018,500)\n",
    "subhan = Student('Subhan',1234,450)\n",
    "subhan.total_marks = -1100\n",
    "print(shaleem.percentage())\n",
    "print(subhan.percentage())"
   ]
  },
  {
   "cell_type": "markdown",
   "metadata": {},
   "source": [
    "# inheritance"
   ]
  },
  {
   "cell_type": "code",
   "execution_count": 116,
   "metadata": {
    "scrolled": true
   },
   "outputs": [
    {
     "name": "stdout",
     "output_type": "stream",
     "text": [
      "windows 10\n"
     ]
    }
   ],
   "source": [
    "class Mobile:\n",
    "    def __init__(self,name,color,ram,processor):\n",
    "        self.name = name\n",
    "        self.color = color\n",
    "        self.ram = ram\n",
    "        self.processor = processor\n",
    "class Laptop(Mobile):\n",
    "    def __init__(self,name,color,ram,processor,keyboard):\n",
    "        super().__init__(name,color,ram,processor)\n",
    "        self.keyboard = keyboard\n",
    "class Pc(Laptop):\n",
    "    def __init__(self,name,color,ram,processor,keyboard,windows):\n",
    "        super().__init__(name,color,ram,processor,keyboard)\n",
    "        self.windows = windows\n",
    "mobile = Mobile('Iphone 11 pro','Black','8 GB','octacre')\n",
    "laptop = Laptop('Mac book pro','white','16 GB','octacore','yes')\n",
    "pc     = Pc('Mac book pro','white','16 GB','octacore','y','windows 10')\n",
    "print(pc.windows)"
   ]
  },
  {
   "cell_type": "code",
   "execution_count": null,
   "metadata": {},
   "outputs": [],
   "source": []
  }
 ],
 "metadata": {
  "kernelspec": {
   "display_name": "Python 3",
   "language": "python",
   "name": "python3"
  },
  "language_info": {
   "codemirror_mode": {
    "name": "ipython",
    "version": 3
   },
   "file_extension": ".py",
   "mimetype": "text/x-python",
   "name": "python",
   "nbconvert_exporter": "python",
   "pygments_lexer": "ipython3",
   "version": "3.7.3"
  }
 },
 "nbformat": 4,
 "nbformat_minor": 2
}
