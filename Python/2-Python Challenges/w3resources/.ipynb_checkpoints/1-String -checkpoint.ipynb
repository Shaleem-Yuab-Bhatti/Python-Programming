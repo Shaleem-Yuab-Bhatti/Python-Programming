{
 "cells": [
  {
   "cell_type": "raw",
   "metadata": {},
   "source": [
    "1. Write a Python program to calculate the length of a string."
   ]
  },
  {
   "cell_type": "code",
   "execution_count": 2,
   "metadata": {},
   "outputs": [
    {
     "name": "stdout",
     "output_type": "stream",
     "text": [
      "7\n"
     ]
    }
   ],
   "source": [
    "length = 'shaleem'\n",
    "print(len(length))"
   ]
  },
  {
   "cell_type": "raw",
   "metadata": {},
   "source": [
    "2. Write a Python program to count the number of characters (character frequency) in a string.\n",
    "Sample String : google.com'\n",
    "Expected Result : {'o': 3, 'g': 2, '.': 1, 'e': 1, 'l': 1, 'm': 1, 'c': 1}"
   ]
  },
  {
   "cell_type": "code",
   "execution_count": 4,
   "metadata": {},
   "outputs": [
    {
     "name": "stdout",
     "output_type": "stream",
     "text": [
      "Sample String : google.com\n",
      "Expected Result : {'g': 2, 'o': 3, 'l': 1, 'e': 1, '.': 1, 'c': 1, 'm': 1}\n"
     ]
    }
   ],
   "source": [
    "string = input('Sample String : ')\n",
    "dictionary = dict()\n",
    "for char in string:\n",
    "    dictionary[char] = string.count(char)\n",
    "print(f\"Expected Result : {dictionary}\")"
   ]
  },
  {
   "cell_type": "raw",
   "metadata": {},
   "source": [
    "3. Write a Python program to get a string made of the first 2 and the last 2 chars from a given a string. If the string length is less than 2, return instead of the empty string.\n",
    "\n",
    "Sample String : 'w3resource'\n",
    "Expected Result : 'w3ce'\n",
    "Sample String : 'w3'\n",
    "Expected Result : 'w3w3'\n",
    "Sample String : ' w'\n",
    "Expected Result : Empty String "
   ]
  },
  {
   "cell_type": "code",
   "execution_count": 14,
   "metadata": {},
   "outputs": [
    {
     "name": "stdout",
     "output_type": "stream",
     "text": [
      "Sample String : w3\n",
      "Expected Result : w3w3\n"
     ]
    }
   ],
   "source": [
    "string  = input('Sample String : ')\n",
    "f_chars = string[0:2]\n",
    "l_chars = string[-2:]\n",
    "total = f_chars + l_chars\n",
    "if len(string) < 2:\n",
    "    print(f\"Expected Result : Empty String\")\n",
    "elif string:\n",
    "        print(f'Expected Result : {total}')\n",
    "elif string is f_char:\n",
    "    print(f\"Expected Result : {f_char + f_char}\")\n",
    "elif string is l_char:\n",
    "    print(f\"Expected Result : {l_char + l_char}\")"
   ]
  },
  {
   "cell_type": "raw",
   "metadata": {},
   "source": [
    "4. Write a Python program to get a string from a given string where all occurrences of its first char have been changed to '$', except the first char itself.\n",
    "Sample String : 'restart'\n",
    "Expected Result : 'resta$t'"
   ]
  },
  {
   "cell_type": "code",
   "execution_count": 142,
   "metadata": {},
   "outputs": [
    {
     "data": {
      "text/plain": [
       "'resta$t'"
      ]
     },
     "execution_count": 142,
     "metadata": {},
     "output_type": "execute_result"
    }
   ],
   "source": [
    "def change_char(str1): \n",
    "    rep = str1[1:].replace(\"r\",'$')\n",
    "    return \"r\" + rep\n",
    "change_char('restart')\n"
   ]
  },
  {
   "cell_type": "raw",
   "metadata": {},
   "source": [
    "5. Write a Python program to get a single string from two given strings, separated by a space and swap the first two characters of each string. \n",
    "Sample String : 'abc', 'xyz'\n",
    "Expected Result : 'xyc abz'"
   ]
  },
  {
   "cell_type": "code",
   "execution_count": 167,
   "metadata": {},
   "outputs": [
    {
     "name": "stdout",
     "output_type": "stream",
     "text": [
      "Expected Result :xyc abz\n"
     ]
    }
   ],
   "source": [
    "def swap(a,b):\n",
    "    f_s = a[0:2] + b[-1] \n",
    "    l_s = b[0:2] + a[-1]\n",
    "    return f\"Expected Result :\" + l_s + \" \" + f_s\n",
    "print(swap('abc', 'xyz'))"
   ]
  },
  {
   "cell_type": "raw",
   "metadata": {},
   "source": [
    "6. Write a Python program to add 'ing' at the end of a given string (length should be at least 3). If the given string already ends with 'ing' then add 'ly' instead. If the string length of the given string is less than 3, leave it unchanged.\n",
    "Sample String : 'abc'\n",
    "Expected Result : 'abcing' \n",
    "Sample String : 'string'\n",
    "Expected Result : 'stringly"
   ]
  },
  {
   "cell_type": "code",
   "execution_count": 182,
   "metadata": {},
   "outputs": [
    {
     "name": "stdout",
     "output_type": "stream",
     "text": [
      "Sample String : abc\n",
      "abcing\n"
     ]
    }
   ],
   "source": [
    "string = input(\"Sample String : \")\n",
    "if string.endswith(\"ing\"):\n",
    "    print(string[:] + \"ly\")\n",
    "else:\n",
    "    print(string[:] + \"ing\")"
   ]
  },
  {
   "cell_type": "raw",
   "metadata": {},
   "source": [
    "7. Write a Python program to find the first appearance of the substring 'not' and 'poor' from a given string, if 'not' follows the 'poor', replace the whole 'not'...'poor' substring with 'good'. Return the resulting string. \n",
    "Sample String : 'The lyrics is not that poor!'\n",
    "'The lyrics is poor!'\n",
    "Expected Result : 'The lyrics is good!'\n",
    "'The lyrics is poor!'"
   ]
  },
  {
   "cell_type": "code",
   "execution_count": 205,
   "metadata": {},
   "outputs": [
    {
     "name": "stdout",
     "output_type": "stream",
     "text": [
      "Enter a string : the lyrics is not that poor\n",
      "The lyrics is poor!\n"
     ]
    }
   ],
   "source": [
    "string = input(\"Enter a string : \")\n",
    "not_pos_found  = a.find(\"not\")\n",
    "poor_pos_found = a.find(\"poor\")\n",
    "if not_pos_found < poor_pos_found:\n",
    "    rep = a.replace(a[14:28],\"poor\")\n",
    "    print(rep)\n",
    "else:\n",
    "    rep = a.replace(\"good\",\"poor\")\n",
    "    print(rep)"
   ]
  },
  {
   "cell_type": "raw",
   "metadata": {},
   "source": [
    "8. Write a Python function that takes a list of words and returns the length of the longest one."
   ]
  },
  {
   "cell_type": "code",
   "execution_count": 1,
   "metadata": {},
   "outputs": [
    {
     "name": "stdout",
     "output_type": "stream",
     "text": [
      "awesome : 7\n"
     ]
    }
   ],
   "source": [
    "def long(l):\n",
    "    e = [len(i) for i in l]\n",
    "    sort = max(sorted(e))\n",
    "    fi = [i for i in l if len(i) == sort ]\n",
    "    print(f\"{''.join(fi)} : {sort}\")\n",
    "li = [\"he\",\"is\",\"awesome\"]\n",
    "long(li)"
   ]
  },
  {
   "cell_type": "code",
   "execution_count": 1,
   "metadata": {},
   "outputs": [
    {
     "name": "stdout",
     "output_type": "stream",
     "text": [
      "EXERCISE : 8\n"
     ]
    }
   ],
   "source": [
    "def long(l):\n",
    "    e = []\n",
    "    for i in l:\n",
    "        e.append(len(i))\n",
    "    sort = max(sorted(e))\n",
    "    for i in l:\n",
    "        if len(i) == sort:\n",
    "            print(f\"{i} : {sort}\")\n",
    "li = [\"PHP\",\"EXERCISE\",\"BACKEND\"]\n",
    "long(li)"
   ]
  },
  {
   "cell_type": "code",
   "execution_count": null,
   "metadata": {},
   "outputs": [],
   "source": [
    "s = 'i love algorithm'"
   ]
  }
 ],
 "metadata": {
  "kernelspec": {
   "display_name": "Python 3",
   "language": "python",
   "name": "python3"
  },
  "language_info": {
   "codemirror_mode": {
    "name": "ipython",
    "version": 3
   },
   "file_extension": ".py",
   "mimetype": "text/x-python",
   "name": "python",
   "nbconvert_exporter": "python",
   "pygments_lexer": "ipython3",
   "version": "3.7.3"
  }
 },
 "nbformat": 4,
 "nbformat_minor": 2
}
