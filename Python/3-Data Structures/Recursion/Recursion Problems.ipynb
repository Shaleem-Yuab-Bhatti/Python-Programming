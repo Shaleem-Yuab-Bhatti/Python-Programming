{
 "cells": [
  {
   "cell_type": "code",
   "execution_count": 1,
   "metadata": {},
   "outputs": [
    {
     "name": "stdout",
     "output_type": "stream",
     "text": [
      "1\n",
      "2\n",
      "3\n",
      "4\n"
     ]
    }
   ],
   "source": [
    "def p_e(a):\n",
    "    if not a:\n",
    "        return \n",
    "    print(a[0])\n",
    "    p_e(a[1:])\n",
    "l = [1,2,3,4]\n",
    "p_e(l)"
   ]
  },
  {
   "cell_type": "code",
   "execution_count": 2,
   "metadata": {},
   "outputs": [
    {
     "name": "stdout",
     "output_type": "stream",
     "text": [
      "4\n",
      "5\n",
      "6\n"
     ]
    }
   ],
   "source": [
    "def p_e(a,start,end):\n",
    "    if start == end + 1:\n",
    "        return\n",
    "    print(a[start])\n",
    "    p_e(a,start+1,end)\n",
    "l = [4,5,6]\n",
    "s = 0\n",
    "e = len(l)-1\n",
    "p_e(l,s,e)"
   ]
  },
  {
   "cell_type": "code",
   "execution_count": 3,
   "metadata": {},
   "outputs": [
    {
     "name": "stdout",
     "output_type": "stream",
     "text": [
      "4\n",
      "5\n",
      "6\n"
     ]
    }
   ],
   "source": [
    "def p_e(a,start,end):\n",
    "    if start >= end + 1:\n",
    "        return\n",
    "    print(a[start])\n",
    "    p_e(a,start+1,end)\n",
    "l = [4,5,6]\n",
    "s = 0\n",
    "e = len(l)-1\n",
    "p_e(l,s,e)"
   ]
  },
  {
   "cell_type": "code",
   "execution_count": 4,
   "metadata": {},
   "outputs": [
    {
     "name": "stdout",
     "output_type": "stream",
     "text": [
      "*\n"
     ]
    }
   ],
   "source": [
    "def p_s(a):\n",
    "    if a == 0:\n",
    "        return\n",
    "    print('*')\n",
    "    p_s(a-1)\n",
    "p_s(1)"
   ]
  },
  {
   "cell_type": "code",
   "execution_count": 5,
   "metadata": {},
   "outputs": [
    {
     "name": "stdout",
     "output_type": "stream",
     "text": [
      "*\n",
      "*\n",
      "*\n",
      "*\n"
     ]
    }
   ],
   "source": [
    "def p_s(a):\n",
    "    if a == 1:\n",
    "        print('*')\n",
    "    else:\n",
    "        print('*')\n",
    "        p_s(a-1)\n",
    "p_s(4)"
   ]
  },
  {
   "cell_type": "code",
   "execution_count": 6,
   "metadata": {},
   "outputs": [],
   "source": [
    "def f(n):\n",
    "    a = 1\n",
    "    if n == 1:\n",
    "        return a\n",
    "    else:\n",
    "        a *= n\n",
    "        f(n-1)\n",
    "f(5)"
   ]
  },
  {
   "cell_type": "code",
   "execution_count": 7,
   "metadata": {},
   "outputs": [
    {
     "name": "stdout",
     "output_type": "stream",
     "text": [
      "True\n"
     ]
    }
   ],
   "source": [
    "def is_palindrome(s,l,h):\n",
    "    if l > h:\n",
    "        return True\n",
    "    else:\n",
    "        if s[l] == s[h]:\n",
    "            return is_palindrome(s,l+1,h-1)\n",
    "        else:\n",
    "            return False\n",
    "name = 'madam'\n",
    "f = 0\n",
    "l = len(name)-1\n",
    "print(is_palindrome(name,0,l))"
   ]
  },
  {
   "cell_type": "code",
   "execution_count": 8,
   "metadata": {},
   "outputs": [
    {
     "name": "stdout",
     "output_type": "stream",
     "text": [
      "[4, 1, 2, 3]\n"
     ]
    }
   ],
   "source": [
    "def rot(n,l):\n",
    "    e = []\n",
    "    for i in range(len(l)-n,len(l)):\n",
    "#                3-2 = (1), 3\n",
    "        e.append(l[i])\n",
    "    for i in range(0,len(l)-n):\n",
    "#         0,3-2 = 0,1\n",
    "        e.append(l[i])\n",
    "    return e\n",
    "n = 1\n",
    "l = [1,2,3,4]\n",
    "print(rot(n,l))"
   ]
  },
  {
   "cell_type": "code",
   "execution_count": 9,
   "metadata": {},
   "outputs": [
    {
     "name": "stdout",
     "output_type": "stream",
     "text": [
      "21\n"
     ]
    }
   ],
   "source": [
    "def r(l):\n",
    "    total = 0\n",
    "    for i in l:\n",
    "        if type(i) == list:\n",
    "            total += r(i)\n",
    "        else:\n",
    "            total += i\n",
    "    return total\n",
    "l = [1,2,[3,4],[5,6]]\n",
    "print(r(l))"
   ]
  },
  {
   "cell_type": "code",
   "execution_count": 10,
   "metadata": {},
   "outputs": [
    {
     "name": "stdout",
     "output_type": "stream",
     "text": [
      "6\n"
     ]
    }
   ],
   "source": [
    "def s(n):\n",
    "    if n == 0:\n",
    "        return 0\n",
    "    else:\n",
    "        return n % 10 + s(n//10)\n",
    "print(s(123))"
   ]
  },
  {
   "cell_type": "code",
   "execution_count": null,
   "metadata": {},
   "outputs": [],
   "source": []
  }
 ],
 "metadata": {
  "kernelspec": {
   "display_name": "Python 3",
   "language": "python",
   "name": "python3"
  },
  "language_info": {
   "codemirror_mode": {
    "name": "ipython",
    "version": 3
   },
   "file_extension": ".py",
   "mimetype": "text/x-python",
   "name": "python",
   "nbconvert_exporter": "python",
   "pygments_lexer": "ipython3",
   "version": "3.7.3"
  }
 },
 "nbformat": 4,
 "nbformat_minor": 2
}
