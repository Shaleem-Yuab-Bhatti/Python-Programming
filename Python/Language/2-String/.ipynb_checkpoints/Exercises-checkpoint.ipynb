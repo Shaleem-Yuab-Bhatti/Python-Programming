{
 "cells": [
  {
   "cell_type": "markdown",
   "metadata": {},
   "source": [
    "# Exercise 1 "
   ]
  },
  {
   "cell_type": "markdown",
   "metadata": {},
   "source": [
    "Tutorial 19"
   ]
  },
  {
   "cell_type": "markdown",
   "metadata": {},
   "source": [
    "Ask User to input 3 numbers and you have to print averag of 3 numbers\n",
    "using string formatting.\n",
    "Try to take all 3 comma seperated inputs in 1 line."
   ]
  },
  {
   "cell_type": "code",
   "execution_count": 2,
   "metadata": {},
   "outputs": [
    {
     "name": "stdout",
     "output_type": "stream",
     "text": [
      "enter 3 nums 5,5,5\n",
      "average of 3 nums is 5.0\n"
     ]
    }
   ],
   "source": [
    "num1,num2,num3 = input('enter 3 nums ').split(',')\n",
    "avg = (int(num1) + int(num2) + int(num3))/3\n",
    "print(f'average of 3 nums is {avg}')"
   ]
  },
  {
   "cell_type": "code",
   "execution_count": 9,
   "metadata": {},
   "outputs": [
    {
     "name": "stdout",
     "output_type": "stream",
     "text": [
      "enter 3 nums 5,5,5\n",
      "average of 3 nums is 5.0\n"
     ]
    }
   ],
   "source": [
    "num1,num2,num3 = input('enter 3 nums ').split(',') \n",
    "print(f'average of 3 nums is {(int(num1) + int(num2) + int(num3))/3}')"
   ]
  },
  {
   "cell_type": "markdown",
   "metadata": {},
   "source": [
    "# Exercise 2"
   ]
  },
  {
   "cell_type": "markdown",
   "metadata": {},
   "source": [
    "Tutorial 24"
   ]
  },
  {
   "cell_type": "markdown",
   "metadata": {},
   "source": [
    "Ask user name and print back user name in reverse order.\n",
    "Try to make your program in 2 line using string formatting."
   ]
  },
  {
   "cell_type": "code",
   "execution_count": 15,
   "metadata": {},
   "outputs": [
    {
     "name": "stdout",
     "output_type": "stream",
     "text": [
      "Enter your name :shaleem\n",
      "reverse order of your name is meelahs\n",
      "reverse order of your name is meelahs\n"
     ]
    }
   ],
   "source": [
    "user_name = input('Enter your name :')\n",
    "print(f'reverse order of your name is {user_name[::-1]}')\n",
    "print('reverse order of your name is {}'.format(user_name[::-1]))"
   ]
  },
  {
   "cell_type": "markdown",
   "metadata": {},
   "source": [
    "# Exercise 3"
   ]
  },
  {
   "cell_type": "markdown",
   "metadata": {},
   "source": [
    "Tutorial 31"
   ]
  },
  {
   "cell_type": "raw",
   "metadata": {},
   "source": [
    "Take two comma seperated inputs from user\n",
    "input\n",
    "     1-user name , 'shaleem'\n",
    "     2-a single character  , h\n",
    "\n",
    "output\n",
    "      1-user's name in length\n",
    "      2-count the character e.g(h) that user inputed"
   ]
  },
  {
   "cell_type": "code",
   "execution_count": null,
   "metadata": {},
   "outputs": [],
   "source": [
    "name,char = input('Enter name and char:').split(',')\n",
    "print(len(name.lower()))\n",
    "print(name.lower().count(char.lower()))"
   ]
  }
 ],
 "metadata": {
  "kernelspec": {
   "display_name": "Python 3",
   "language": "python",
   "name": "python3"
  },
  "language_info": {
   "codemirror_mode": {
    "name": "ipython",
    "version": 3
   },
   "file_extension": ".py",
   "mimetype": "text/x-python",
   "name": "python",
   "nbconvert_exporter": "python",
   "pygments_lexer": "ipython3",
   "version": "3.7.3"
  }
 },
 "nbformat": 4,
 "nbformat_minor": 2
}
