{
 "cells": [
  {
   "cell_type": "markdown",
   "metadata": {},
   "source": [
    "# strings"
   ]
  },
  {
   "cell_type": "code",
   "execution_count": 3,
   "metadata": {},
   "outputs": [
    {
     "name": "stdout",
     "output_type": "stream",
     "text": [
      "shaleemyuab\n",
      "shaleem yuab\n"
     ]
    }
   ],
   "source": [
    "first_name = 'shaleem'   # or 'shaleem ' space after m\n",
    "last_name = 'yuab'      \n",
    "print(first_name + last_name) # concatenate + ' ' + to makee spac\n",
    "print(first_name,last_name)"
   ]
  },
  {
   "cell_type": "code",
   "execution_count": 6,
   "metadata": {},
   "outputs": [
    {
     "name": "stdout",
     "output_type": "stream",
     "text": [
      "shaleem shaleem shaleem \n"
     ]
    }
   ],
   "source": [
    "first_name = 'shaleem '\n",
    "# print(first_name + 3) # cant concatenate with int\n",
    "print(first_name * 3) # 3 times print first_name"
   ]
  },
  {
   "cell_type": "markdown",
   "metadata": {},
   "source": [
    "Input function"
   ]
  },
  {
   "cell_type": "code",
   "execution_count": 10,
   "metadata": {},
   "outputs": [
    {
     "name": "stdout",
     "output_type": "stream",
     "text": [
      "enter your name shaleem\n",
      "hello shaleem\n"
     ]
    }
   ],
   "source": [
    "name = input('enter your name ')\n",
    "print('hello ' + name)"
   ]
  },
  {
   "cell_type": "code",
   "execution_count": 13,
   "metadata": {},
   "outputs": [
    {
     "name": "stdout",
     "output_type": "stream",
     "text": [
      "enter your age 21\n",
      "your age is 21\n"
     ]
    }
   ],
   "source": [
    "age = int(input('enter your age '))\n",
    "print('your age is '+str(age))"
   ]
  },
  {
   "cell_type": "raw",
   "metadata": {},
   "source": [
    "int and float value can be added but output will be in float"
   ]
  },
  {
   "cell_type": "code",
   "execution_count": 14,
   "metadata": {},
   "outputs": [
    {
     "name": "stdout",
     "output_type": "stream",
     "text": [
      "enter 1st number 3\n",
      "enter 2nd number 3\n",
      "total is 6\n"
     ]
    }
   ],
   "source": [
    "first_number = int(input('enter 1st number '))\n",
    "second_number = int(input('enter 2nd number '))\n",
    "total = first_number + second_number\n",
    "print('total is '+ str(total))"
   ]
  },
  {
   "cell_type": "raw",
   "metadata": {},
   "source": [
    "how to create more variables in 1 line and "
   ]
  },
  {
   "cell_type": "code",
   "execution_count": 19,
   "metadata": {},
   "outputs": [
    {
     "name": "stdout",
     "output_type": "stream",
     "text": [
      "shaleem\n",
      "21\n"
     ]
    }
   ],
   "source": [
    "name,age = 'shaleem',21\n",
    "print(name)\n",
    "print(age)"
   ]
  },
  {
   "cell_type": "code",
   "execution_count": 21,
   "metadata": {},
   "outputs": [
    {
     "name": "stdout",
     "output_type": "stream",
     "text": [
      "3\n",
      "5\n"
     ]
    }
   ],
   "source": [
    "a,b = 3,5\n",
    "print(a)\n",
    "print(b) # the will be assigned to the respective order"
   ]
  },
  {
   "cell_type": "code",
   "execution_count": 42,
   "metadata": {},
   "outputs": [
    {
     "name": "stdout",
     "output_type": "stream",
     "text": [
      "9\n",
      "3\n"
     ]
    }
   ],
   "source": [
    "a = 3\n",
    "b = 9\n",
    "c = 0\n",
    "d = 0\n",
    "c,d = a,b   # swapping\n",
    "print(d)\n",
    "print(c)"
   ]
  },
  {
   "cell_type": "code",
   "execution_count": 49,
   "metadata": {},
   "outputs": [
    {
     "name": "stdout",
     "output_type": "stream",
     "text": [
      "hello shaleem your age is 21\n"
     ]
    }
   ],
   "source": [
    "name,age = 'shaleem',21\n",
    "print('hello ' + name  + ' your age is ' + str(age))"
   ]
  },
  {
   "cell_type": "code",
   "execution_count": 52,
   "metadata": {},
   "outputs": [
    {
     "name": "stdout",
     "output_type": "stream",
     "text": [
      "1\n",
      "1\n"
     ]
    }
   ],
   "source": [
    "x = y = z = 1\n",
    "print(x)\n",
    "print(y)  # assign same value in diff var"
   ]
  },
  {
   "cell_type": "raw",
   "metadata": {},
   "source": [
    "use input to get two value in 1 line"
   ]
  },
  {
   "cell_type": "code",
   "execution_count": null,
   "metadata": {},
   "outputs": [],
   "source": [
    "name,age = input('enter your name and age ').split('#')\n",
    "print('hello ' + name + ' your age is' + str(age))"
   ]
  },
  {
   "cell_type": "markdown",
   "metadata": {},
   "source": [
    "String Formatting"
   ]
  },
  {
   "cell_type": "code",
   "execution_count": 76,
   "metadata": {},
   "outputs": [
    {
     "name": "stdout",
     "output_type": "stream",
     "text": [
      "enter your name and age shaleem # 21\n",
      "hello shaleem    your age is  21\n"
     ]
    }
   ],
   "source": [
    "# python 3\n",
    "name,age = input('enter your name and age ').split('#')\n",
    "print('hello {} your age is {}'.format(name,age))"
   ]
  },
  {
   "cell_type": "code",
   "execution_count": 77,
   "metadata": {},
   "outputs": [
    {
     "name": "stdout",
     "output_type": "stream",
     "text": [
      "enter your name and age shaleem # 21\n",
      "Hello shaleem  your age is  21\n"
     ]
    }
   ],
   "source": [
    "# python 3.7\n",
    "name,age = input('enter your name and age ').split('#')\n",
    "print(f'Hello {name} your age is {age}')"
   ]
  },
  {
   "cell_type": "markdown",
   "metadata": {},
   "source": [
    "# String Indexing"
   ]
  },
  {
   "cell_type": "code",
   "execution_count": 2,
   "metadata": {},
   "outputs": [
    {
     "name": "stdout",
     "output_type": "stream",
     "text": [
      "h\n"
     ]
    }
   ],
   "source": [
    "language = 'python'\n",
    "print(language[3])  # in pyton [] used for indexing"
   ]
  },
  {
   "cell_type": "code",
   "execution_count": 5,
   "metadata": {},
   "outputs": [
    {
     "name": "stdout",
     "output_type": "stream",
     "text": [
      "python\n",
      "n\n"
     ]
    }
   ],
   "source": [
    "language = 'python'\n",
    "print(language[:])  # start to end\n",
    "print(language[-1]) # if you dont know the last character of string\n",
    "                    # but you want to print so use -1 which is last"
   ]
  },
  {
   "cell_type": "code",
   "execution_count": 6,
   "metadata": {},
   "outputs": [],
   "source": [
    "#   p    y     t    h    o    n\n",
    "#   0    1     2    3    4    5\n",
    "#  -6    -5    -4  -3   -2   -1"
   ]
  },
  {
   "cell_type": "markdown",
   "metadata": {},
   "source": [
    "String slicing"
   ]
  },
  {
   "cell_type": "code",
   "execution_count": 9,
   "metadata": {},
   "outputs": [
    {
     "name": "stdout",
     "output_type": "stream",
     "text": [
      "py\n"
     ]
    }
   ],
   "source": [
    "lang = 'python'  # if p to y\n",
    "print(lang[0:2])    # [start argument : stop argument]\n",
    "                    # stop argument will not be included"
   ]
  },
  {
   "cell_type": "code",
   "execution_count": 43,
   "metadata": {},
   "outputs": [
    {
     "name": "stdout",
     "output_type": "stream",
     "text": [
      "on\n"
     ]
    }
   ],
   "source": [
    "#  p    y    t    h    o   n\n",
    "#                -3        6\n",
    "lang = 'python'  \n",
    "print(lang[-2:])   # -3 to 6\n",
    " "
   ]
  },
  {
   "cell_type": "code",
   "execution_count": 63,
   "metadata": {},
   "outputs": [
    {
     "name": "stdout",
     "output_type": "stream",
     "text": [
      "bauy meelahs\n"
     ]
    }
   ],
   "source": [
    "# Step argument\n",
    "# var name or 'string'[start arg:stop arg:step arg]\n",
    "a = 'shaleem yuab'\n",
    "print(a[::-1])"
   ]
  },
  {
   "cell_type": "code",
   "execution_count": 121,
   "metadata": {},
   "outputs": [
    {
     "name": "stdout",
     "output_type": "stream",
     "text": [
      "it\n"
     ]
    }
   ],
   "source": [
    "a = 'Harshit'\n",
    "print(a[-2:])\n",
    "#   h    a   r   s   h   i   t\n",
    "#        1              -2\n",
    "#                   -3"
   ]
  },
  {
   "cell_type": "code",
   "execution_count": 122,
   "metadata": {},
   "outputs": [],
   "source": [
    "a = [\"a\",'b','c','d','e','f','g','h']\n",
    "a[:]  # full \n",
    "a[:5]   # abcdef\n",
    "a[:-1]   # abcdefg\n",
    "a[4:] # efgh\n",
    "a[-3:]  # fgh\n",
    "a[2:5] #   cde\n",
    "a[2:-1]  # cdefg\n",
    "a[-3:-1] # fg"
   ]
  },
  {
   "cell_type": "markdown",
   "metadata": {},
   "source": [
    "# String Method Part 1"
   ]
  },
  {
   "cell_type": "raw",
   "metadata": {},
   "source": [
    "1-len() function  ---> give the length in string\n",
    "2-.lower()        ---> turn the string in lower letter\n",
    "3-.upper()        ---> turn the string in capital letter\n",
    "4-.title()        ---> turn the first letter in capital of each word in str\n",
    "5-.capitalize()   ---> turn the first letter in capital of string\n",
    "5-.count()        ---> count the character in string, how many chars"
   ]
  },
  {
   "cell_type": "code",
   "execution_count": 136,
   "metadata": {},
   "outputs": [
    {
     "name": "stdout",
     "output_type": "stream",
     "text": [
      "SHALEEM YUAB BHATTI IS A PROGRAMMER AND ENGINEER\n",
      "shaleem yuab bhatti is a programmer and engineer\n",
      "Shaleem Yuab Bhatti Is A Programmer And Engineer\n",
      "Shaleem yuab bhatti is a programmer and engineer\n",
      "2\n"
     ]
    }
   ],
   "source": [
    "name = 'shaleem yuab bhatti is a programmer and engineer'\n",
    "print(name.upper())\n",
    "print(name.lower())\n",
    "print(name.title())\n",
    "print(name.capitalize())\n",
    "print(name.count('g'))"
   ]
  },
  {
   "cell_type": "raw",
   "metadata": {},
   "source": [
    "6-.strip()    ---> use to remove spaces\n",
    "7-.rstrip()   ---> use to remove spaces from right\n",
    "8-.lstrip()   ---> use to remove spaces from left\n",
    "9-.replace()   ---> takes 2 args whom,with\n",
    "10-.find()     ---> find the position of given char\n",
    "11-.index()    ---> both find and index are totally same"
   ]
  },
  {
   "cell_type": "code",
   "execution_count": 17,
   "metadata": {
    "scrolled": true
   },
   "outputs": [
    {
     "name": "stdout",
     "output_type": "stream",
     "text": [
      "    shaleem    .............\n",
      "shaleem.............\n",
      "shaleem.............\n"
     ]
    }
   ],
   "source": [
    "name = '    shaleem    '\n",
    "dots = '.............' \n",
    "print(name + dots)    # 1st do rstip and store it in var then do lstrip\n",
    "rstrip = name.rstrip() + dots\n",
    "print(rstrip.lstrip())\n",
    "print(name.strip() + dots)"
   ]
  },
  {
   "cell_type": "code",
   "execution_count": 36,
   "metadata": {},
   "outputs": [
    {
     "name": "stdout",
     "output_type": "stream",
     "text": [
      "shaleeem\n"
     ]
    }
   ],
   "source": [
    "v = ' shale   eem'\n",
    "print(v.replace(' ',''))"
   ]
  },
  {
   "cell_type": "raw",
   "metadata": {},
   "source": [
    "both index and find are useful when we want to find any position in string"
   ]
  },
  {
   "cell_type": "code",
   "execution_count": 49,
   "metadata": {},
   "outputs": [
    {
     "name": "stdout",
     "output_type": "stream",
     "text": [
      "4\n"
     ]
    }
   ],
   "source": [
    "name = 'e she is beautiful and brave'\n",
    "b = name.index('e',1)\n",
    "print(b)\n",
    "# name.index('e',b+2)"
   ]
  },
  {
   "cell_type": "code",
   "execution_count": 61,
   "metadata": {},
   "outputs": [
    {
     "name": "stdout",
     "output_type": "stream",
     "text": [
      "10\n",
      "27\n"
     ]
    }
   ],
   "source": [
    "name = 'e she is beautiful and brave'\n",
    "b = name.find('e',1)\n",
    "# print(b)\n",
    "c = name.index('e',b+1)\n",
    "print(c)\n",
    "d = name.index('e',c+1)\n",
    "print(d)"
   ]
  },
  {
   "cell_type": "code",
   "execution_count": 3,
   "metadata": {},
   "outputs": [
    {
     "data": {
      "text/plain": [
       "21"
      ]
     },
     "execution_count": 3,
     "metadata": {},
     "output_type": "execute_result"
    }
   ],
   "source": [
    "name = 'he is handsom and he is so cute'\n",
    "stored_is = name.find('is')\n",
    "name.find('is',stored_is+1)"
   ]
  },
  {
   "cell_type": "markdown",
   "metadata": {},
   "source": [
    "Center method"
   ]
  },
  {
   "cell_type": "code",
   "execution_count": 4,
   "metadata": {},
   "outputs": [
    {
     "name": "stdout",
     "output_type": "stream",
     "text": [
      "*shaleem*\n"
     ]
    }
   ],
   "source": [
    "name = 'shaleem'\n",
    "print(name.center(len(name)+2,'*'))"
   ]
  },
  {
   "cell_type": "code",
   "execution_count": 6,
   "metadata": {},
   "outputs": [
    {
     "name": "stdout",
     "output_type": "stream",
     "text": [
      "shaleem*\n"
     ]
    }
   ],
   "source": [
    "name = 'shaleem'\n",
    "print(name.center(len(name)+1,'*'))"
   ]
  },
  {
   "cell_type": "markdown",
   "metadata": {},
   "source": [
    "Strings are immutable in pyton means once defin can not be changed.\n",
    "replace method does not change the original string but it creates another\n",
    "string and change it with given "
   ]
  },
  {
   "cell_type": "code",
   "execution_count": 10,
   "metadata": {},
   "outputs": [
    {
     "data": {
      "text/plain": [
       "'shaleem'"
      ]
     },
     "execution_count": 10,
     "metadata": {},
     "output_type": "execute_result"
    }
   ],
   "source": [
    "name = 'shalee'\n",
    "name += 'm'\n",
    "name"
   ]
  },
  {
   "cell_type": "code",
   "execution_count": null,
   "metadata": {},
   "outputs": [],
   "source": []
  }
 ],
 "metadata": {
  "kernelspec": {
   "display_name": "Python 3",
   "language": "python",
   "name": "python3"
  },
  "language_info": {
   "codemirror_mode": {
    "name": "ipython",
    "version": 3
   },
   "file_extension": ".py",
   "mimetype": "text/x-python",
   "name": "python",
   "nbconvert_exporter": "python",
   "pygments_lexer": "ipython3",
   "version": "3.7.3"
  }
 },
 "nbformat": 4,
 "nbformat_minor": 2
}
