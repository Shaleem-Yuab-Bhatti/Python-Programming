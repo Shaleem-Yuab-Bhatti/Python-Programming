{
 "cells": [
  {
   "cell_type": "markdown",
   "metadata": {},
   "source": [
    "# Lambda"
   ]
  },
  {
   "cell_type": "markdown",
   "metadata": {},
   "source": [
    "lambda mai sirf if else chalta hai loop nhi chlta loop us mai built in hota hai means k lambda mai loop apny aap chalta hai for example"
   ]
  },
  {
   "cell_type": "raw",
   "metadata": {},
   "source": [
    "s = [\n",
    "    {'name' : 'shaleem' , 'score' : 60 , 'age' : 21},\n",
    "    {'name' : 'yuab' ,    'score' : 77 , 'age' : 22},\n",
    "    {'name' : 'bhatti' ,  'score' : 45 , 'age' : 20},\n",
    "]\n",
    "\n",
    "es per jab lambda function lagy ga tou list nhi jaye gy balky dictionary\n",
    "jaye gy for aur phir lambda aisy lay ga\n",
    "\n",
    "lambda d : es k baad hum dictionary ka name likhenge dictionary access krny k liye aur square brackets mai us ki key ka name\n",
    "\n",
    "d['name']\n",
    "if dictionary has name like \n",
    "di['score']"
   ]
  },
  {
   "cell_type": "code",
   "execution_count": null,
   "metadata": {},
   "outputs": [],
   "source": []
  },
  {
   "cell_type": "code",
   "execution_count": null,
   "metadata": {},
   "outputs": [],
   "source": []
  },
  {
   "cell_type": "code",
   "execution_count": 1,
   "metadata": {},
   "outputs": [
    {
     "name": "stdout",
     "output_type": "stream",
     "text": [
      "10\n"
     ]
    }
   ],
   "source": [
    "x = lambda a: a + a\n",
    "print(x(5))"
   ]
  },
  {
   "cell_type": "code",
   "execution_count": 2,
   "metadata": {},
   "outputs": [
    {
     "name": "stdout",
     "output_type": "stream",
     "text": [
      "m\n"
     ]
    }
   ],
   "source": [
    "x = lambda s : s[-1]\n",
    "print(x('shaleem'))"
   ]
  },
  {
   "cell_type": "code",
   "execution_count": 4,
   "metadata": {},
   "outputs": [
    {
     "name": "stdout",
     "output_type": "stream",
     "text": [
      "[2, 4, 6, 8]\n"
     ]
    }
   ],
   "source": []
  },
  {
   "cell_type": "code",
   "execution_count": 22,
   "metadata": {},
   "outputs": [
    {
     "name": "stdout",
     "output_type": "stream",
     "text": [
      "palindrome\n"
     ]
    }
   ],
   "source": [
    "a = 'level'\n",
    "l = lambda x : 'palindrome' if x == x[::-1] else False\n",
    "print(l(a))\n"
   ]
  },
  {
   "cell_type": "code",
   "execution_count": 28,
   "metadata": {},
   "outputs": [
    {
     "name": "stdout",
     "output_type": "stream",
     "text": [
      "Ener a number 38\n",
      "divisible by 13 or 19\n"
     ]
    }
   ],
   "source": [
    "a = int(input(\"Ener a number \"))\n",
    "l = lambda x : \"divisible by 13 or 19\" if x%19==0 or x%13==0 else False\n",
    "print(l(a))"
   ]
  },
  {
   "cell_type": "code",
   "execution_count": 33,
   "metadata": {},
   "outputs": [
    {
     "name": "stdout",
     "output_type": "stream",
     "text": [
      "True\n"
     ]
    }
   ],
   "source": [
    "func = lambda l : len(l) > 5\n",
    "print(func([1,2,3,4,5,6]))"
   ]
  },
  {
   "cell_type": "code",
   "execution_count": 1,
   "metadata": {},
   "outputs": [
    {
     "name": "stdout",
     "output_type": "stream",
     "text": [
      "10\n"
     ]
    }
   ],
   "source": [
    "x = lambda a , b: a+b\n",
    "print(x(4,6))"
   ]
  }
 ],
 "metadata": {
  "kernelspec": {
   "display_name": "Python 3",
   "language": "python",
   "name": "python3"
  },
  "language_info": {
   "codemirror_mode": {
    "name": "ipython",
    "version": 3
   },
   "file_extension": ".py",
   "mimetype": "text/x-python",
   "name": "python",
   "nbconvert_exporter": "python",
   "pygments_lexer": "ipython3",
   "version": "3.7.3"
  }
 },
 "nbformat": 4,
 "nbformat_minor": 2
}
