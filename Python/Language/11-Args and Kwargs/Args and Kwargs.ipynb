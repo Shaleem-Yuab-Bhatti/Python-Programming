{
 "cells": [
  {
   "cell_type": "markdown",
   "metadata": {},
   "source": [
    "# *args and **kwargs"
   ]
  },
  {
   "cell_type": "markdown",
   "metadata": {},
   "source": [
    "*args"
   ]
  },
  {
   "cell_type": "code",
   "execution_count": 2,
   "metadata": {},
   "outputs": [
    {
     "name": "stdout",
     "output_type": "stream",
     "text": [
      "[3, 5]\n"
     ]
    }
   ],
   "source": [
    "def fu(*args):\n",
    "    return [i for i in args if args.count(i) == 1]\n",
    "print(fu(1,2,1,3,2,5))"
   ]
  },
  {
   "cell_type": "markdown",
   "metadata": {},
   "source": [
    "*args with normal parameters"
   ]
  },
  {
   "cell_type": "code",
   "execution_count": 4,
   "metadata": {},
   "outputs": [
    {
     "name": "stdout",
     "output_type": "stream",
     "text": [
      "10\n"
     ]
    }
   ],
   "source": [
    "def add(*args):\n",
    "    a = 0\n",
    "    for i in args:\n",
    "        a += i\n",
    "    return a\n",
    "print(add(1,2,3,4))"
   ]
  },
  {
   "cell_type": "markdown",
   "metadata": {},
   "source": [
    "if i dont pass any argument in *args then i wont face an error"
   ]
  },
  {
   "cell_type": "code",
   "execution_count": 5,
   "metadata": {},
   "outputs": [
    {
     "name": "stdout",
     "output_type": "stream",
     "text": [
      "0\n"
     ]
    }
   ],
   "source": [
    "def add(*args):\n",
    "    a = 0\n",
    "    for i in args:\n",
    "        a += i\n",
    "    return a\n",
    "print(add())"
   ]
  },
  {
   "cell_type": "markdown",
   "metadata": {},
   "source": [
    "if i want to pass two parameters then 1 is simple and another one is *args"
   ]
  },
  {
   "cell_type": "code",
   "execution_count": 6,
   "metadata": {},
   "outputs": [
    {
     "name": "stdout",
     "output_type": "stream",
     "text": [
      "9\n"
     ]
    }
   ],
   "source": [
    "def add(n,*args):\n",
    "    a = 0\n",
    "    for i in args:\n",
    "        a += i\n",
    "    return a\n",
    "print(add(1,2,3,4))"
   ]
  },
  {
   "cell_type": "markdown",
   "metadata": {},
   "source": [
    "so as above mentioned n is taking 1 and *args will take rest of the arguments. but if we write n after *args then it will give an error because all the arguments will be counted in *args. so you have to write n before *args"
   ]
  },
  {
   "cell_type": "code",
   "execution_count": 7,
   "metadata": {},
   "outputs": [
    {
     "ename": "TypeError",
     "evalue": "add() missing 1 required keyword-only argument: 'n'",
     "output_type": "error",
     "traceback": [
      "\u001b[1;31m---------------------------------------------------------------------------\u001b[0m",
      "\u001b[1;31mTypeError\u001b[0m                                 Traceback (most recent call last)",
      "\u001b[1;32m<ipython-input-7-387db112e090>\u001b[0m in \u001b[0;36m<module>\u001b[1;34m\u001b[0m\n\u001b[0;32m      4\u001b[0m         \u001b[0ma\u001b[0m \u001b[1;33m+=\u001b[0m \u001b[0mi\u001b[0m\u001b[1;33m\u001b[0m\u001b[1;33m\u001b[0m\u001b[0m\n\u001b[0;32m      5\u001b[0m     \u001b[1;32mreturn\u001b[0m \u001b[0ma\u001b[0m\u001b[1;33m\u001b[0m\u001b[1;33m\u001b[0m\u001b[0m\n\u001b[1;32m----> 6\u001b[1;33m \u001b[0mprint\u001b[0m\u001b[1;33m(\u001b[0m\u001b[0madd\u001b[0m\u001b[1;33m(\u001b[0m\u001b[1;36m1\u001b[0m\u001b[1;33m,\u001b[0m\u001b[1;36m2\u001b[0m\u001b[1;33m,\u001b[0m\u001b[1;36m3\u001b[0m\u001b[1;33m,\u001b[0m\u001b[1;36m4\u001b[0m\u001b[1;33m)\u001b[0m\u001b[1;33m)\u001b[0m\u001b[1;33m\u001b[0m\u001b[1;33m\u001b[0m\u001b[0m\n\u001b[0m",
      "\u001b[1;31mTypeError\u001b[0m: add() missing 1 required keyword-only argument: 'n'"
     ]
    }
   ],
   "source": [
    "def add(*args,n):\n",
    "    a = 0\n",
    "    for i in args:\n",
    "        a += i\n",
    "    return a\n",
    "print(add(1,2,3,4))"
   ]
  },
  {
   "cell_type": "markdown",
   "metadata": {},
   "source": [
    "*args as arguments"
   ]
  },
  {
   "cell_type": "code",
   "execution_count": 15,
   "metadata": {},
   "outputs": [
    {
     "name": "stdout",
     "output_type": "stream",
     "text": [
      "10\n"
     ]
    }
   ],
   "source": [
    "def add(*args):\n",
    "    a = 0  #([1,2,3,4]) wo tuple mai hai tou t ka 1 ele i mai aye ga\n",
    "#                       jo k poori list hai\n",
    "    for i in args:  # poori list i mai aa jaye gy sirf single elements\n",
    "        a += i      # nhi ayenge so wo poori list a k saath add nhi ho\n",
    "    return a        # skti balky us k aik aik ele add krwana hai so \n",
    "# l = [1,2,3,4]     # list ko unpack krny k liye list pass krwaty hue\n",
    "print(add(*l))      # * lagana hai"
   ]
  },
  {
   "cell_type": "code",
   "execution_count": 16,
   "metadata": {},
   "outputs": [
    {
     "name": "stdout",
     "output_type": "stream",
     "text": [
      "10\n"
     ]
    }
   ],
   "source": [
    "def add(args):\n",
    "    a = 0 \n",
    "    for i in args: \n",
    "        a += i      \n",
    "    return a      \n",
    "l = [1,2,3,4]    \n",
    "print(add(l))      "
   ]
  },
  {
   "cell_type": "markdown",
   "metadata": {},
   "source": [
    "**kwargs"
   ]
  },
  {
   "cell_type": "markdown",
   "metadata": {},
   "source": [
    "takes as a dictionary"
   ]
  },
  {
   "cell_type": "code",
   "execution_count": 19,
   "metadata": {},
   "outputs": [
    {
     "name": "stdout",
     "output_type": "stream",
     "text": [
      "{'name': 'shaleem', 'age': 21}\n"
     ]
    }
   ],
   "source": [
    "def f(**kwargs):\n",
    "    print(kwargs)\n",
    "f(name = \"shaleem\",age = 21)"
   ]
  },
  {
   "cell_type": "code",
   "execution_count": 46,
   "metadata": {},
   "outputs": [
    {
     "name": "stdout",
     "output_type": "stream",
     "text": [
      "yuab\n",
      "{'f_name': 'shaleem', 'age': 21}\n"
     ]
    }
   ],
   "source": [
    "def f(name,**kwargs):\n",
    "    print(name)\n",
    "    print(kwargs)\n",
    "f('yuab',f_name = \"shaleem\",age = 21)"
   ]
  },
  {
   "cell_type": "code",
   "execution_count": 48,
   "metadata": {},
   "outputs": [
    {
     "name": "stdout",
     "output_type": "stream",
     "text": [
      "f_name shaleem\n",
      "age 21\n"
     ]
    }
   ],
   "source": [
    "def f(**kwargs):\n",
    "    for k,v in kwargs.items():\n",
    "        print(k,v)\n",
    "f(f_name = \"shaleem\",age = 21)"
   ]
  },
  {
   "cell_type": "markdown",
   "metadata": {},
   "source": [
    "when we pass as argument we use = but if we want to create a dictionary\n",
    "d = {'name':'shaleem','age' : 21} so if we want to pass this as argument\n",
    "then we use ** with d"
   ]
  },
  {
   "cell_type": "code",
   "execution_count": 49,
   "metadata": {},
   "outputs": [
    {
     "name": "stdout",
     "output_type": "stream",
     "text": [
      "name shaleem\n",
      "age 21\n"
     ]
    }
   ],
   "source": [
    "def f(**kwargs):\n",
    "    for k,v in kwargs.items():\n",
    "        print(k,v)\n",
    "d = {'name':'shaleem','age':21}\n",
    "f(**d)"
   ]
  },
  {
   "cell_type": "code",
   "execution_count": 50,
   "metadata": {},
   "outputs": [
    {
     "name": "stdout",
     "output_type": "stream",
     "text": [
      "name shaleem\n",
      "age 21\n"
     ]
    }
   ],
   "source": [
    "def f(kwargs):\n",
    "    for k,v in kwargs.items():\n",
    "        print(k,v)\n",
    "d = {'name':'shaleem','age':21}\n",
    "f(d)"
   ]
  },
  {
   "cell_type": "markdown",
   "metadata": {},
   "source": [
    "parameters order"
   ]
  },
  {
   "cell_type": "raw",
   "metadata": {},
   "source": [
    "p ---> normal parameters\n",
    "a ---> *args\n",
    "d ---> default parameters\n",
    "k ---> **kwargs"
   ]
  },
  {
   "cell_type": "markdown",
   "metadata": {},
   "source": [
    "if we want to use them simultaneously then above mentioned is order"
   ]
  },
  {
   "cell_type": "markdown",
   "metadata": {},
   "source": [
    "agar in mai say koi say 2 ya 3 ya 4 he use krny hai tou order same rhy ga"
   ]
  },
  {
   "cell_type": "raw",
   "metadata": {},
   "source": [
    "if we want to use both *args and **kwargs so pehlay *args aye ga phir **kwargs\n",
    "if we want wo use normal with **kwargs tou pehlay normal phir **kwargs"
   ]
  },
  {
   "cell_type": "code",
   "execution_count": 54,
   "metadata": {},
   "outputs": [
    {
     "name": "stdout",
     "output_type": "stream",
     "text": [
      "shaleem\n",
      "(1, 2, 3)\n",
      "21\n",
      "{'c': 1, 'b': 2}\n"
     ]
    }
   ],
   "source": [
    "def f(n,*args,a=21,**kwargs):\n",
    "    print(n)\n",
    "    print(args)\n",
    "    print(a)\n",
    "    print(kwargs)\n",
    "f('shaleem',1,2,3,c=1,b=2)    "
   ]
  },
  {
   "cell_type": "markdown",
   "metadata": {},
   "source": [
    "# 2nd time learning args and kwargs"
   ]
  },
  {
   "cell_type": "code",
   "execution_count": 2,
   "metadata": {},
   "outputs": [
    {
     "name": "stdout",
     "output_type": "stream",
     "text": [
      "15\n"
     ]
    }
   ],
   "source": [
    "def total(*args):\n",
    "    return sum(args)\n",
    "print(total(1,2,3,4,5))"
   ]
  },
  {
   "cell_type": "code",
   "execution_count": 5,
   "metadata": {},
   "outputs": [
    {
     "name": "stdout",
     "output_type": "stream",
     "text": [
      "15\n"
     ]
    }
   ],
   "source": [
    "def total(*args):\n",
    "    t = 0\n",
    "    for arg in args:\n",
    "        t += arg\n",
    "    return t\n",
    "print(total(1,2,3,4,5))"
   ]
  },
  {
   "cell_type": "code",
   "execution_count": 13,
   "metadata": {
    "scrolled": true
   },
   "outputs": [
    {
     "name": "stdout",
     "output_type": "stream",
     "text": [
      "(1, 2, 3, 4, 5, 1, 2, 3, 4, 5)\n"
     ]
    }
   ],
   "source": [
    "def total(*args):\n",
    "    return args + args\n",
    "print(total(1,2,3,4,5))"
   ]
  },
  {
   "cell_type": "code",
   "execution_count": null,
   "metadata": {},
   "outputs": [],
   "source": []
  },
  {
   "cell_type": "code",
   "execution_count": null,
   "metadata": {},
   "outputs": [],
   "source": []
  },
  {
   "cell_type": "code",
   "execution_count": null,
   "metadata": {
    "scrolled": true
   },
   "outputs": [],
   "source": []
  }
 ],
 "metadata": {
  "kernelspec": {
   "display_name": "Python 3",
   "language": "python",
   "name": "python3"
  },
  "language_info": {
   "codemirror_mode": {
    "name": "ipython",
    "version": 3
   },
   "file_extension": ".py",
   "mimetype": "text/x-python",
   "name": "python",
   "nbconvert_exporter": "python",
   "pygments_lexer": "ipython3",
   "version": "3.7.3"
  }
 },
 "nbformat": 4,
 "nbformat_minor": 2
}
