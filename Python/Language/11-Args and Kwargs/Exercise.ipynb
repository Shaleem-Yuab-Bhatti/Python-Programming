{
 "cells": [
  {
   "cell_type": "markdown",
   "metadata": {},
   "source": [
    "# Exercise 1"
   ]
  },
  {
   "cell_type": "markdown",
   "metadata": {},
   "source": [
    "Tutorial 139"
   ]
  },
  {
   "cell_type": "code",
   "execution_count": 61,
   "metadata": {},
   "outputs": [
    {
     "name": "stdout",
     "output_type": "stream",
     "text": [
      "[1, 8, 27]\n"
     ]
    }
   ],
   "source": [
    "def to_power(n,*args):\n",
    "    if args == ():\n",
    "        return 'hey you didn\\'t pass arg' \n",
    "    else:\n",
    "        return [i**n for i in args]\n",
    "l = [1,2,3]\n",
    "print(to_power(3,*l))"
   ]
  },
  {
   "cell_type": "code",
   "execution_count": 68,
   "metadata": {},
   "outputs": [
    {
     "name": "stdout",
     "output_type": "stream",
     "text": [
      "hey you didn't pass arg\n"
     ]
    }
   ],
   "source": [
    "# Better one\n",
    "def to_power(n,*args):\n",
    "    if args:\n",
    "        return [i**n for i in args]     \n",
    "    else:\n",
    "        return 'hey you didn\\'t pass arg' \n",
    "l = [1,2,3]\n",
    "print(to_power(3,))"
   ]
  },
  {
   "cell_type": "markdown",
   "metadata": {},
   "source": [
    "# Exercise 2"
   ]
  },
  {
   "cell_type": "markdown",
   "metadata": {},
   "source": [
    "Tutorial 143"
   ]
  },
  {
   "cell_type": "code",
   "execution_count": 30,
   "metadata": {},
   "outputs": [
    {
     "name": "stdout",
     "output_type": "stream",
     "text": [
      "['Meelahs', 'Bauy']\n"
     ]
    }
   ],
   "source": [
    "def func(name,**kwargs):\n",
    "    e = []\n",
    "    for i in name:\n",
    "        if kwargs:\n",
    "            r = i[::-1]\n",
    "            e.append(r.title())\n",
    "    return e\n",
    "print(func(n,reverse=True))"
   ]
  },
  {
   "cell_type": "code",
   "execution_count": 109,
   "metadata": {},
   "outputs": [
    {
     "name": "stdout",
     "output_type": "stream",
     "text": [
      "['Meelahs', 'Bauy']\n"
     ]
    }
   ],
   "source": [
    "def func(names,**kwargs):\n",
    "    reverse = [name[::-1].title() \n",
    "               if kwargs else name.title() for name in names]\n",
    "    return reverse\n",
    "print(func(n,reverse=True))"
   ]
  },
  {
   "cell_type": "code",
   "execution_count": 75,
   "metadata": {},
   "outputs": [
    {
     "name": "stdout",
     "output_type": "stream",
     "text": [
      "['Meelahs', 'Bauy']\n"
     ]
    }
   ],
   "source": [
    "def func(names,**kwargs):\n",
    "    ret = []\n",
    "    if kwargs.get('reverse') == True:\n",
    "        for name in names:\n",
    "             ret.append(name[::-1].title())\n",
    "    return ret\n",
    "n = ['shaleem','yuab']\n",
    "print(func(n,reverse=True))"
   ]
  },
  {
   "cell_type": "code",
   "execution_count": null,
   "metadata": {},
   "outputs": [],
   "source": []
  }
 ],
 "metadata": {
  "kernelspec": {
   "display_name": "Python 3",
   "language": "python",
   "name": "python3"
  },
  "language_info": {
   "codemirror_mode": {
    "name": "ipython",
    "version": 3
   },
   "file_extension": ".py",
   "mimetype": "text/x-python",
   "name": "python",
   "nbconvert_exporter": "python",
   "pygments_lexer": "ipython3",
   "version": "3.7.3"
  }
 },
 "nbformat": 4,
 "nbformat_minor": 2
}
