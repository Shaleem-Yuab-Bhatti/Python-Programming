{
 "cells": [
  {
   "cell_type": "markdown",
   "metadata": {},
   "source": [
    "# Exercise 1"
   ]
  },
  {
   "cell_type": "markdown",
   "metadata": {},
   "source": [
    "Tutorial 125"
   ]
  },
  {
   "cell_type": "markdown",
   "metadata": {},
   "source": [
    "Define function that takes a list of string and return the list containing reverse of every string USING LIST COMPREHENSION"
   ]
  },
  {
   "cell_type": "raw",
   "metadata": {},
   "source": [
    "input ---> ['abc','tuv','xyz']\n",
    "output --> ['cba','vut','zyx']"
   ]
  },
  {
   "cell_type": "code",
   "execution_count": 2,
   "metadata": {},
   "outputs": [
    {
     "name": "stdout",
     "output_type": "stream",
     "text": [
      "['cba', 'vut', 'zyx']\n"
     ]
    }
   ],
   "source": [
    "def rev_l_ele(l1):\n",
    "    l2 = [ele[::-1] for ele in l1]\n",
    "    return l2\n",
    "lis = ['abc','tuv','xyz'] \n",
    "print(rev_l_ele(lis))"
   ]
  },
  {
   "cell_type": "markdown",
   "metadata": {},
   "source": [
    "# Exercise 2"
   ]
  },
  {
   "cell_type": "markdown",
   "metadata": {},
   "source": [
    "Tutorial 128"
   ]
  },
  {
   "cell_type": "markdown",
   "metadata": {},
   "source": [
    "num to string define a function "
   ]
  },
  {
   "cell_type": "raw",
   "metadata": {},
   "source": [
    "input ---> [3,True,1,False,[123],1.0]\n",
    "output --> [1,1.0.3]"
   ]
  },
  {
   "cell_type": "code",
   "execution_count": 23,
   "metadata": {},
   "outputs": [
    {
     "name": "stdout",
     "output_type": "stream",
     "text": [
      "['3', '1', '1.0']\n"
     ]
    }
   ],
   "source": [
    "def num_to_string(l):\n",
    "    return [str(i) for i in l if (type(i)==int or type(i)==float)]\n",
    "print(num_to_string([3,True,1,False,[1,2,3],1.0]))"
   ]
  },
  {
   "cell_type": "code",
   "execution_count": null,
   "metadata": {},
   "outputs": [],
   "source": []
  }
 ],
 "metadata": {
  "kernelspec": {
   "display_name": "Python 3",
   "language": "python",
   "name": "python3"
  },
  "language_info": {
   "codemirror_mode": {
    "name": "ipython",
    "version": 3
   },
   "file_extension": ".py",
   "mimetype": "text/x-python",
   "name": "python",
   "nbconvert_exporter": "python",
   "pygments_lexer": "ipython3",
   "version": "3.7.3"
  }
 },
 "nbformat": 4,
 "nbformat_minor": 2
}
