{
 "cells": [
  {
   "cell_type": "markdown",
   "metadata": {},
   "source": [
    "# Exercise 1"
   ]
  },
  {
   "cell_type": "markdown",
   "metadata": {},
   "source": [
    "Define a function that takes number(n) and return dictionary containing cube of 1 to n"
   ]
  },
  {
   "cell_type": "code",
   "execution_count": 9,
   "metadata": {},
   "outputs": [
    {
     "name": "stdout",
     "output_type": "stream",
     "text": [
      "{1: 1, 2: 8, 3: 27}\n"
     ]
    }
   ],
   "source": [
    "def cube(n):\n",
    "    empty_dict = dict()\n",
    "    for i in range(1,n+1):\n",
    "        empty_dict[i] = i**3\n",
    "    return empty_dict\n",
    "print(cube(3))"
   ]
  },
  {
   "cell_type": "markdown",
   "metadata": {},
   "source": [
    "Dictionary and sets does not need any temporary variable because dictionary mai same keys nhi hoti jaisy {e:2,e:2} so e will be overrided--------------------------------------list k cast mai bar bar check kr rahay thay k hum ny count kr liya hai ya nhi so es mai count krny k zaroorat nhi hai"
   ]
  },
  {
   "cell_type": "code",
   "execution_count": 17,
   "metadata": {},
   "outputs": [
    {
     "name": "stdout",
     "output_type": "stream",
     "text": [
      "{'s': 1, 'h': 1, 'a': 1, 'l': 1, 'e': 2, 'm': 1}\n"
     ]
    }
   ],
   "source": [
    "counter = {}\n",
    "names = 'shaleem'\n",
    "for name in names:  \n",
    "    counter[name] = names.count(name)\n",
    "print(counter)"
   ]
  },
  {
   "cell_type": "markdown",
   "metadata": {},
   "source": [
    "# Exercise 2"
   ]
  },
  {
   "cell_type": "markdown",
   "metadata": {},
   "source": [
    "Tutorial 119"
   ]
  },
  {
   "cell_type": "code",
   "execution_count": 26,
   "metadata": {},
   "outputs": [
    {
     "name": "stdout",
     "output_type": "stream",
     "text": [
      "Enter your name : Shaleem Yuab Bhatti \n",
      "Enter your age : 21\n",
      "Enter your fav movies : Avengers,James Bond\n",
      "Enter your fav tunes :  Hallelujah,oh Baby\n",
      "\n",
      "\n",
      " Name : Shaleem Yuab Bhatti    \n",
      " age : 21   \n",
      " fav_movies : ['Avengers', 'James Bond']   \n",
      " fav_songs : [' Hallelujah', 'oh Baby']   \n"
     ]
    }
   ],
   "source": [
    "user = {\n",
    "    'Name' : input(\"Enter your name : \"),\n",
    "    'age' : int(input(\"Enter your age : \")),\n",
    "    'fav_movies' : input(\"Enter your fav movies : \").split(\",\"),\n",
    "    'fav_songs' : input(\"Enter your fav songs : \").split(\",\"),\n",
    "}\n",
    "# -------------------------------------------------------------------#\n",
    "#                         print using  loop                          #\n",
    "# -------------------------------------------------------------------#\n",
    "print(\"\\n\")\n",
    "for keys,values in user.items():\n",
    "    print(f\" {keys} : {values}   \")"
   ]
  },
  {
   "cell_type": "code",
   "execution_count": null,
   "metadata": {},
   "outputs": [],
   "source": []
  }
 ],
 "metadata": {
  "kernelspec": {
   "display_name": "Python 3",
   "language": "python",
   "name": "python3"
  },
  "language_info": {
   "codemirror_mode": {
    "name": "ipython",
    "version": 3
   },
   "file_extension": ".py",
   "mimetype": "text/x-python",
   "name": "python",
   "nbconvert_exporter": "python",
   "pygments_lexer": "ipython3",
   "version": "3.7.3"
  }
 },
 "nbformat": 4,
 "nbformat_minor": 2
}
