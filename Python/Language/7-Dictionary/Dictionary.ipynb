{
 "cells": [
  {
   "cell_type": "markdown",
   "metadata": {},
   "source": [
    "# Dictionary"
   ]
  },
  {
   "cell_type": "raw",
   "metadata": {},
   "source": [
    "Denoted by {}\n",
    "key,value pair\n",
    "unorderd meands no indexing"
   ]
  },
  {
   "cell_type": "raw",
   "metadata": {},
   "source": [
    ".keys() # by default\n",
    ".values()\n",
    ".itmes()\n",
    ".pop()\n",
    ".popitems()\n",
    ".update()\n",
    ".fromkey()\n",
    ".get()\n",
    ".clear()\n",
    ".copy()"
   ]
  },
  {
   "cell_type": "markdown",
   "metadata": {},
   "source": [
    "How to create dictionary"
   ]
  },
  {
   "cell_type": "code",
   "execution_count": 2,
   "metadata": {},
   "outputs": [
    {
     "name": "stdout",
     "output_type": "stream",
     "text": [
      "{'name': 'shalee,', 'age': 21}\n"
     ]
    }
   ],
   "source": [
    "user = {'name':'shalee,','age':21}\n",
    "print(user)"
   ]
  },
  {
   "cell_type": "markdown",
   "metadata": {},
   "source": [
    "or"
   ]
  },
  {
   "cell_type": "code",
   "execution_count": 3,
   "metadata": {},
   "outputs": [
    {
     "name": "stdout",
     "output_type": "stream",
     "text": [
      "{'name': 'shaleem', 'age': 21}\n"
     ]
    }
   ],
   "source": [
    "user = dict(name ='shaleem',age = 21)\n",
    "print(user)"
   ]
  },
  {
   "cell_type": "markdown",
   "metadata": {},
   "source": [
    "list can be used inside dictionary"
   ]
  },
  {
   "cell_type": "code",
   "execution_count": 5,
   "metadata": {},
   "outputs": [
    {
     "name": "stdout",
     "output_type": "stream",
     "text": [
      "{'name': 'shaleem', 'age': 21, 'cars': ['bugatti', 'lamborghini']}\n"
     ]
    }
   ],
   "source": [
    "user = {'name':'shaleem','age':21,'cars':['bugatti','lamborghini']}\n",
    "print(user)"
   ]
  },
  {
   "cell_type": "markdown",
   "metadata": {},
   "source": [
    "Access data from dictionary --->                                            write variable name which contained dictionary then use square bracket as we did in list and tuples and string but here we dont write index number because dicitonary have no index number so we write key name of dictionary"
   ]
  },
  {
   "cell_type": "code",
   "execution_count": 7,
   "metadata": {},
   "outputs": [
    {
     "name": "stdout",
     "output_type": "stream",
     "text": [
      "['bugatti', 'lamborghini']\n"
     ]
    }
   ],
   "source": [
    "user = {'name':'shaleem','age':21,'cars':['bugatti','lamborghini']}\n",
    "print(user['cars'])"
   ]
  },
  {
   "cell_type": "markdown",
   "metadata": {},
   "source": [
    "treating list inside dict"
   ]
  },
  {
   "cell_type": "code",
   "execution_count": 50,
   "metadata": {},
   "outputs": [
    {
     "name": "stdout",
     "output_type": "stream",
     "text": [
      "{'name': 'shaleem', 'age': 21, 'cars': ['bugatti', 'lamborghini', 'V8']}\n"
     ]
    }
   ],
   "source": [
    "user = {'name':'shaleem','age':21,'cars':['bugatti','lamborghini']}\n",
    "user['cars'].append(\"V8\")\n",
    "print(user)"
   ]
  },
  {
   "cell_type": "markdown",
   "metadata": {},
   "source": [
    "Adding data to empty list"
   ]
  },
  {
   "cell_type": "code",
   "execution_count": 51,
   "metadata": {},
   "outputs": [
    {
     "data": {
      "text/plain": [
       "{'cars': ['V8', 'bentley', 'mercedes'], 'name': 'shaleem'}"
      ]
     },
     "execution_count": 51,
     "metadata": {},
     "output_type": "execute_result"
    }
   ],
   "source": [
    "d = {}\n",
    "d['cars'] = ['V8','bentley','mercedes']\n",
    "d['name'] = 'shaleem'\n",
    "d"
   ]
  },
  {
   "cell_type": "code",
   "execution_count": 1,
   "metadata": {},
   "outputs": [
    {
     "data": {
      "text/plain": [
       "2"
      ]
     },
     "execution_count": 1,
     "metadata": {},
     "output_type": "execute_result"
    }
   ],
   "source": [
    "user = {'name':'shaleem','age':21,'cars':['bugatti','lamborghini']}\n",
    "user['name'].count('e')"
   ]
  },
  {
   "cell_type": "markdown",
   "metadata": {},
   "source": [
    "Conditional and Iteration"
   ]
  },
  {
   "cell_type": "code",
   "execution_count": 20,
   "metadata": {},
   "outputs": [
    {
     "name": "stdout",
     "output_type": "stream",
     "text": [
      "present\n"
     ]
    }
   ],
   "source": [
    "d = {\n",
    "    'name' : 'shaleem',\n",
    "    'age'  : 21,\n",
    "    'laptop' : 'y11b'\n",
    "}\n",
    "\n",
    "if 'name' in d:\n",
    "    print(\"present\")\n",
    "else:\n",
    "    print('not present')"
   ]
  },
  {
   "cell_type": "markdown",
   "metadata": {},
   "source": [
    "By default it will search for key if we intend to search for values then it will return not present so we have to use values() method"
   ]
  },
  {
   "cell_type": "code",
   "execution_count": 22,
   "metadata": {},
   "outputs": [
    {
     "name": "stdout",
     "output_type": "stream",
     "text": [
      "not present\n"
     ]
    }
   ],
   "source": [
    "d = {\n",
    "    'name' : 'shaleem',\n",
    "    'age'  : 21,\n",
    "    'laptop' : 'y11b'\n",
    "}\n",
    "\n",
    "if 'shaleem' in d:   # value\n",
    "    print(\"present\")\n",
    "else:\n",
    "    print('not present')"
   ]
  },
  {
   "cell_type": "code",
   "execution_count": 24,
   "metadata": {},
   "outputs": [
    {
     "name": "stdout",
     "output_type": "stream",
     "text": [
      "present\n"
     ]
    }
   ],
   "source": [
    "d = {\n",
    "    'name' : 'shaleem',\n",
    "    'age'  : 21,\n",
    "    'laptop' : 'y11b'\n",
    "}\n",
    "\n",
    "if 'shaleem' in d.values():  # use value method here \n",
    "    print(\"present\")\n",
    "else:\n",
    "    print('not present')"
   ]
  },
  {
   "cell_type": "code",
   "execution_count": 58,
   "metadata": {
    "scrolled": true
   },
   "outputs": [
    {
     "name": "stdout",
     "output_type": "stream",
     "text": [
      "shaleem present\n",
      "21 present\n",
      "y11b present\n"
     ]
    }
   ],
   "source": [
    "d = {\n",
    "    'name' : 'shaleem',\n",
    "    'age'  : 21,\n",
    "    'laptop' : 'y11b'\n",
    "}\n",
    "for i in d.values():\n",
    "    if i in d.values():  # use value method here \n",
    "        print(i,\"present\")\n",
    "    else:\n",
    "         print('not present')"
   ]
  },
  {
   "cell_type": "code",
   "execution_count": 59,
   "metadata": {},
   "outputs": [
    {
     "name": "stdout",
     "output_type": "stream",
     "text": [
      "name\n",
      "age\n",
      "laptop\n"
     ]
    }
   ],
   "source": [
    "d = {\n",
    "    'name' : 'shaleem',\n",
    "    'age'  : 21,\n",
    "    'laptop' : 'y11b'\n",
    "}\n",
    "for keys in d:\n",
    "    print(keys)"
   ]
  },
  {
   "cell_type": "code",
   "execution_count": 60,
   "metadata": {},
   "outputs": [
    {
     "name": "stdout",
     "output_type": "stream",
     "text": [
      "shaleem\n",
      "21\n",
      "y11b\n"
     ]
    }
   ],
   "source": [
    "d = {\n",
    "    'name' : 'shaleem',\n",
    "    'age'  : 21,\n",
    "    'laptop' : 'y11b'\n",
    "}\n",
    "for values in d.values():\n",
    "    print(values)"
   ]
  },
  {
   "cell_type": "markdown",
   "metadata": {},
   "source": [
    ".item() method most useful method when use loop in dictionary"
   ]
  },
  {
   "cell_type": "code",
   "execution_count": null,
   "metadata": {},
   "outputs": [],
   "source": [
    "d = {\n",
    "    'name' : 'shaleem',\n",
    "    'age'  : 21,\n",
    "    'laptop' : 'y11b'\n",
    "}\n",
    "for keys,values in d.items():\n",
    "    print(keys,values)"
   ]
  },
  {
   "cell_type": "markdown",
   "metadata": {},
   "source": [
    "Adding / Deleting Data"
   ]
  },
  {
   "cell_type": "code",
   "execution_count": 63,
   "metadata": {},
   "outputs": [
    {
     "data": {
      "text/plain": [
       "{'name': 'shaleem', 'age': 21}"
      ]
     },
     "execution_count": 63,
     "metadata": {},
     "output_type": "execute_result"
    }
   ],
   "source": [
    "user = {}\n",
    "user['name'] = 'shaleem'\n",
    "user['age'] = 21\n",
    "user"
   ]
  },
  {
   "cell_type": "markdown",
   "metadata": {},
   "source": [
    ".pop() method is used with keys of dictionary it takes key of dictionary\n",
    "and delete both key value pair of dictionary"
   ]
  },
  {
   "cell_type": "markdown",
   "metadata": {},
   "source": [
    "jo value pop mehod remove kry ga us ko return kry ga now its upto us whether we store it in another var for future use or we just waster it"
   ]
  },
  {
   "cell_type": "markdown",
   "metadata": {},
   "source": [
    " list mai ye pop method index leta hai but dictionary mai indexing nhi hoti es liye key lay ga---------------------------------------------------------------------------- list k pop mai jab kuch pass nhi krty thay tou wo last say pop krta tha but yaha per 1 argument pass krwana mandatory hai"
   ]
  },
  {
   "cell_type": "code",
   "execution_count": 72,
   "metadata": {},
   "outputs": [
    {
     "name": "stdout",
     "output_type": "stream",
     "text": [
      "y11b\n",
      "{'name': 'shaleem', 'age': 21}\n"
     ]
    }
   ],
   "source": [
    "d = {\n",
    "    'name' : 'shaleem',\n",
    "    'age'  : 21,\n",
    "    'laptop' : 'y11b'\n",
    "}\n",
    "# d.pop()  error\n",
    "popped = d.pop('laptop')\n",
    "print(popped)\n",
    "print(user)"
   ]
  },
  {
   "cell_type": "markdown",
   "metadata": {},
   "source": [
    "popitem() method koi argument nhi let but dict k last wala key value pop kr k return kewata hai . agar dict mai bohat  sara key value pair. "
   ]
  },
  {
   "cell_type": "code",
   "execution_count": 7,
   "metadata": {},
   "outputs": [
    {
     "name": "stdout",
     "output_type": "stream",
     "text": [
      "('name', 'shaleem')\n",
      "{'religion': 'christianity', 'laptop': 'y11b', 'age': 21}\n"
     ]
    }
   ],
   "source": [
    "d = {\n",
    "    'religion' : 'christianity',\n",
    "    'laptop' : 'y11b',\n",
    "    'age'  : 21,\n",
    "    'name' : 'shaleem',\n",
    "}\n",
    "# d.pop()  error\n",
    "popped = d.popitem()\n",
    "print(popped)\n",
    "print(d)"
   ]
  },
  {
   "cell_type": "code",
   "execution_count": 13,
   "metadata": {},
   "outputs": [
    {
     "name": "stdout",
     "output_type": "stream",
     "text": [
      "{'religion': 'christianity', 'laptop': 'y11b', 'age': 21, 'name': 'shaleem', 'state': 'Islamabad', 'hobbies': ['Coding', 'listening songs', 'playing guitar and harmonium']}\n"
     ]
    }
   ],
   "source": [
    "d = {\n",
    "    'religion' : 'christianity',\n",
    "    'laptop' : 'y11b',\n",
    "    'age'  : 21,\n",
    "    'name' : 'shaleem',\n",
    "}\n",
    "up_d = {\n",
    "    'state' : 'Islamabad',\n",
    "'hobbies' : ['Coding','listening songs','playing guitar and harmonium']\n",
    "}\n",
    "d.update(up_d)\n",
    "print(d)"
   ]
  },
  {
   "cell_type": "markdown",
   "metadata": {},
   "source": [
    "if update dict and old dictionary has same key then update dict will override old dict e.g d has name'shaleem' and up_d has 'shaleem yuab'\n",
    "then our updated dict will have name'shaleem yuab'"
   ]
  },
  {
   "cell_type": "code",
   "execution_count": 27,
   "metadata": {},
   "outputs": [
    {
     "name": "stdout",
     "output_type": "stream",
     "text": [
      "{'name': 'shaleem', 'religion': 'christianity', 'age': 21}\n"
     ]
    }
   ],
   "source": [
    "d = {\n",
    "    'name' : 'shaleem',\n",
    "    'religion' : 'christianity',\n",
    "    'age'  : 21,\n",
    "}\n",
    "up_d = {\n",
    "    'state' : 'Islamabad',\n",
    "'hobbies' : ['Coding','playing guitar and harmonium']\n",
    "}\n",
    "# so i can pass the whole dict in update() if i dont want to make\n",
    "# another var . if i pass empty dict then it will not clear dict\n",
    "# it will never change anythin\n",
    "d.update({})\n",
    "print(d)"
   ]
  },
  {
   "cell_type": "markdown",
   "metadata": {},
   "source": [
    ".fromkeys()"
   ]
  },
  {
   "cell_type": "markdown",
   "metadata": {},
   "source": [
    "if we want same values for different key then we use from keys"
   ]
  },
  {
   "cell_type": "code",
   "execution_count": 30,
   "metadata": {},
   "outputs": [
    {
     "name": "stdout",
     "output_type": "stream",
     "text": [
      "{'name': 'unknown', 'age': 'unknown'}\n"
     ]
    }
   ],
   "source": [
    "d = dict.fromkeys(['name','age',],'unknown')\n",
    "print(d)"
   ]
  },
  {
   "cell_type": "code",
   "execution_count": 33,
   "metadata": {},
   "outputs": [
    {
     "data": {
      "text/plain": [
       "{'name': 'unknown', 'age': 'unknown'}"
      ]
     },
     "execution_count": 33,
     "metadata": {},
     "output_type": "execute_result"
    }
   ],
   "source": [
    "d = dict.fromkeys(['name','age'],'unknown')\n",
    "d"
   ]
  },
  {
   "cell_type": "code",
   "execution_count": 36,
   "metadata": {},
   "outputs": [
    {
     "data": {
      "text/plain": [
       "{1: 'unknown', 2: 'unknown', 3: 'unknown'}"
      ]
     },
     "execution_count": 36,
     "metadata": {},
     "output_type": "execute_result"
    }
   ],
   "source": [
    "\n",
    "d = dict.fromkeys(range(1,4),'unknown')\n",
    "d"
   ]
  },
  {
   "cell_type": "code",
   "execution_count": 38,
   "metadata": {},
   "outputs": [
    {
     "data": {
      "text/plain": [
       "{'a': 'unknown', 'b': 'unknown', 'c': 'unknown'}"
      ]
     },
     "execution_count": 38,
     "metadata": {},
     "output_type": "execute_result"
    }
   ],
   "source": [
    "d = dict.fromkeys('abc','unknown')\n",
    "d"
   ]
  },
  {
   "cell_type": "code",
   "execution_count": 39,
   "metadata": {},
   "outputs": [
    {
     "data": {
      "text/plain": [
       "{'name': ['shaleem', 'shaloo'], 'age': ['shaleem', 'shaloo']}"
      ]
     },
     "execution_count": 39,
     "metadata": {},
     "output_type": "execute_result"
    }
   ],
   "source": [
    "d = dict.fromkeys(['name','age'],['shaleem','shaloo'])\n",
    "d"
   ]
  },
  {
   "cell_type": "markdown",
   "metadata": {},
   "source": [
    "get method (useful)"
   ]
  },
  {
   "cell_type": "markdown",
   "metadata": {},
   "source": [
    "it is used to access data without getting error if key,value is not in dict "
   ]
  },
  {
   "cell_type": "code",
   "execution_count": 41,
   "metadata": {},
   "outputs": [
    {
     "name": "stdout",
     "output_type": "stream",
     "text": [
      "None\n"
     ]
    }
   ],
   "source": [
    "info = {'name' : 'shaleem','age':21}\n",
    "print(info.get('names'))"
   ]
  },
  {
   "cell_type": "code",
   "execution_count": 43,
   "metadata": {},
   "outputs": [
    {
     "name": "stdout",
     "output_type": "stream",
     "text": [
      "shaleem\n"
     ]
    }
   ],
   "source": [
    "info = {'name' : 'shaleem','age':21}\n",
    "print(info.get('name'))"
   ]
  },
  {
   "cell_type": "code",
   "execution_count": 46,
   "metadata": {},
   "outputs": [
    {
     "name": "stdout",
     "output_type": "stream",
     "text": [
      "shaleem\n",
      "shaleem\n"
     ]
    }
   ],
   "source": [
    "print(info['name'])\n",
    "print(info['names']) # error"
   ]
  },
  {
   "cell_type": "markdown",
   "metadata": {},
   "source": [
    ".clear()"
   ]
  },
  {
   "cell_type": "code",
   "execution_count": 50,
   "metadata": {},
   "outputs": [
    {
     "data": {
      "text/plain": [
       "{}"
      ]
     },
     "execution_count": 50,
     "metadata": {},
     "output_type": "execute_result"
    }
   ],
   "source": [
    "d.clear()\n",
    "d"
   ]
  },
  {
   "cell_type": "markdown",
   "metadata": {},
   "source": [
    ".copy() same as list "
   ]
  },
  {
   "cell_type": "code",
   "execution_count": 53,
   "metadata": {},
   "outputs": [
    {
     "name": "stdout",
     "output_type": "stream",
     "text": [
      "{'name': 'shaleem', 'age': 21}\n"
     ]
    }
   ],
   "source": [
    "info = {'name': 'shaleem', 'age': 21}\n",
    "copy = info.copy()\n",
    "print(copy)"
   ]
  },
  {
   "cell_type": "markdown",
   "metadata": {},
   "source": [
    "using get method . if not found in dict then return not fount not None"
   ]
  },
  {
   "cell_type": "code",
   "execution_count": 54,
   "metadata": {},
   "outputs": [
    {
     "name": "stdout",
     "output_type": "stream",
     "text": [
      "shaleem\n"
     ]
    }
   ],
   "source": [
    "d = {'name': 'shaleem', 'age': 21}\n",
    "print(d.get('name','not found !'))"
   ]
  },
  {
   "cell_type": "code",
   "execution_count": 55,
   "metadata": {},
   "outputs": [
    {
     "name": "stdout",
     "output_type": "stream",
     "text": [
      "not found !\n"
     ]
    }
   ],
   "source": [
    "d = {'name': 'shaleem', 'age': 21}\n",
    "print(d.get('names','not found !'))"
   ]
  },
  {
   "cell_type": "markdown",
   "metadata": {},
   "source": [
    "if our dict has more than on commom key then last one will override first one"
   ]
  },
  {
   "cell_type": "code",
   "execution_count": 61,
   "metadata": {},
   "outputs": [
    {
     "name": "stdout",
     "output_type": "stream",
     "text": [
      "22\n"
     ]
    }
   ],
   "source": [
    "d = {'name': 'shaleem', 'age': 21,'age' : 22}\n",
    "print(d.get('age'))"
   ]
  },
  {
   "cell_type": "code",
   "execution_count": null,
   "metadata": {},
   "outputs": [],
   "source": []
  },
  {
   "cell_type": "code",
   "execution_count": null,
   "metadata": {},
   "outputs": [],
   "source": []
  }
 ],
 "metadata": {
  "kernelspec": {
   "display_name": "Python 3",
   "language": "python",
   "name": "python3"
  },
  "language_info": {
   "codemirror_mode": {
    "name": "ipython",
    "version": 3
   },
   "file_extension": ".py",
   "mimetype": "text/x-python",
   "name": "python",
   "nbconvert_exporter": "python",
   "pygments_lexer": "ipython3",
   "version": "3.7.3"
  }
 },
 "nbformat": 4,
 "nbformat_minor": 2
}
