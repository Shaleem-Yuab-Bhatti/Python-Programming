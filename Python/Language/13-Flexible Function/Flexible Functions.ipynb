{
 "cells": [
  {
   "cell_type": "markdown",
   "metadata": {},
   "source": [
    "# Enumerate Function"
   ]
  },
  {
   "cell_type": "markdown",
   "metadata": {},
   "source": [
    "enumerate function is used to track the position of item"
   ]
  },
  {
   "cell_type": "markdown",
   "metadata": {},
   "source": [
    "without enumerate function"
   ]
  },
  {
   "cell_type": "code",
   "execution_count": 3,
   "metadata": {},
   "outputs": [
    {
     "name": "stdout",
     "output_type": "stream",
     "text": [
      "0 shaleem\n",
      "1 yuab\n",
      "2 bhatti\n"
     ]
    }
   ],
   "source": [
    "names = ['shaleem','yuab','bhatti']\n",
    "for i in range(len(names)):\n",
    "    print(i,names[i])"
   ]
  },
  {
   "cell_type": "markdown",
   "metadata": {},
   "source": [
    "with enumerate function"
   ]
  },
  {
   "cell_type": "code",
   "execution_count": 5,
   "metadata": {},
   "outputs": [
    {
     "name": "stdout",
     "output_type": "stream",
     "text": [
      "0 shaleem\n",
      "1 yuab\n",
      "2 bhatti\n"
     ]
    }
   ],
   "source": [
    "for pos , name in enumerate(names):\n",
    "    print(pos,name)"
   ]
  },
  {
   "cell_type": "code",
   "execution_count": 33,
   "metadata": {},
   "outputs": [
    {
     "name": "stdout",
     "output_type": "stream",
     "text": [
      "2\n"
     ]
    }
   ],
   "source": [
    "def fun(s,l):\n",
    "    for name in l:\n",
    "        if s == name:\n",
    "            print(l.index(s))\n",
    "fun('bhatti',['shaleem','yuab','bhatti'])"
   ]
  },
  {
   "cell_type": "code",
   "execution_count": 52,
   "metadata": {},
   "outputs": [
    {
     "name": "stdout",
     "output_type": "stream",
     "text": [
      "2\n"
     ]
    }
   ],
   "source": [
    "def fun(s,l):\n",
    "    for pos,name in enumerate(l):\n",
    "        if s == name:\n",
    "            return pos\n",
    "    return -1\n",
    "print(fun('bhatti',['shaleem','yuab','bhatti']))"
   ]
  },
  {
   "cell_type": "markdown",
   "metadata": {},
   "source": [
    "# map function"
   ]
  },
  {
   "cell_type": "markdown",
   "metadata": {},
   "source": [
    "takes a functiona and an iterable"
   ]
  },
  {
   "cell_type": "code",
   "execution_count": 53,
   "metadata": {},
   "outputs": [
    {
     "name": "stdout",
     "output_type": "stream",
     "text": [
      "[1, 4, 9, 16]\n"
     ]
    }
   ],
   "source": [
    "n = [1,2,3,4]\n",
    "sq = list(map(lambda s : s**2,n))\n",
    "print(sq)"
   ]
  },
  {
   "cell_type": "markdown",
   "metadata": {},
   "source": [
    "15. Write a Python program to add two given lists using map and lambda."
   ]
  },
  {
   "cell_type": "code",
   "execution_count": 63,
   "metadata": {},
   "outputs": [
    {
     "name": "stdout",
     "output_type": "stream",
     "text": [
      "[6, 8, 10, 12]\n"
     ]
    }
   ],
   "source": [
    "a = [1,2,3,4]\n",
    "b = [5,6,7,8]\n",
    "add = list(map(lambda l1,l2: l1 + l2,(a),(b)))\n",
    "print(add)"
   ]
  },
  {
   "cell_type": "code",
   "execution_count": 86,
   "metadata": {},
   "outputs": [
    {
     "name": "stdout",
     "output_type": "stream",
     "text": [
      "8\n"
     ]
    }
   ],
   "source": [
    "a = ['PHP','EXERCISE','PYTHON']\n",
    "x = list(map(lambda s: len(s),a))\n",
    "print(max(x))"
   ]
  },
  {
   "cell_type": "code",
   "execution_count": 93,
   "metadata": {},
   "outputs": [
    {
     "name": "stdout",
     "output_type": "stream",
     "text": [
      "[3, 8, 6]\n"
     ]
    }
   ],
   "source": [
    "a = ['PHP','EXERCISE','PYTHON']\n",
    "x = list(map(len,a))\n",
    "print(x)"
   ]
  },
  {
   "cell_type": "markdown",
   "metadata": {},
   "source": [
    "# filter function"
   ]
  },
  {
   "cell_type": "markdown",
   "metadata": {},
   "source": [
    "use for filtering"
   ]
  },
  {
   "cell_type": "code",
   "execution_count": 94,
   "metadata": {},
   "outputs": [
    {
     "name": "stdout",
     "output_type": "stream",
     "text": [
      "[2, 4, 6, 8, 10]\n"
     ]
    }
   ],
   "source": [
    "l = [1,2,3,4,5,6,7,8,9,10]\n",
    "even = filter(lambda a : a%2==0,l)\n",
    "print(list(even))"
   ]
  },
  {
   "cell_type": "code",
   "execution_count": 95,
   "metadata": {},
   "outputs": [
    {
     "name": "stdout",
     "output_type": "stream",
     "text": [
      "[2, 4, 6, 8, 10]\n"
     ]
    }
   ],
   "source": [
    "l = [i for i in l if i%2==0]\n",
    "print(l)"
   ]
  },
  {
   "cell_type": "markdown",
   "metadata": {},
   "source": [
    "# zip function"
   ]
  },
  {
   "cell_type": "markdown",
   "metadata": {},
   "source": [
    "return zip object which have tuples"
   ]
  },
  {
   "cell_type": "code",
   "execution_count": 141,
   "metadata": {},
   "outputs": [
    {
     "name": "stdout",
     "output_type": "stream",
     "text": [
      "<zip object at 0x0000009ACB252808>\n"
     ]
    }
   ],
   "source": [
    "a = [1,2,3,4,5]\n",
    "b = [6,7,8,9,10]\n",
    "print(zip(a,b))"
   ]
  },
  {
   "cell_type": "markdown",
   "metadata": {},
   "source": [
    "can also be converted into dictionary"
   ]
  },
  {
   "cell_type": "code",
   "execution_count": 98,
   "metadata": {},
   "outputs": [
    {
     "name": "stdout",
     "output_type": "stream",
     "text": [
      "{1: 6, 2: 7, 3: 8, 4: 9, 5: 10}\n"
     ]
    }
   ],
   "source": [
    "a = [1,2,3,4,5]\n",
    "b = [6,7,8,9,10]\n",
    "print(dict(zip(a,b)))"
   ]
  },
  {
   "cell_type": "code",
   "execution_count": 99,
   "metadata": {},
   "outputs": [
    {
     "name": "stdout",
     "output_type": "stream",
     "text": [
      "[(1, 6, 11), (2, 7, 12), (3, 8, 13), (4, 9, 14), (5, 10, 15)]\n"
     ]
    }
   ],
   "source": [
    "a = [1,2,3,4,5]\n",
    "b = [6,7,8,9,10]\n",
    "c = [11,12,13,14,15]\n",
    "print(list(zip(a,b,c)))"
   ]
  },
  {
   "cell_type": "markdown",
   "metadata": {},
   "source": [
    "now it cannot convert in dictionary because the value of 1 key of dictionary can only be 1 not more than 1"
   ]
  },
  {
   "cell_type": "code",
   "execution_count": 101,
   "metadata": {},
   "outputs": [],
   "source": [
    "# a = [1,2,3,4,5]\n",
    "# b = [6,7,8,9,10]\n",
    "# c = [11,12,13,14,15]\n",
    "# print(dict(zip(a,b,c)))"
   ]
  },
  {
   "cell_type": "code",
   "execution_count": 121,
   "metadata": {},
   "outputs": [
    {
     "name": "stdout",
     "output_type": "stream",
     "text": [
      "[2, 1, 3, 1, 5, 2]\n"
     ]
    }
   ],
   "source": [
    "a = [1,2,1,3,2,5]\n",
    "one = [a[i] for i in range(0,len(a),2)] \n",
    "two = [a[i] for i in range(1,len(a),2)] \n",
    "e = []\n",
    "for i in zip(two,one):\n",
    "    for j in i:\n",
    "        e.append(j)\n",
    "print(e)"
   ]
  },
  {
   "cell_type": "markdown",
   "metadata": {},
   "source": [
    "* operator with zip"
   ]
  },
  {
   "cell_type": "code",
   "execution_count": 122,
   "metadata": {},
   "outputs": [
    {
     "name": "stdout",
     "output_type": "stream",
     "text": [
      "[(1, 2), (3, 4), (5, 6), (7, 8)]\n"
     ]
    }
   ],
   "source": [
    "a = [1,3,5,7]\n",
    "b = [2,4,6,8]\n",
    "print(list(zip(a,b)))"
   ]
  },
  {
   "cell_type": "raw",
   "metadata": {},
   "source": [
    "[(1, 2), (3, 4), (5, 6), (7, 8)]\n",
    "convert it in \n",
    "a = [1,3,5,7]\n",
    "b = [2,4,6,8]\n",
    "again"
   ]
  },
  {
   "cell_type": "code",
   "execution_count": 124,
   "metadata": {},
   "outputs": [
    {
     "name": "stdout",
     "output_type": "stream",
     "text": [
      "[1, 3, 5, 7]\n",
      "[2, 4, 6, 8]\n"
     ]
    }
   ],
   "source": [
    "l = [(1, 2), (3, 4), (5, 6), (7, 8)]\n",
    "a = []\n",
    "b = []\n",
    "for i in l:\n",
    "    a.append(i[0])\n",
    "    b.append(i[1])\n",
    "print(a)\n",
    "print(b)"
   ]
  },
  {
   "cell_type": "code",
   "execution_count": 125,
   "metadata": {},
   "outputs": [
    {
     "name": "stdout",
     "output_type": "stream",
     "text": [
      "[1, 3, 5, 7]\n",
      "[2, 4, 6, 8]\n"
     ]
    }
   ],
   "source": [
    "l = dict([(1, 2), (3, 4), (5, 6), (7, 8)])\n",
    "a = []\n",
    "b = []\n",
    "for k,v in l.items():\n",
    "    a.append(k)\n",
    "    b.append(v)\n",
    "print(a)\n",
    "print(b)"
   ]
  },
  {
   "cell_type": "raw",
   "metadata": {},
   "source": [
    "* with zip func"
   ]
  },
  {
   "cell_type": "code",
   "execution_count": 130,
   "metadata": {},
   "outputs": [
    {
     "name": "stdout",
     "output_type": "stream",
     "text": [
      "[(1, 3, 5, 7), (2, 4, 6, 8), (9, 10, 11, 12)]\n"
     ]
    }
   ],
   "source": [
    "l = [(1, 2), (3, 4 ), (5, 6), (7, 8)]\n",
    "print(list(zip(*l)))"
   ]
  },
  {
   "cell_type": "code",
   "execution_count": 140,
   "metadata": {},
   "outputs": [
    {
     "name": "stdout",
     "output_type": "stream",
     "text": [
      "(1, 3, 5, 7)\n",
      "(2, 4, 6, 8)\n"
     ]
    }
   ],
   "source": [
    "l = [(1, 2), (3, 4 ), (5, 6), (7, 8)]\n",
    "l1,l2 = (zip(*l))\n",
    "print(l1)\n",
    "print(l2)"
   ]
  },
  {
   "cell_type": "code",
   "execution_count": 133,
   "metadata": {},
   "outputs": [
    {
     "name": "stdout",
     "output_type": "stream",
     "text": [
      "[2, 4, 6, 8]\n"
     ]
    }
   ],
   "source": [
    "a = [1, 3, 5, 7] # getting max from 2 lists\n",
    "b = [2, 4, 6, 8]\n",
    "n = []\n",
    "for pair in zip(a,b):\n",
    "    n.append(max(pair))\n",
    "print(n)"
   ]
  },
  {
   "cell_type": "code",
   "execution_count": 134,
   "metadata": {},
   "outputs": [
    {
     "name": "stdout",
     "output_type": "stream",
     "text": [
      "[2, 4, 6, 8]\n"
     ]
    }
   ],
   "source": [
    "a = [1, 3, 5, 7] \n",
    "b = [2, 4, 6, 8]\n",
    "pair = [max(pair) for pair in zip(a,b)]\n",
    "print(pair)"
   ]
  },
  {
   "cell_type": "code",
   "execution_count": 175,
   "metadata": {
    "scrolled": true
   },
   "outputs": [
    {
     "data": {
      "text/plain": [
       "[4.0, 5.0, 6.0]"
      ]
     },
     "execution_count": 175,
     "metadata": {},
     "output_type": "execute_result"
    }
   ],
   "source": [
    "def average(*args):\n",
    "    l = []\n",
    "    for pair in zip(*args):\n",
    "        l.append(sum(pair)/len(pair))\n",
    "    return l\n",
    "l = [1,2,3],[4,5,6],[7,8,9]\n",
    "average(*l)"
   ]
  },
  {
   "cell_type": "markdown",
   "metadata": {},
   "source": [
    "Using Lambda"
   ]
  },
  {
   "cell_type": "markdown",
   "metadata": {},
   "source": [
    "lambda function mai list comprehension use hota hai"
   ]
  },
  {
   "cell_type": "code",
   "execution_count": 229,
   "metadata": {},
   "outputs": [
    {
     "name": "stdout",
     "output_type": "stream",
     "text": [
      "[4.0, 5.0, 6.0, 11.0]\n"
     ]
    }
   ],
   "source": [
    "l =   [1,2,3,10],[4,5,6,11],[7,8,9,12]\n",
    "a = lambda *args: [sum(pair)/len(pair) for pair in zip(*args)]\n",
    "print(a(*l))"
   ]
  },
  {
   "cell_type": "markdown",
   "metadata": {},
   "source": [
    "Using map and lambda"
   ]
  },
  {
   "cell_type": "code",
   "execution_count": 227,
   "metadata": {},
   "outputs": [
    {
     "name": "stdout",
     "output_type": "stream",
     "text": [
      "[4.0, 5.0, 6.0, 11.0]\n"
     ]
    }
   ],
   "source": [
    "l =  [1,2,3,10],[4,5,6,11],[7,8,9,12]\n",
    "print(list(map(lambda *args: sum(args)/len(args),*l)))"
   ]
  },
  {
   "cell_type": "markdown",
   "metadata": {},
   "source": [
    "Dict Comprehension"
   ]
  },
  {
   "cell_type": "code",
   "execution_count": 230,
   "metadata": {},
   "outputs": [
    {
     "name": "stdout",
     "output_type": "stream",
     "text": [
      "[4.0, 5.0, 6.0, 11.0]\n"
     ]
    }
   ],
   "source": [
    "def fun(*args):\n",
    "    l = [sum(pair)/len(pair) for pair in zip(*args)]\n",
    "    return l\n",
    "a = [1,2,3,10],[4,5,6,11],[7,8,9,12]\n",
    "print(fun(*a))"
   ]
  },
  {
   "cell_type": "markdown",
   "metadata": {},
   "source": [
    "# any_all function"
   ]
  },
  {
   "cell_type": "markdown",
   "metadata": {},
   "source": [
    "Checks whether True of False"
   ]
  },
  {
   "cell_type": "markdown",
   "metadata": {},
   "source": [
    "all is like and , any is like or"
   ]
  },
  {
   "cell_type": "code",
   "execution_count": 297,
   "metadata": {},
   "outputs": [
    {
     "name": "stdout",
     "output_type": "stream",
     "text": [
      "[True, True, True, True, False]\n"
     ]
    }
   ],
   "source": [
    "numbers = [2,4,6,8,9]\n",
    "print([True  if i%2==0 else False for i in numbers])"
   ]
  },
  {
   "cell_type": "code",
   "execution_count": 301,
   "metadata": {},
   "outputs": [
    {
     "name": "stdout",
     "output_type": "stream",
     "text": [
      "False\n"
     ]
    }
   ],
   "source": [
    "# with all function\n",
    "numbers = [2,4,6,8,9]\n",
    "print(all([True  if i%2==0 else False for i in numbers]))\n"
   ]
  },
  {
   "cell_type": "code",
   "execution_count": 303,
   "metadata": {},
   "outputs": [
    {
     "name": "stdout",
     "output_type": "stream",
     "text": [
      "True\n"
     ]
    }
   ],
   "source": [
    "# with all function\n",
    "numbers = [2,4,6,8]\n",
    "print(all([True  if i%2==0 else False for i in numbers]))"
   ]
  },
  {
   "cell_type": "code",
   "execution_count": 310,
   "metadata": {},
   "outputs": [
    {
     "name": "stdout",
     "output_type": "stream",
     "text": [
      "False\n"
     ]
    }
   ],
   "source": [
    "# with any function\n",
    "numbers = [1,3,5,7]\n",
    "print(any([True  if i%2==0 else False for i in numbers]))"
   ]
  },
  {
   "cell_type": "code",
   "execution_count": 329,
   "metadata": {},
   "outputs": [
    {
     "name": "stdout",
     "output_type": "stream",
     "text": [
      "11.2\n"
     ]
    }
   ],
   "source": [
    "def s(*args):\n",
    "    if all([(type(arg)==int or type(arg)==float) for arg in args]):\n",
    "        count = 0\n",
    "        for arg in args:\n",
    "            count += arg\n",
    "        return count\n",
    "    return \"Wrong Input\"\n",
    "print(s(1,2,3,4,1.2))"
   ]
  },
  {
   "cell_type": "code",
   "execution_count": 351,
   "metadata": {},
   "outputs": [
    {
     "name": "stdout",
     "output_type": "stream",
     "text": [
      "True\n"
     ]
    }
   ],
   "source": [
    "s = (1,2,3,4)\n",
    "a = all([(type(arg)==int or type(arg)==float) for arg in s])\n",
    "print(a)"
   ]
  },
  {
   "cell_type": "markdown",
   "metadata": {},
   "source": [
    "# min and max function"
   ]
  },
  {
   "cell_type": "code",
   "execution_count": 420,
   "metadata": {},
   "outputs": [
    {
     "name": "stdout",
     "output_type": "stream",
     "text": [
      "yuab\n"
     ]
    }
   ],
   "source": [
    "names = ['shaleem','yuab','bhatti']\n",
    "print(min(names, key = lambda l:len(l)))"
   ]
  },
  {
   "cell_type": "code",
   "execution_count": 427,
   "metadata": {},
   "outputs": [
    {
     "name": "stdout",
     "output_type": "stream",
     "text": [
      "{'name': 'yuab', 'score': 77, 'age': 22}\n"
     ]
    }
   ],
   "source": [
    "s = [\n",
    "    {'name' : 'shaleem' , 'score' : 60 , 'age' : 21},\n",
    "    {'name' : 'yuab' ,    'score' : 77 , 'age' : 22},\n",
    "    {'name' : 'bhatti' ,  'score' : 45 , 'age' : 20},\n",
    "]\n",
    "print(max(s, key = lambda d: d['score']))"
   ]
  },
  {
   "cell_type": "code",
   "execution_count": 429,
   "metadata": {},
   "outputs": [
    {
     "name": "stdout",
     "output_type": "stream",
     "text": [
      "{'name': 'bhatti', 'score': 45, 'age': 20}\n"
     ]
    }
   ],
   "source": [
    "s = [\n",
    "    {'name' : 'shaleem' , 'score' : 60 , 'age' : 21},\n",
    "    {'name' : 'yuab' ,    'score' : 77 , 'age' : 22},\n",
    "    {'name' : 'bhatti' ,  'score' : 45 , 'age' : 20},\n",
    "]\n",
    "print(min(s, key = lambda d: d['score']))"
   ]
  },
  {
   "cell_type": "raw",
   "metadata": {},
   "source": [
    "s = [\n",
    "    {'name' : 'shaleem' , 'score' : 60 , 'age' : 21},\n",
    "    {'name' : 'yuab' ,    'score' : 77 , 'age' : 22},\n",
    "    {'name' : 'bhatti' ,  'score' : 45 , 'age' : 20},\n",
    "]\n",
    "\n",
    "es per jab lambda function lagy ga tou list nhi jaye gy balky dictionary\n",
    "jaye gy for aur phir lambda aisy lay ga\n",
    "\n",
    "lambda d : es k baad hum dictionary ka name likhenge dictionary access krny k liye aur square brackets mai us ki key ka name\n",
    "\n",
    "d['name']\n",
    "if dictionary has name like \n",
    "di['score']"
   ]
  },
  {
   "cell_type": "code",
   "execution_count": 435,
   "metadata": {},
   "outputs": [
    {
     "name": "stdout",
     "output_type": "stream",
     "text": [
      "{'name': 'bhatti', 'score': 45, 'age': 20}\n"
     ]
    }
   ],
   "source": [
    "s = [\n",
    "    {'name' : 'shaleem' , 'score' : 60 , 'age' : 21},\n",
    "    {'name' : 'yuab' ,    'score' : 77 , 'age' : 22},\n",
    "    {'name' : 'bhatti' ,  'score' : 45 , 'age' : 20},\n",
    "]\n",
    "# according to mai age\n",
    "print(min(s, key = lambda d: d['age']))"
   ]
  },
  {
   "cell_type": "markdown",
   "metadata": {},
   "source": [
    "use .get() method "
   ]
  },
  {
   "cell_type": "code",
   "execution_count": 493,
   "metadata": {},
   "outputs": [
    {
     "name": "stdout",
     "output_type": "stream",
     "text": [
      "shaleem\n",
      "bhatti\n"
     ]
    }
   ],
   "source": [
    "s = [\n",
    "    {'name' : 'shaleem' , 'score' : 60 , 'age' : 21},\n",
    "    {'name' : 'yuab' ,    'score' : 77 , 'age' : 22},\n",
    "    {'name' : 'bhatti' ,  'score' : 45 , 'age' : 23},\n",
    "]\n",
    "# according to mai age\n",
    "print(min(s, key = lambda d: d.get('age')).get('name'))\n",
    "print(max(s, key = lambda d: d.get('age'))['name'])"
   ]
  },
  {
   "cell_type": "code",
   "execution_count": 561,
   "metadata": {},
   "outputs": [
    {
     "name": "stdout",
     "output_type": "stream",
     "text": [
      "bhatti\n"
     ]
    }
   ],
   "source": [
    "s = {\n",
    "    'shaleem' : {'age' : 21,'score' : 60 },\n",
    "    'yuab'    : {'age' : 22,'score' : 77 },\n",
    "    'bhatti'  : {'age' : 23,'score' : 45 },\n",
    "}\n",
    "# keys are name and values are anothe dict\n",
    "# which have 2 keys and 2 values\n",
    "print(max(s,key = lambda d: s[d]['age'] ))"
   ]
  },
  {
   "cell_type": "code",
   "execution_count": 12,
   "metadata": {},
   "outputs": [
    {
     "data": {
      "text/plain": [
       "{'shaleem': {'age': {'yuab': [21, 21]}}}"
      ]
     },
     "execution_count": 12,
     "metadata": {},
     "output_type": "execute_result"
    }
   ],
   "source": [
    "s = {'shaleem' : {'age' : {'yuab' : 21} }}\n",
    "s['shaleem']['age']['yuab'] = [21,21]\n",
    "s"
   ]
  },
  {
   "cell_type": "markdown",
   "metadata": {},
   "source": [
    "# advance sorted()"
   ]
  },
  {
   "cell_type": "code",
   "execution_count": 14,
   "metadata": {},
   "outputs": [
    {
     "data": {
      "text/plain": [
       "[1, 2, 3, 5, 6, 7, 8]"
      ]
     },
     "execution_count": 14,
     "metadata": {},
     "output_type": "execute_result"
    }
   ],
   "source": [
    "l = [5,2,6,7,1,3,8]\n",
    "l.sort()\n",
    "l"
   ]
  },
  {
   "cell_type": "markdown",
   "metadata": {},
   "source": [
    "no sort method because tuples are immutable sort no sort function\n",
    "but we can use sorted() function with tuples so this function sort the tuple and store it in another variable and give us a list but it does not change the original one. same goes with sets"
   ]
  },
  {
   "cell_type": "code",
   "execution_count": 16,
   "metadata": {},
   "outputs": [
    {
     "name": "stdout",
     "output_type": "stream",
     "text": [
      "[1, 2, 3, 5, 6, 7, 8]\n",
      "(5, 2, 6, 7, 1, 3, 8)\n"
     ]
    }
   ],
   "source": [
    "t = (5,2,6,7,1,3,8)\n",
    "sort = sorted(t)\n",
    "print(sort)\n",
    "print(t)"
   ]
  },
  {
   "cell_type": "code",
   "execution_count": 36,
   "metadata": {},
   "outputs": [
    {
     "name": "stdout",
     "output_type": "stream",
     "text": [
      "{'mango', 'guava', 'apple', 'banana', 'peach'}\n",
      "['apple', 'banana', 'guava', 'mango', 'peach']\n"
     ]
    }
   ],
   "source": [
    "s = {'mango','apple','guava','banana','peach'}\n",
    "so = sorted(s)\n",
    "print(s)\n",
    "print(so)"
   ]
  },
  {
   "cell_type": "markdown",
   "metadata": {},
   "source": [
    "as we studied above in max and min function sorted function also takes a key in which we can pass a lambda function "
   ]
  },
  {
   "cell_type": "code",
   "execution_count": 23,
   "metadata": {},
   "outputs": [
    {
     "name": "stdout",
     "output_type": "stream",
     "text": [
      "name    : fx\n",
      "price    : 120000\n",
      "name    : alto\n",
      "price    : 700000\n",
      "name    : swift\n",
      "price    : 1300000\n",
      "name    : civic\n",
      "price    : 2300000\n"
     ]
    }
   ],
   "source": [
    "cars = [\n",
    "    {'name' : 'civic' , 'price' : 2300000 },\n",
    "    {'name' : 'alto' ,  'price' :  700000 },\n",
    "    {'name' : 'fx' ,    'price' :  120000 },\n",
    "    {'name' : 'swift' , 'price' : 1300000 },    \n",
    "]\n",
    "sort = sorted(cars, key = lambda l : l.get('price'))\n",
    "# for ascending\n",
    "for dictionary in sort:\n",
    "    for k,v in dictionary.items():\n",
    "        print(f\"{k}    : {v}\")"
   ]
  },
  {
   "cell_type": "code",
   "execution_count": 25,
   "metadata": {},
   "outputs": [
    {
     "name": "stdout",
     "output_type": "stream",
     "text": [
      "name    : civic\n",
      "price    : 2300000\n",
      "name    : swift\n",
      "price    : 1300000\n",
      "name    : alto\n",
      "price    : 700000\n",
      "name    : fx\n",
      "price    : 120000\n"
     ]
    }
   ],
   "source": [
    "cars = [\n",
    "    {'name' : 'civic' , 'price' : 2300000 },\n",
    "    {'name' : 'alto' ,  'price' :  700000 },\n",
    "    {'name' : 'fx' ,    'price' :  120000 },\n",
    "    {'name' : 'swift' , 'price' : 1300000 },    \n",
    "]\n",
    "sort = sorted(cars, key = lambda l : l.get('price'), reverse = True)\n",
    "# for decending because reverse = True\n",
    "for dictionary in sort:\n",
    "    for k,v in dictionary.items():\n",
    "        print(f\"{k}    : {v}\")"
   ]
  },
  {
   "cell_type": "markdown",
   "metadata": {},
   "source": [
    "# doc string and help function "
   ]
  },
  {
   "cell_type": "markdown",
   "metadata": {},
   "source": [
    "doc string help us to know that what task our function is going to be performing\n",
    "it is like comments"
   ]
  },
  {
   "cell_type": "code",
   "execution_count": 27,
   "metadata": {},
   "outputs": [
    {
     "name": "stdout",
     "output_type": "stream",
     "text": [
      "Return the number of items in a container.\n"
     ]
    }
   ],
   "source": [
    "print(len.__doc__)\n",
    "# so you see it tells us that number of items in container "
   ]
  },
  {
   "cell_type": "markdown",
   "metadata": {},
   "source": [
    "now when we define our own function we can also use doc string to tell our user that what our fun is going  to do"
   ]
  },
  {
   "cell_type": "code",
   "execution_count": 28,
   "metadata": {},
   "outputs": [
    {
     "name": "stdout",
     "output_type": "stream",
     "text": [
      "Return the sum of a 'start' value (default: 0) plus an iterable of numbers\n",
      "\n",
      "When the iterable is empty, return the start value.\n",
      "This function is intended specifically for use with numeric values and may\n",
      "reject non-numeric types.\n"
     ]
    }
   ],
   "source": [
    "print(sum.__doc__)"
   ]
  },
  {
   "cell_type": "markdown",
   "metadata": {},
   "source": [
    "it is ususally denoted by ''' d '''"
   ]
  },
  {
   "cell_type": "markdown",
   "metadata": {},
   "source": [
    "doc sting in our own function "
   ]
  },
  {
   "cell_type": "code",
   "execution_count": 31,
   "metadata": {},
   "outputs": [
    {
     "name": "stdout",
     "output_type": "stream",
     "text": [
      "6\n",
      " This funcion takes two argument and returns their sum \n"
     ]
    }
   ],
   "source": [
    "def add(a,b):\n",
    "    ''' This funcion takes two argument and returns their sum '''\n",
    "    return a + b\n",
    "print(add(3,3))\n",
    "print(add.__doc__)"
   ]
  },
  {
   "cell_type": "code",
   "execution_count": null,
   "metadata": {},
   "outputs": [],
   "source": []
  }
 ],
 "metadata": {
  "kernelspec": {
   "display_name": "Python 3",
   "language": "python",
   "name": "python3"
  },
  "language_info": {
   "codemirror_mode": {
    "name": "ipython",
    "version": 3
   },
   "file_extension": ".py",
   "mimetype": "text/x-python",
   "name": "python",
   "nbconvert_exporter": "python",
   "pygments_lexer": "ipython3",
   "version": "3.7.3"
  }
 },
 "nbformat": 4,
 "nbformat_minor": 2
}
