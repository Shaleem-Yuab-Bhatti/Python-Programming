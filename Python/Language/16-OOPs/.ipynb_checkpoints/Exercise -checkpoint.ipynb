{
 "cells": [
  {
   "cell_type": "markdown",
   "metadata": {},
   "source": [
    "# Exercise 1"
   ]
  },
  {
   "cell_type": "markdown",
   "metadata": {},
   "source": [
    "Tutorial 180"
   ]
  },
  {
   "cell_type": "markdown",
   "metadata": {},
   "source": [
    "Create a laptop class with attribute like brand name , model name , price \n",
    "create two objects/instance of your laptop class"
   ]
  },
  {
   "cell_type": "code",
   "execution_count": 1,
   "metadata": {},
   "outputs": [
    {
     "name": "stdout",
     "output_type": "stream",
     "text": [
      "y11b\n"
     ]
    }
   ],
   "source": [
    "class Laptop:\n",
    "    def __init__(self,brand_name,model_name,price):\n",
    "        self.brand_name = brand_name\n",
    "        self.model_name = model_name\n",
    "        self.price      = price\n",
    "l1 = Laptop('y11b',2017,25000)\n",
    "l2 = Laptop('y11c',2019,30000)\n",
    "print(l1.brand_name)"
   ]
  },
  {
   "cell_type": "markdown",
   "metadata": {},
   "source": [
    "you can also create 4 instance variable even after having 3 variables"
   ]
  },
  {
   "cell_type": "code",
   "execution_count": 27,
   "metadata": {},
   "outputs": [
    {
     "name": "stdout",
     "output_type": "stream",
     "text": [
      "apple macbook pro\n"
     ]
    }
   ],
   "source": [
    "class Laptop:\n",
    "    def __init__(self,brand,model,price):\n",
    "        self.brand    = brand\n",
    "        self.model    = model\n",
    "        self.price    = price\n",
    "        self.lap      = brand + \" \" + model\n",
    "# l1 = Laptop('y11b',2017,25000)\n",
    "l2 = Laptop('apple','macbook pro',30000)\n",
    "# print(l1.brand)\n",
    "print(l2.lap)"
   ]
  }
 ],
 "metadata": {
  "kernelspec": {
   "display_name": "Python 3",
   "language": "python",
   "name": "python3"
  },
  "language_info": {
   "codemirror_mode": {
    "name": "ipython",
    "version": 3
   },
   "file_extension": ".py",
   "mimetype": "text/x-python",
   "name": "python",
   "nbconvert_exporter": "python",
   "pygments_lexer": "ipython3",
   "version": "3.7.3"
  }
 },
 "nbformat": 4,
 "nbformat_minor": 2
}
