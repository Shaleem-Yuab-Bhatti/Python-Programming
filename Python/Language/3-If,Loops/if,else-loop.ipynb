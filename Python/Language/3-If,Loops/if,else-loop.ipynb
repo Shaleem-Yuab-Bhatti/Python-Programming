{
 "cells": [
  {
   "cell_type": "markdown",
   "metadata": {},
   "source": [
    "# Conditional Statements if else"
   ]
  },
  {
   "cell_type": "raw",
   "metadata": {},
   "source": [
    "syntax:\n",
    "       if conditon :\n",
    "            execute if condition is true"
   ]
  },
  {
   "cell_type": "code",
   "execution_count": 7,
   "metadata": {},
   "outputs": [
    {
     "name": "stdout",
     "output_type": "stream",
     "text": [
      "you are and adult\n"
     ]
    }
   ],
   "source": [
    "age = 22\n",
    "if age > 18:\n",
    "    print('you are and adult')"
   ]
  },
  {
   "cell_type": "markdown",
   "metadata": {},
   "source": [
    "pass Statement"
   ]
  },
  {
   "cell_type": "markdown",
   "metadata": {},
   "source": [
    "It is used to avoid genreration of errror.\n",
    "If we don't want to print anything simply use pass statement."
   ]
  },
  {
   "cell_type": "code",
   "execution_count": 15,
   "metadata": {},
   "outputs": [
    {
     "name": "stdout",
     "output_type": "stream",
     "text": [
      "Enter your name \n"
     ]
    }
   ],
   "source": [
    "name = input('Enter your name ')\n",
    "if name == '':\n",
    "    pass\n",
    "else:\n",
    "    print(name)\n",
    "    "
   ]
  },
  {
   "cell_type": "raw",
   "metadata": {},
   "source": [
    "Syntax:\n",
    "       if condition:   \n",
    "            exexute block  #  True\n",
    "       else:              # If if condition is false then else will execute\n",
    "            execute block"
   ]
  },
  {
   "cell_type": "code",
   "execution_count": 19,
   "metadata": {},
   "outputs": [
    {
     "name": "stdout",
     "output_type": "stream",
     "text": [
      "Enter num 12\n",
      "true\n"
     ]
    }
   ],
   "source": [
    "num = int(input('Enter num '))\n",
    "if num == 12:\n",
    "    print('true')\n",
    "else:\n",
    "    print('false')"
   ]
  },
  {
   "cell_type": "markdown",
   "metadata": {},
   "source": [
    "# and And or Operator"
   ]
  },
  {
   "cell_type": "code",
   "execution_count": 36,
   "metadata": {},
   "outputs": [
    {
     "name": "stdout",
     "output_type": "stream",
     "text": [
      "Enter name sfs\n",
      "Enter age 12\n",
      "type something\n"
     ]
    }
   ],
   "source": [
    "name = input('Enter name ')\n",
    "age  = int(input('Enter age '))\n",
    "if name == 'shaleem' and age == 18: \n",
    "    print('you name is {}  and age is {}'.format(name,age))\n",
    "else:\n",
    "    print('type something')"
   ]
  },
  {
   "cell_type": "markdown",
   "metadata": {},
   "source": [
    "if elif else statement"
   ]
  },
  {
   "cell_type": "raw",
   "metadata": {},
   "source": [
    "Show ticket pricing:\n",
    "                    1 to 3   (free)\n",
    "                    4 to 10  (150)\n",
    "                    11 to 60 (250)\n",
    "                    above 60 (200)"
   ]
  },
  {
   "cell_type": "code",
   "execution_count": 49,
   "metadata": {},
   "outputs": [
    {
     "name": "stdout",
     "output_type": "stream",
     "text": [
      "Enter your age : 74\n",
      "ticket price for you is 200\n"
     ]
    }
   ],
   "source": [
    "age = int(input('Enter your age : '))\n",
    "if 1<=age<=3:\n",
    "    print(\"you would not charged for watching movie\")\n",
    "elif 4<=age<=10:\n",
    "    print(\"ticket price for you is 150\")\n",
    "elif 11<= age<= 60:\n",
    "    print(\"ticket price for you is 250\")\n",
    "else:\n",
    "    print(\"ticket price for you is 200\")"
   ]
  },
  {
   "cell_type": "markdown",
   "metadata": {},
   "source": [
    "in keyword with if statement"
   ]
  },
  {
   "cell_type": "code",
   "execution_count": 55,
   "metadata": {},
   "outputs": [
    {
     "name": "stdout",
     "output_type": "stream",
     "text": [
      "Enter a string:shlaeem\n",
      "Enter a char to check in string:y\n",
      "y is not present in shlaeem\n"
     ]
    }
   ],
   "source": [
    "string = input('Enter a string:')\n",
    "char_to_check = input('Enter a char to check in string:')\n",
    "if char_to_check in string:  # in keyword\n",
    "    print(f\"{char_to_check} is present in {string}\")\n",
    "else:\n",
    "    print(f\"{char_to_check} is not present in {string}\")"
   ]
  },
  {
   "cell_type": "markdown",
   "metadata": {},
   "source": [
    "Check empty or not # most important thing. sometimes written in python"
   ]
  },
  {
   "cell_type": "code",
   "execution_count": 63,
   "metadata": {},
   "outputs": [
    {
     "name": "stdout",
     "output_type": "stream",
     "text": [
      "not empty\n"
     ]
    }
   ],
   "source": [
    "# check empty or not\n",
    "name = \"shaleem\"\n",
    "if name:  # this line, True if string is not empty and exe this block\n",
    "    print('not empty')\n",
    "else:\n",
    "    print('empty')"
   ]
  },
  {
   "cell_type": "markdown",
   "metadata": {},
   "source": [
    "# While loop"
   ]
  },
  {
   "cell_type": "code",
   "execution_count": 15,
   "metadata": {},
   "outputs": [
    {
     "name": "stdout",
     "output_type": "stream",
     "text": [
      "hello world\n",
      "hello world\n",
      "hello world\n",
      "hello world\n"
     ]
    }
   ],
   "source": [
    "i = 0\n",
    "while i < 4:\n",
    "    print(\"hello world\")\n",
    "    i += 1"
   ]
  },
  {
   "cell_type": "code",
   "execution_count": 28,
   "metadata": {},
   "outputs": [
    {
     "name": "stdout",
     "output_type": "stream",
     "text": [
      "55\n"
     ]
    }
   ],
   "source": [
    "s = 0\n",
    "i = 1\n",
    "while i <= 10:\n",
    "    s  += i\n",
    "    i  += 1\n",
    "print(s)"
   ]
  },
  {
   "cell_type": "code",
   "execution_count": 33,
   "metadata": {},
   "outputs": [
    {
     "name": "stdout",
     "output_type": "stream",
     "text": [
      "Enter a number 123\n",
      "6\n"
     ]
    }
   ],
   "source": [
    "n = input(\"Enter a number \")\n",
    "total = 0\n",
    "i = 0     # using indexing\n",
    "while i < len(n):\n",
    "    total += int(n[i])\n",
    "    i += 1\n",
    "print(total)"
   ]
  },
  {
   "cell_type": "code",
   "execution_count": 34,
   "metadata": {},
   "outputs": [
    {
     "name": "stdout",
     "output_type": "stream",
     "text": [
      "Enter a number 123\n",
      "6\n"
     ]
    }
   ],
   "source": [
    "n = input(\"Enter a number \")\n",
    "total = 0\n",
    "i = 1      # without using indexing\n",
    "while i <= len(n):\n",
    "    total += int(i)\n",
    "    i += 1\n",
    "print(total)"
   ]
  },
  {
   "cell_type": "markdown",
   "metadata": {},
   "source": [
    "# for loop"
   ]
  },
  {
   "cell_type": "code",
   "execution_count": 5,
   "metadata": {},
   "outputs": [
    {
     "name": "stdout",
     "output_type": "stream",
     "text": [
      "hello world\n",
      "hello world\n",
      "hello world\n",
      "hello world\n"
     ]
    }
   ],
   "source": [
    "for i in range(4):\n",
    "    print(\"hello world\")"
   ]
  },
  {
   "cell_type": "code",
   "execution_count": 17,
   "metadata": {},
   "outputs": [
    {
     "name": "stdout",
     "output_type": "stream",
     "text": [
      "55\n"
     ]
    }
   ],
   "source": [
    "sum_ = 0      # tutorial 56\n",
    "for i in range(1,11):\n",
    "    sum_ += i\n",
    "print(sum_)"
   ]
  },
  {
   "cell_type": "code",
   "execution_count": 25,
   "metadata": {},
   "outputs": [
    {
     "name": "stdout",
     "output_type": "stream",
     "text": [
      "Enter a number : 1256\n",
      "14\n"
     ]
    }
   ],
   "source": [
    "n = input(\"Enter a number : \")   # 57\n",
    "total = 0\n",
    "for i in n:\n",
    "    total += int(i)\n",
    "print(total)"
   ]
  },
  {
   "cell_type": "code",
   "execution_count": 21,
   "metadata": {},
   "outputs": [
    {
     "name": "stdout",
     "output_type": "stream",
     "text": [
      "6\n"
     ]
    }
   ],
   "source": [
    "n = (1,2,3)  # 57 BECAUSE ITS A TUPLE AND TUPLE IS ITERABLE\n",
    "total = 0\n",
    "for i in n:\n",
    "    total += i\n",
    "print(total)"
   ]
  },
  {
   "cell_type": "code",
   "execution_count": 24,
   "metadata": {},
   "outputs": [],
   "source": [
    "n = int(input(\"Enter a number \"))\n",
    "total = 0\n",
    "for i in n:\n",
    "    total += i\n",
    "print(total)    # error because int is not iterable but iterator"
   ]
  },
  {
   "cell_type": "raw",
   "metadata": {},
   "source": [
    "range fun used"
   ]
  },
  {
   "cell_type": "code",
   "execution_count": 27,
   "metadata": {},
   "outputs": [
    {
     "name": "stdout",
     "output_type": "stream",
     "text": [
      "Enter a number 123\n",
      "6\n"
     ]
    }
   ],
   "source": [
    "n = input(\"Enter a number \")\n",
    "total = 0\n",
    "for i in range(len(n)):\n",
    "    total += int(n[i])\n",
    "print(total)\n",
    "    "
   ]
  },
  {
   "cell_type": "markdown",
   "metadata": {},
   "source": [
    "# Break and Continue Statement"
   ]
  },
  {
   "cell_type": "markdown",
   "metadata": {},
   "source": [
    "Use to break the loop or to end the loop"
   ]
  },
  {
   "cell_type": "code",
   "execution_count": 1,
   "metadata": {},
   "outputs": [
    {
     "name": "stdout",
     "output_type": "stream",
     "text": [
      "1\n",
      "2\n",
      "3\n",
      "4\n"
     ]
    }
   ],
   "source": [
    "for i in range(1,11):\n",
    "    if i == 5:\n",
    "        break\n",
    "    print(i)\n",
    "    \n",
    "    "
   ]
  },
  {
   "cell_type": "markdown",
   "metadata": {},
   "source": [
    "continue is used to continue except the specific thing."
   ]
  },
  {
   "cell_type": "code",
   "execution_count": 5,
   "metadata": {},
   "outputs": [
    {
     "name": "stdout",
     "output_type": "stream",
     "text": [
      "1\n",
      "2\n",
      "4\n",
      "5\n"
     ]
    }
   ],
   "source": [
    "for i in range(1,6):\n",
    "    if i == 3:\n",
    "        continue\n",
    "    print(i)"
   ]
  },
  {
   "cell_type": "code",
   "execution_count": null,
   "metadata": {},
   "outputs": [],
   "source": []
  }
 ],
 "metadata": {
  "kernelspec": {
   "display_name": "Python 3",
   "language": "python",
   "name": "python3"
  },
  "language_info": {
   "codemirror_mode": {
    "name": "ipython",
    "version": 3
   },
   "file_extension": ".py",
   "mimetype": "text/x-python",
   "name": "python",
   "nbconvert_exporter": "python",
   "pygments_lexer": "ipython3",
   "version": "3.7.3"
  }
 },
 "nbformat": 4,
 "nbformat_minor": 2
}
