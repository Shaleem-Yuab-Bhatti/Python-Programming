{
 "cells": [
  {
   "cell_type": "markdown",
   "metadata": {},
   "source": [
    "# Exercise 1"
   ]
  },
  {
   "cell_type": "markdown",
   "metadata": {},
   "source": [
    "Tutorial 174"
   ]
  },
  {
   "cell_type": "markdown",
   "metadata": {},
   "source": [
    "define generator function take one number as argument and generate a number of sequence of even number"
   ]
  },
  {
   "cell_type": "code",
   "execution_count": 11,
   "metadata": {},
   "outputs": [
    {
     "name": "stdout",
     "output_type": "stream",
     "text": [
      "2\n",
      "4\n",
      "6\n",
      "8\n"
     ]
    }
   ],
   "source": [
    "def generator(n):\n",
    "    for i in range(1,n+1):\n",
    "        if i%2==0:\n",
    "            yield i\n",
    "number = generator(8)\n",
    "for i in number:\n",
    "    print(i)\n",
    "for i in number:\n",
    "    print(i)\n",
    "    \n",
    "#  loop 1 time"
   ]
  },
  {
   "cell_type": "code",
   "execution_count": 15,
   "metadata": {},
   "outputs": [
    {
     "name": "stdout",
     "output_type": "stream",
     "text": [
      "2\n",
      "4\n",
      "6\n",
      "8\n",
      "2\n",
      "4\n",
      "6\n",
      "8\n"
     ]
    }
   ],
   "source": [
    "def generator(n):\n",
    "    for i in range(1,n+1):\n",
    "        if i%2==0:\n",
    "            yield i\n",
    "for i in generator(8):\n",
    "    print(i)\n",
    "for i in generator(8):\n",
    "    print(i)"
   ]
  },
  {
   "cell_type": "markdown",
   "metadata": {},
   "source": [
    "tou upper dekha ka direct generate krny say jitny marzi dfa print ho rha hai but jab generator ko variable mai store kr k 1 time say zayada nhi iterate hota "
   ]
  },
  {
   "cell_type": "markdown",
   "metadata": {},
   "source": [
    "because jab hum variable mai store kr dety hain tou wo jitna bhi generate hua hota hai wo variable mai store ho jata hai tou hum stored ko use krty hain but jub hum direct loop lagaty hain tou wo direct generate he wahan ho rha hota hai es liye us mai values hoti hai to wo bar bar iterate ho skta hai"
   ]
  },
  {
   "cell_type": "markdown",
   "metadata": {},
   "source": [
    "# Generator Comprehension"
   ]
  },
  {
   "cell_type": "code",
   "execution_count": 17,
   "metadata": {},
   "outputs": [
    {
     "name": "stdout",
     "output_type": "stream",
     "text": [
      "[1, 4, 9, 16, 25, 36, 49, 64, 81, 100]\t"
     ]
    }
   ],
   "source": [
    "square = [i**2 for i in range(1,11)]\n",
    "print(square,end='\\t')"
   ]
  },
  {
   "cell_type": "markdown",
   "metadata": {},
   "source": [
    "bs square brackets gayb kr dena hai"
   ]
  },
  {
   "cell_type": "code",
   "execution_count": 21,
   "metadata": {},
   "outputs": [
    {
     "name": "stdout",
     "output_type": "stream",
     "text": [
      "<generator object <genexpr> at 0x0000000236B5E228>\t"
     ]
    }
   ],
   "source": [
    "square = (i**2 for i in range(1,11))\n",
    "print(square,end='\\t')"
   ]
  },
  {
   "cell_type": "markdown",
   "metadata": {},
   "source": [
    "but ku k mai ny esy var mai store krwaya hai tou ye 1 time iterate kry ga"
   ]
  },
  {
   "cell_type": "code",
   "execution_count": 24,
   "metadata": {},
   "outputs": [
    {
     "name": "stdout",
     "output_type": "stream",
     "text": [
      "1\n",
      "4\n",
      "9\n",
      "16\n",
      "25\n",
      "36\n",
      "49\n",
      "64\n",
      "81\n",
      "100\n"
     ]
    }
   ],
   "source": [
    "square = (i**2 for i in range(1,11))\n",
    "for i in square:\n",
    "    print(i)\n",
    "for i in square:\n",
    "    print(i)"
   ]
  },
  {
   "cell_type": "markdown",
   "metadata": {},
   "source": [
    "  generator comprehension bilkul list comprehension hai bs square ki jaga paranthesis lagani hai"
   ]
  },
  {
   "cell_type": "markdown",
   "metadata": {},
   "source": [
    "# list vs Generator"
   ]
  },
  {
   "cell_type": "code",
   "execution_count": 47,
   "metadata": {},
   "outputs": [
    {
     "name": "stdout",
     "output_type": "stream",
     "text": [
      "6.780534505844116\n",
      "0.0010006427764892578\n"
     ]
    }
   ],
   "source": [
    "import time\n",
    "t1 = time.time()\n",
    "l = [i**2 for i in range(1,10000000)]\n",
    "t2 = time.time()\n",
    "t3 = time.time()\n",
    "g = (i**2 for i in range(1,10000000))\n",
    "t4 = time.time()\n",
    "Ti = t2-t1\n",
    "Tf = t4-t3\n",
    "print(Ti)\n",
    "print(Tf)"
   ]
  },
  {
   "cell_type": "markdown",
   "metadata": {},
   "source": [
    "list tab banani hai jb hum ny kush store krwa kr rakhna ho aur future mai use krna ho like agar hum apni application bna rhy ho to do list ki jis mai user add bhi kr skta hai aur remove bhi tou tabb list"
   ]
  },
  {
   "cell_type": "markdown",
   "metadata": {},
   "source": [
    "aisy sequence jo bar bar use nhi krna tou generators"
   ]
  },
  {
   "cell_type": "code",
   "execution_count": null,
   "metadata": {},
   "outputs": [],
   "source": []
  }
 ],
 "metadata": {
  "kernelspec": {
   "display_name": "Python 3",
   "language": "python",
   "name": "python3"
  },
  "language_info": {
   "codemirror_mode": {
    "name": "ipython",
    "version": 3
   },
   "file_extension": ".py",
   "mimetype": "text/x-python",
   "name": "python",
   "nbconvert_exporter": "python",
   "pygments_lexer": "ipython3",
   "version": "3.7.3"
  }
 },
 "nbformat": 4,
 "nbformat_minor": 2
}
