{
 "cells": [
  {
   "cell_type": "markdown",
   "metadata": {},
   "source": [
    "# Generator"
   ]
  },
  {
   "cell_type": "markdown",
   "metadata": {},
   "source": [
    "generators are iterators ---> int"
   ]
  },
  {
   "cell_type": "markdown",
   "metadata": {},
   "source": [
    "map function return iterator"
   ]
  },
  {
   "cell_type": "markdown",
   "metadata": {},
   "source": [
    "iterable per pehlay iter function call hota hai aur jo return hota hai us per next function call hota hai aur return mai answer milta hai but iterator per iter function call nhi hota us per direct next call hota hai"
   ]
  },
  {
   "cell_type": "code",
   "execution_count": 31,
   "metadata": {},
   "outputs": [
    {
     "name": "stdout",
     "output_type": "stream",
     "text": [
      "1\n",
      "4\n",
      "9\n",
      "16\n"
     ]
    }
   ],
   "source": [
    "l = [ 1,2,3,4]\n",
    "x = map(lambda a : a**2,l)\n",
    "for i in x:\n",
    "    print(i)\n",
    "for i in x:\n",
    "    print(i)\n",
    "\n",
    "# dekho aik baar he loop chl rha  hai\n",
    "\n",
    "# for i in l:\n",
    "#     print(i)\n",
    "# for i in l:\n",
    "#     print(i)\n",
    "#     dekho jitny dafa loop likha hai utni dfa chl rah hai"
   ]
  },
  {
   "cell_type": "markdown",
   "metadata": {},
   "source": [
    "list 1 sequence hai but wo iterable hai \n",
    "\n",
    "same aisy he generators bhi 1 sequence hai but wo iterator hai"
   ]
  },
  {
   "cell_type": "markdown",
   "metadata": {},
   "source": [
    "jb list bhi 1 sequence hai aur generator bhi 1 sequence hai tou phir list he ku na use ki jaye generator kyu use hota hai ?\n",
    "\n",
    "list jab banti hai tou memory mai store ho jati hai poori ki poori\n",
    "\n",
    "l = [1,2,3,4,5]\n",
    "\n",
    "but generator mai aisa nhi hota generator mai 1,1 generate hota hai aur memory mai store ho jata hai like pehlay 1, jab 1 use kr liya tou wo memory say gayb ho jata hai sur us ki jaga dusra element aa jata hai. jis ko hum use kr skty hain."
   ]
  },
  {
   "cell_type": "markdown",
   "metadata": {},
   "source": [
    "so generator say memory kam use ho gy aur performance mai increase aye ga"
   ]
  },
  {
   "cell_type": "markdown",
   "metadata": {},
   "source": [
    "jab hum ny apnay sequence ko barbar use krna hai tou list use karenge\n",
    "else if 1 bar use karenge tou generator"
   ]
  },
  {
   "cell_type": "markdown",
   "metadata": {},
   "source": [
    "# Write first Generator"
   ]
  },
  {
   "cell_type": "code",
   "execution_count": 34,
   "metadata": {},
   "outputs": [
    {
     "name": "stdout",
     "output_type": "stream",
     "text": [
      "1\n",
      "2\n",
      "3\n",
      "4\n",
      "5\n",
      "6\n",
      "7\n",
      "8\n",
      "9\n",
      "10\n"
     ]
    }
   ],
   "source": [
    "def ten(k):\n",
    "    for i in range(1,k+1):\n",
    "        print(i)\n",
    "ten(10)"
   ]
  },
  {
   "cell_type": "markdown",
   "metadata": {},
   "source": [
    "to write a generator you must use yield keyword"
   ]
  },
  {
   "cell_type": "code",
   "execution_count": 35,
   "metadata": {},
   "outputs": [
    {
     "data": {
      "text/plain": [
       "<generator object ten at 0x0000006409D42930>"
      ]
     },
     "execution_count": 35,
     "metadata": {},
     "output_type": "execute_result"
    }
   ],
   "source": [
    "def ten(k):\n",
    "    for i in range(1,k+1):\n",
    "        yield i\n",
    "ten(10)"
   ]
  },
  {
   "cell_type": "code",
   "execution_count": 45,
   "metadata": {},
   "outputs": [
    {
     "name": "stdout",
     "output_type": "stream",
     "text": [
      "<generator object ten at 0x0000006409D427C8>\n",
      "1\n",
      "2\n",
      "3\n",
      "4\n",
      "5\n",
      "6\n",
      "7\n",
      "8\n",
      "9\n",
      "10\n"
     ]
    }
   ],
   "source": [
    "def ten(k):\n",
    "    for i in range(1,k+1):\n",
    "        yield i\n",
    "n = ten(10)\n",
    "print(n)\n",
    "for i in n:\n",
    "    print(i)\n",
    "for i in n:\n",
    "    print(i)"
   ]
  },
  {
   "cell_type": "markdown",
   "metadata": {},
   "source": [
    "2 times loop nhi chl rha ku k aik bar hum ny generated ko use kr liyan hain ab memory khali hai. ye convert ho skti hai list mai using list fun\n",
    "but phir es ka koi faida nhi ho ga ku k ye "
   ]
  },
  {
   "cell_type": "code",
   "execution_count": null,
   "metadata": {},
   "outputs": [],
   "source": []
  }
 ],
 "metadata": {
  "kernelspec": {
   "display_name": "Python 3",
   "language": "python",
   "name": "python3"
  },
  "language_info": {
   "codemirror_mode": {
    "name": "ipython",
    "version": 3
   },
   "file_extension": ".py",
   "mimetype": "text/x-python",
   "name": "python",
   "nbconvert_exporter": "python",
   "pygments_lexer": "ipython3",
   "version": "3.7.3"
  }
 },
 "nbformat": 4,
 "nbformat_minor": 2
}
