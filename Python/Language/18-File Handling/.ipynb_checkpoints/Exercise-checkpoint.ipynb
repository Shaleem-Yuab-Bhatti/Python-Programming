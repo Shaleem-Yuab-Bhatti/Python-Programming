{
 "cells": [
  {
   "cell_type": "code",
   "execution_count": 34,
   "metadata": {},
   "outputs": [
    {
     "name": "stdout",
     "output_type": "stream",
     "text": [
      "shaleem\n",
      "100\n",
      "\n",
      "yuab\n",
      "200\n",
      "\n",
      "bhatti\n",
      "300\n"
     ]
    }
   ],
   "source": [
    "with open(r'C:\\Users\\Shaleem Yuab Bhatti\\Desktop\\new\\second.txt','r') as rf:\n",
    "    with open(r'C:\\Users\\Shaleem Yuab Bhatti\\Desktop\\new\\first.txt','w') as wf:\n",
    "        for line in rf.readlines():\n",
    "            a,b = line.split(',')\n",
    "            "
   ]
  },
  {
   "cell_type": "code",
   "execution_count": null,
   "metadata": {},
   "outputs": [],
   "source": []
  }
 ],
 "metadata": {
  "kernelspec": {
   "display_name": "Python 3",
   "language": "python",
   "name": "python3"
  },
  "language_info": {
   "codemirror_mode": {
    "name": "ipython",
    "version": 3
   },
   "file_extension": ".py",
   "mimetype": "text/x-python",
   "name": "python",
   "nbconvert_exporter": "python",
   "pygments_lexer": "ipython3",
   "version": "3.7.3"
  }
 },
 "nbformat": 4,
 "nbformat_minor": 2
}
