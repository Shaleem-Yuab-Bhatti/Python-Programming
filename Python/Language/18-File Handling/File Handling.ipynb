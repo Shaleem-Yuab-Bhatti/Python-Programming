{
 "cells": [
  {
   "cell_type": "markdown",
   "metadata": {},
   "source": [
    "some methods"
   ]
  },
  {
   "cell_type": "raw",
   "metadata": {},
   "source": [
    ".read()\n",
    "                 to print everything in file\n",
    "open() function\n",
    "                to open and read,write,append\n",
    ".readline()\n",
    "            read line 1 by 1\n",
    ".readlines()\n",
    "             return the line in list and consider each line as 1 string\n",
    ".tell()          \n",
    "         tells the position of the cursor\n",
    ".seek()\n",
    "        to change the position of the cursor\n",
    "        ye print nhi krwaty blky bs position change krty hai agar dubara           wohi line print krwani hai tou\n",
    ".close()\n",
    "          should be used after reading file\n",
    "data descriptors:    \n",
    "                 name\n",
    "                 closed"
   ]
  },
  {
   "cell_type": "code",
   "execution_count": 170,
   "metadata": {
    "scrolled": true
   },
   "outputs": [
    {
     "name": "stdout",
     "output_type": "stream",
     "text": [
      "i am interested to learn new technologies like react , django, docker , flask, jenkins\n",
      "ansible,terraform,postgress,mongo,mysql,jira,UI/UX,react native,\n",
      "\n",
      "i am interested to learn new technologies like react , django, docker , flask, jenkins\n",
      "ansible,terraform,postgress,mongo,mysql,jira,UI/UX,react native,\n",
      "152\n"
     ]
    }
   ],
   "source": [
    "f = open(r'E:\\new\\ssns.txt')\n",
    "lines = f.readlines()\n",
    "for line in lines:\n",
    "    print(line,end='')\n",
    "print('\\n')\n",
    "f.seek(0)\n",
    "print(f.read())\n",
    "print(f.tell())\n",
    "f.close()"
   ]
  },
  {
   "cell_type": "markdown",
   "metadata": {},
   "source": [
    "# reading files using with keyword"
   ]
  },
  {
   "cell_type": "markdown",
   "metadata": {},
   "source": [
    "popular syntax . no need to close it will mange itself"
   ]
  },
  {
   "cell_type": "code",
   "execution_count": 173,
   "metadata": {},
   "outputs": [
    {
     "name": "stdout",
     "output_type": "stream",
     "text": [
      "i am interested to learn new technologies like react , django, docker , flask, jenkins\n",
      "ansible,terraform,postgress,mongo,mysql,jira,UI/UX,react native,\n"
     ]
    }
   ],
   "source": [
    "with open(r'E:\\new\\ssns.txt') as f:\n",
    "    data = f.read()\n",
    "    print(data)"
   ]
  },
  {
   "cell_type": "code",
   "execution_count": 222,
   "metadata": {},
   "outputs": [],
   "source": [
    "# with open(r'file.txt','w') as f:\n",
    "#     f.write('i am a programmer')\n"
   ]
  },
  {
   "cell_type": "markdown",
   "metadata": {},
   "source": [
    "'w' mode tabb use krna chahiye jb hamari file pehly say empty ho ya phir us mai pehlay say kuch likha hai tou aap chahty hain k wo delete ho jaye aur dusra kcuch likhy"
   ]
  },
  {
   "cell_type": "markdown",
   "metadata": {},
   "source": [
    "w mode use krny say new file khud bn skti hai"
   ]
  },
  {
   "cell_type": "markdown",
   "metadata": {},
   "source": [
    "ab agar hum chahty hai k hamari file mai jo data hai wo likha rhay aur us k agay say likhna start kry tou append mode use karenge 'a'"
   ]
  },
  {
   "cell_type": "markdown",
   "metadata": {},
   "source": [
    "if we want to read the file then we have to use r mode but in case of writing to file we use w,a,r+ modes"
   ]
  },
  {
   "cell_type": "raw",
   "metadata": {},
   "source": [
    "w  : is use to write to file. it should be used when the file is empty          other wise it will override the content already have been written in      the file. it also creates new file\n",
    "     we can use write method with \"w\" mode.\n",
    "a  : mode is also used to write to file. it does not override the written      content instead it starts writing where the written content ends.\n",
    "\n",
    "r+ : is used to do both read and write . if we write the name of file that      does not exist in our folder then unlike \"w\" and \"a\" mode \"r+\" mode        does not make a file.\n",
    "     r+ mode starts writing from beginning . and it overrides the content\n",
    "     \n",
    "     jitny character hum likhenge utny characters ye override kr dy jo          hamaray pehly likhy thay un ko"
   ]
  },
  {
   "cell_type": "code",
   "execution_count": 23,
   "metadata": {},
   "outputs": [],
   "source": [
    "with open(r'file.txt','w') as f:\n",
    "    f.write('hello shaleem\\nhow are you\\nis everything okay\\n')"
   ]
  },
  {
   "cell_type": "code",
   "execution_count": 29,
   "metadata": {},
   "outputs": [],
   "source": [
    "with open(r'file.txt','a') as f:\n",
    "    f.write('i hope everything is fine\\nand you are doing well\\n')"
   ]
  },
  {
   "cell_type": "code",
   "execution_count": 27,
   "metadata": {},
   "outputs": [],
   "source": [
    "with open() as f:"
   ]
  },
  {
   "cell_type": "code",
   "execution_count": 1,
   "metadata": {},
   "outputs": [
    {
     "name": "stdout",
     "output_type": "stream",
     "text": [
      "hello wor\n"
     ]
    }
   ],
   "source": [
    "print('hello wor')"
   ]
  },
  {
   "cell_type": "code",
   "execution_count": 2,
   "metadata": {},
   "outputs": [],
   "source": [
    "with open(r'C:\\Users\\Shaleem Yuab Bhatti\\Desktop\\new\\second.txt','r') as rf:\n",
    "    with open(r'C:\\Users\\Shaleem Yuab Bhatti\\Desktop\\new\\first.txt','w') as wf:\n",
    "        for line in rf.readlines():\n",
    "            name,sal = line.split(',')\n",
    "            wf.write(f\"{name}\\'s salary is {sal}\")"
   ]
  }
 ],
 "metadata": {
  "kernelspec": {
   "display_name": "Python 3",
   "language": "python",
   "name": "python3"
  },
  "language_info": {
   "codemirror_mode": {
    "name": "ipython",
    "version": 3
   },
   "file_extension": ".py",
   "mimetype": "text/x-python",
   "name": "python",
   "nbconvert_exporter": "python",
   "pygments_lexer": "ipython3",
   "version": "3.7.3"
  }
 },
 "nbformat": 4,
 "nbformat_minor": 2
}
