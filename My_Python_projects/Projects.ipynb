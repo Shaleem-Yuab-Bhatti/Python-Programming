{
 "cells": [
  {
   "cell_type": "markdown",
   "metadata": {},
   "source": [
    "# Name Guessing Game"
   ]
  },
  {
   "cell_type": "markdown",
   "metadata": {},
   "source": [
    "Without Using function"
   ]
  },
  {
   "cell_type": "code",
   "execution_count": null,
   "metadata": {},
   "outputs": [],
   "source": [
    "retries = 3\n",
    "guess = 1\n",
    "logic = False\n",
    "while not logic:\n",
    "    name = input(\"Guess name of Celebrity : \")\n",
    "    if name == 'Keanu Reeves':\n",
    "        print(f'You Win in {guess} times')\n",
    "        logic = True\n",
    "    else:\n",
    "        retries -= 1\n",
    "        if retries == 0:\n",
    "            logic = True\n",
    "        print(f\"Try Again... only {retries} tries left\")\n",
    "    guess += 1"
   ]
  },
  {
   "cell_type": "markdown",
   "metadata": {},
   "source": [
    "Using function"
   ]
  },
  {
   "cell_type": "code",
   "execution_count": null,
   "metadata": {},
   "outputs": [],
   "source": [
    "def c_name(retries = 3):\n",
    "    guess = 1\n",
    "    logic = False\n",
    "    while not logic:\n",
    "        name = input(\"Guess name of Celebrity : \")\n",
    "        if name == 'Keanu Reeves':\n",
    "            print(f'You Win in {guess} times')\n",
    "            logic = True\n",
    "        else:\n",
    "            retries -= 1\n",
    "            if retries == 0:\n",
    "                logic = True\n",
    "            print(f\"Try Again... only {retries} tries left\")\n",
    "        guess += 1\n",
    "c_name()"
   ]
  },
  {
   "cell_type": "code",
   "execution_count": null,
   "metadata": {},
   "outputs": [],
   "source": []
  }
 ],
 "metadata": {
  "kernelspec": {
   "display_name": "Python 3",
   "language": "python",
   "name": "python3"
  },
  "language_info": {
   "codemirror_mode": {
    "name": "ipython",
    "version": 3
   },
   "file_extension": ".py",
   "mimetype": "text/x-python",
   "name": "python",
   "nbconvert_exporter": "python",
   "pygments_lexer": "ipython3",
   "version": "3.7.3"
  }
 },
 "nbformat": 4,
 "nbformat_minor": 2
}
